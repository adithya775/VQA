{
  "nbformat": 4,
  "nbformat_minor": 0,
  "metadata": {
    "colab": {
      "name": "VQA_Spacy.ipynb",
      "provenance": [],
      "collapsed_sections": []
    },
    "kernelspec": {
      "display_name": "Python 3",
      "name": "python3"
    }
  },
  "cells": [
    {
      "cell_type": "markdown",
      "metadata": {
        "id": "DO1CrHUDm2Mj"
      },
      "source": [
        "STEP-1 Installing required libraries"
      ]
    },
    {
      "cell_type": "code",
      "metadata": {
        "id": "QUhG3OjdTzMX",
        "colab": {
          "base_uri": "https://localhost:8080/"
        },
        "outputId": "346c0356-69af-425d-d882-737afebe2940"
      },
      "source": [
        "#required packages version for tensorflow and keras\n",
        "%pip install tensorflow==1.13.1\n",
        "!pip install keras==2.1.0"
      ],
      "execution_count": 1,
      "outputs": [
        {
          "output_type": "stream",
          "text": [
            "Collecting tensorflow==1.13.1\n",
            "\u001b[?25l  Downloading https://files.pythonhosted.org/packages/77/63/a9fa76de8dffe7455304c4ed635be4aa9c0bacef6e0633d87d5f54530c5c/tensorflow-1.13.1-cp36-cp36m-manylinux1_x86_64.whl (92.5MB)\n",
            "\u001b[K     |████████████████████████████████| 92.5MB 59kB/s \n",
            "\u001b[?25hCollecting tensorflow-estimator<1.14.0rc0,>=1.13.0\n",
            "\u001b[?25l  Downloading https://files.pythonhosted.org/packages/bb/48/13f49fc3fa0fdf916aa1419013bb8f2ad09674c275b4046d5ee669a46873/tensorflow_estimator-1.13.0-py2.py3-none-any.whl (367kB)\n",
            "\u001b[K     |████████████████████████████████| 368kB 39.2MB/s \n",
            "\u001b[?25hRequirement already satisfied: keras-preprocessing>=1.0.5 in /usr/local/lib/python3.6/dist-packages (from tensorflow==1.13.1) (1.1.2)\n",
            "Requirement already satisfied: grpcio>=1.8.6 in /usr/local/lib/python3.6/dist-packages (from tensorflow==1.13.1) (1.32.0)\n",
            "Requirement already satisfied: protobuf>=3.6.1 in /usr/local/lib/python3.6/dist-packages (from tensorflow==1.13.1) (3.12.4)\n",
            "Requirement already satisfied: astor>=0.6.0 in /usr/local/lib/python3.6/dist-packages (from tensorflow==1.13.1) (0.8.1)\n",
            "Requirement already satisfied: numpy>=1.13.3 in /usr/local/lib/python3.6/dist-packages (from tensorflow==1.13.1) (1.19.4)\n",
            "Collecting tensorboard<1.14.0,>=1.13.0\n",
            "\u001b[?25l  Downloading https://files.pythonhosted.org/packages/0f/39/bdd75b08a6fba41f098b6cb091b9e8c7a80e1b4d679a581a0ccd17b10373/tensorboard-1.13.1-py3-none-any.whl (3.2MB)\n",
            "\u001b[K     |████████████████████████████████| 3.2MB 51.7MB/s \n",
            "\u001b[?25hRequirement already satisfied: gast>=0.2.0 in /usr/local/lib/python3.6/dist-packages (from tensorflow==1.13.1) (0.3.3)\n",
            "Collecting keras-applications>=1.0.6\n",
            "\u001b[?25l  Downloading https://files.pythonhosted.org/packages/71/e3/19762fdfc62877ae9102edf6342d71b28fbfd9dea3d2f96a882ce099b03f/Keras_Applications-1.0.8-py3-none-any.whl (50kB)\n",
            "\u001b[K     |████████████████████████████████| 51kB 6.9MB/s \n",
            "\u001b[?25hRequirement already satisfied: wheel>=0.26 in /usr/local/lib/python3.6/dist-packages (from tensorflow==1.13.1) (0.36.2)\n",
            "Requirement already satisfied: termcolor>=1.1.0 in /usr/local/lib/python3.6/dist-packages (from tensorflow==1.13.1) (1.1.0)\n",
            "Requirement already satisfied: absl-py>=0.1.6 in /usr/local/lib/python3.6/dist-packages (from tensorflow==1.13.1) (0.10.0)\n",
            "Requirement already satisfied: six>=1.10.0 in /usr/local/lib/python3.6/dist-packages (from tensorflow==1.13.1) (1.15.0)\n",
            "Collecting mock>=2.0.0\n",
            "  Downloading https://files.pythonhosted.org/packages/5c/03/b7e605db4a57c0f6fba744b11ef3ddf4ddebcada35022927a2b5fc623fdf/mock-4.0.3-py3-none-any.whl\n",
            "Requirement already satisfied: setuptools in /usr/local/lib/python3.6/dist-packages (from protobuf>=3.6.1->tensorflow==1.13.1) (51.1.1)\n",
            "Requirement already satisfied: markdown>=2.6.8 in /usr/local/lib/python3.6/dist-packages (from tensorboard<1.14.0,>=1.13.0->tensorflow==1.13.1) (3.3.3)\n",
            "Requirement already satisfied: werkzeug>=0.11.15 in /usr/local/lib/python3.6/dist-packages (from tensorboard<1.14.0,>=1.13.0->tensorflow==1.13.1) (1.0.1)\n",
            "Requirement already satisfied: h5py in /usr/local/lib/python3.6/dist-packages (from keras-applications>=1.0.6->tensorflow==1.13.1) (2.10.0)\n",
            "Requirement already satisfied: importlib-metadata; python_version < \"3.8\" in /usr/local/lib/python3.6/dist-packages (from markdown>=2.6.8->tensorboard<1.14.0,>=1.13.0->tensorflow==1.13.1) (3.3.0)\n",
            "Requirement already satisfied: zipp>=0.5 in /usr/local/lib/python3.6/dist-packages (from importlib-metadata; python_version < \"3.8\"->markdown>=2.6.8->tensorboard<1.14.0,>=1.13.0->tensorflow==1.13.1) (3.4.0)\n",
            "Requirement already satisfied: typing-extensions>=3.6.4; python_version < \"3.8\" in /usr/local/lib/python3.6/dist-packages (from importlib-metadata; python_version < \"3.8\"->markdown>=2.6.8->tensorboard<1.14.0,>=1.13.0->tensorflow==1.13.1) (3.7.4.3)\n",
            "Installing collected packages: mock, tensorflow-estimator, tensorboard, keras-applications, tensorflow\n",
            "  Found existing installation: tensorflow-estimator 2.4.0\n",
            "    Uninstalling tensorflow-estimator-2.4.0:\n",
            "      Successfully uninstalled tensorflow-estimator-2.4.0\n",
            "  Found existing installation: tensorboard 2.4.0\n",
            "    Uninstalling tensorboard-2.4.0:\n",
            "      Successfully uninstalled tensorboard-2.4.0\n",
            "  Found existing installation: tensorflow 2.4.0\n",
            "    Uninstalling tensorflow-2.4.0:\n",
            "      Successfully uninstalled tensorflow-2.4.0\n",
            "Successfully installed keras-applications-1.0.8 mock-4.0.3 tensorboard-1.13.1 tensorflow-1.13.1 tensorflow-estimator-1.13.0\n",
            "Collecting keras==2.1.0\n",
            "\u001b[?25l  Downloading https://files.pythonhosted.org/packages/bf/c2/b0c2ece713e754d1692aa432ad682751cd1ad6abf7500a534558b1fbfbe7/Keras-2.1.0-py2.py3-none-any.whl (302kB)\n",
            "\u001b[K     |████████████████████████████████| 307kB 4.5MB/s \n",
            "\u001b[?25hRequirement already satisfied: pyyaml in /usr/local/lib/python3.6/dist-packages (from keras==2.1.0) (3.13)\n",
            "Requirement already satisfied: numpy>=1.9.1 in /usr/local/lib/python3.6/dist-packages (from keras==2.1.0) (1.19.4)\n",
            "Requirement already satisfied: scipy>=0.14 in /usr/local/lib/python3.6/dist-packages (from keras==2.1.0) (1.4.1)\n",
            "Requirement already satisfied: six>=1.9.0 in /usr/local/lib/python3.6/dist-packages (from keras==2.1.0) (1.15.0)\n",
            "\u001b[31mERROR: textgenrnn 1.4.1 has requirement keras>=2.1.5, but you'll have keras 2.1.0 which is incompatible.\u001b[0m\n",
            "Installing collected packages: keras\n",
            "  Found existing installation: Keras 2.4.3\n",
            "    Uninstalling Keras-2.4.3:\n",
            "      Successfully uninstalled Keras-2.4.3\n",
            "Successfully installed keras-2.1.0\n"
          ],
          "name": "stdout"
        }
      ]
    },
    {
      "cell_type": "markdown",
      "metadata": {
        "id": "aKFvlRUEnCAk"
      },
      "source": [
        "STEP-02 Adding required libraries"
      ]
    },
    {
      "cell_type": "code",
      "metadata": {
        "id": "YeHVbiB_T0PF",
        "colab": {
          "base_uri": "https://localhost:8080/"
        },
        "outputId": "27e084ae-3a70-485c-d2d6-5e9f09e1df20"
      },
      "source": [
        "%matplotlib inline\n",
        "import warnings\n",
        "warnings.filterwarnings(\"ignore\")\n",
        "import keras\n",
        "import os, argparse\n",
        "import cv2, spacy, numpy as np\n",
        "from keras.layers import Input, LSTM, Embedding, Dense\n",
        "from keras.applications.vgg16 import VGG16\n",
        "from keras.models import model_from_json\n",
        "from keras.optimizers import SGD\n",
        "from sklearn.externals import joblib\n",
        "from keras import backend as K\n",
        "from keras.utils.vis_utils import plot_model\n",
        "K.set_image_data_format('channels_first')\n",
        "import csv\n",
        "#mount google drive \n",
        "from google.colab import drive\n",
        "drive.mount('/content/drive')"
      ],
      "execution_count": 2,
      "outputs": [
        {
          "output_type": "stream",
          "text": [
            "Using TensorFlow backend.\n"
          ],
          "name": "stderr"
        },
        {
          "output_type": "stream",
          "text": [
            "Mounted at /content/drive\n"
          ],
          "name": "stdout"
        }
      ]
    },
    {
      "cell_type": "markdown",
      "metadata": {
        "id": "fuUNgL8BnK3u"
      },
      "source": [
        "STEP-03 Loading pre-trained VGG-16"
      ]
    },
    {
      "cell_type": "code",
      "metadata": {
        "id": "QpJfqAWPUAEX"
      },
      "source": [
        "from keras.preprocessing import image\n",
        "from keras.applications import vgg16\n",
        "from keras.models import Model\n",
        "from keras.applications.vgg16 import VGG16, preprocess_input\n",
        "model = vgg16.VGG16(weights='imagenet', include_top=True)\n",
        "from keras.utils import plot_model"
      ],
      "execution_count": 11,
      "outputs": []
    },
    {
      "cell_type": "code",
      "metadata": {
        "id": "oZo_FxFxT3gx"
      },
      "source": [
        "model = vgg16.VGG16(weights='imagenet', include_top=True)"
      ],
      "execution_count": 4,
      "outputs": []
    },
    {
      "cell_type": "markdown",
      "metadata": {
        "id": "8ny72LI7nix4"
      },
      "source": [
        "STEP-04 Defining functions for VQA model"
      ]
    },
    {
      "cell_type": "code",
      "metadata": {
        "id": "IlylutIbUICl"
      },
      "source": [
        "def get_image_features_without_fd(image_file_name,model):\n",
        "    ''' Runs the given image_file to VGG 16 model and returns the \n",
        "    weights (filters) as a 1, 4096 dimension vector '''\n",
        "    img = image.load_img(image_file_name, target_size=(224, 224))\n",
        "    x = image.img_to_array(img)\n",
        "    x = np.expand_dims(x, axis=0)\n",
        "    x = preprocess_input(x)\n",
        "    features = model.predict(x)\n",
        "    model_extractfeatures = Model(input=model.input, output=model.get_layer('fc2').output)\n",
        "    fc2_features = model_extractfeatures.predict(x)\n",
        "    image_features = fc2_features.reshape(4096)\n",
        "    return image_features"
      ],
      "execution_count": 5,
      "outputs": []
    },
    {
      "cell_type": "code",
      "metadata": {
        "id": "_ZC3ZgsFUK2_"
      },
      "source": [
        "def get_image_model_without():\n",
        "    ''' Takes the CNN weights file, and returns the VGG model update \n",
        "    with the weights. Requires the file VGG.py inside models/CNN '''\n",
        "    image_model = VGG16(weights='imagenet', include_top=False)\n",
        "    image_model.layers.pop()\n",
        "    image_model.layers.pop()\n",
        "    # this is standard VGG 16 without the last two layers\n",
        "    sgd = SGD(lr=0.1, decay=1e-6, momentum=0.9, nesterov=True)\n",
        "    # one may experiment with \"adam\" optimizer, but the loss function for\n",
        "    # this kind of task is pretty standard\n",
        "    image_model.compile(optimizer=sgd, loss='categorical_crossentropy')\n",
        "    return image_model"
      ],
      "execution_count": 6,
      "outputs": []
    },
    {
      "cell_type": "code",
      "metadata": {
        "id": "Wzg3CrSJUL9q",
        "colab": {
          "base_uri": "https://localhost:8080/"
        },
        "outputId": "1f75c906-cfee-4a64-cc96-b5903888d5be"
      },
      "source": [
        "vgg_without = get_image_model_without()"
      ],
      "execution_count": 7,
      "outputs": [
        {
          "output_type": "stream",
          "text": [
            "Downloading data from https://github.com/fchollet/deep-learning-models/releases/download/v0.1/vgg16_weights_tf_dim_ordering_tf_kernels_notop.h5\n",
            "58892288/58889256 [==============================] - 1s 0us/step\n",
            "WARNING:tensorflow:From /usr/local/lib/python3.6/dist-packages/keras/backend/tensorflow_backend.py:2880: calling reduce_sum_v1 (from tensorflow.python.ops.math_ops) with keep_dims is deprecated and will be removed in a future version.\n",
            "Instructions for updating:\n",
            "keep_dims is deprecated, use keepdims instead\n"
          ],
          "name": "stdout"
        }
      ]
    },
    {
      "cell_type": "code",
      "metadata": {
        "id": "83aO4besUQz9"
      },
      "source": [
        "def get_question_features_without_fd(question):\n",
        "    ''' For a given question, a unicode string, returns the time series vector\n",
        "    with each word (token) transformed into a 300 dimension representation\n",
        "    calculated using Glove Vector '''\n",
        "    word_embeddings = spacy.load('en_core_web_md')\n",
        "    tokens = word_embeddings(question)\n",
        "    question_tensor = np.zeros((30, 300))\n",
        "    for j in range(len(tokens)):\n",
        "        question_tensor[j,:] = tokens[j].vector\n",
        "    return question_tensor"
      ],
      "execution_count": 8,
      "outputs": []
    },
    {
      "cell_type": "code",
      "metadata": {
        "id": "18bq70L-UVKl"
      },
      "source": [
        "\n",
        "def get_image_features_without_fd(image_file_name,model):\n",
        "    ''' Runs the given image_file to VGG 16 model and returns the \n",
        "    weights (filters) as a 1, 4096 dimension vector '''\n",
        "    img = image.load_img(image_file_name, target_size=(224, 224))\n",
        "    x = image.img_to_array(img)\n",
        "    x = np.expand_dims(x, axis=0)\n",
        "    x = preprocess_input(x)\n",
        "    features = model.predict(x)\n",
        "    model_extractfeatures = Model(input=model.input, output=model.get_layer('fc2').output)\n",
        "    fc2_features = model_extractfeatures.predict(x)\n",
        "    image_features = fc2_features.reshape(4096)\n",
        "    return image_features"
      ],
      "execution_count": 17,
      "outputs": []
    },
    {
      "cell_type": "code",
      "metadata": {
        "id": "jh6PrXyFUXnE"
      },
      "source": [
        "def get_VQA_model():\n",
        "    ''' Given the VQA model and its weights, compiles and returns the model '''\n",
        "\n",
        "    # thanks the keras function for loading a model from JSON, this becomes\n",
        "    # very easy to understand and work. Alternative would be to load model\n",
        "    # from binary like cPickle but then model would be obfuscated to users\n",
        "    vqa_model = model_from_json(open(\"/content/drive/MyDrive/latest_vqa/our_model_final.json\").read())\n",
        "    # vqa_model.load_weights(VQA_weights_file_name)\n",
        "    vqa_model.compile(loss='categorical_crossentropy', optimizer='rmsprop')\n",
        "    return vqa_model"
      ],
      "execution_count": 18,
      "outputs": []
    },
    {
      "cell_type": "code",
      "metadata": {
        "id": "6ySfKPbhUh4z",
        "colab": {
          "base_uri": "https://localhost:8080/"
        },
        "outputId": "6f114c8e-5d1c-4c1a-a501-f5e1e7eb7ffa"
      },
      "source": [
        "our_vqa_model = get_VQA_model()\n",
        "our_vqa_model.summary()"
      ],
      "execution_count": 19,
      "outputs": [
        {
          "output_type": "stream",
          "text": [
            "WARNING:tensorflow:From /usr/local/lib/python3.6/dist-packages/keras/backend/tensorflow_backend.py:3013: calling dropout (from tensorflow.python.ops.nn_ops) with keep_prob is deprecated and will be removed in a future version.\n",
            "Instructions for updating:\n",
            "Please use `rate` instead of `keep_prob`. Rate should be set to `rate = 1 - keep_prob`.\n",
            "_________________________________________________________________\n",
            "Layer (type)                 Output Shape              Param #   \n",
            "=================================================================\n",
            "merge_2 (Merge)              (None, 4608)              0         \n",
            "_________________________________________________________________\n",
            "dense_5 (Dense)              (None, 1024)              4719616   \n",
            "_________________________________________________________________\n",
            "activation_5 (Activation)    (None, 1024)              0         \n",
            "_________________________________________________________________\n",
            "dropout_4 (Dropout)          (None, 1024)              0         \n",
            "_________________________________________________________________\n",
            "dense_6 (Dense)              (None, 1024)              1049600   \n",
            "_________________________________________________________________\n",
            "activation_6 (Activation)    (None, 1024)              0         \n",
            "_________________________________________________________________\n",
            "dropout_5 (Dropout)          (None, 1024)              0         \n",
            "_________________________________________________________________\n",
            "dense_7 (Dense)              (None, 1024)              1049600   \n",
            "_________________________________________________________________\n",
            "activation_7 (Activation)    (None, 1024)              0         \n",
            "_________________________________________________________________\n",
            "dropout_6 (Dropout)          (None, 1024)              0         \n",
            "_________________________________________________________________\n",
            "dense_1 (Dense)              (None, 10)                10250     \n",
            "=================================================================\n",
            "Total params: 12,692,490\n",
            "Trainable params: 12,692,490\n",
            "Non-trainable params: 0\n",
            "_________________________________________________________________\n"
          ],
          "name": "stdout"
        }
      ]
    },
    {
      "cell_type": "code",
      "metadata": {
        "id": "ePkhKKXPUjuF",
        "colab": {
          "base_uri": "https://localhost:8080/"
        },
        "outputId": "d93e5f30-fc0c-4290-a98c-c88779ab2f22"
      },
      "source": [
        "!python -m spacy download en_core_web_md"
      ],
      "execution_count": 20,
      "outputs": [
        {
          "output_type": "stream",
          "text": [
            "Collecting en_core_web_md==2.2.5\n",
            "\u001b[?25l  Downloading https://github.com/explosion/spacy-models/releases/download/en_core_web_md-2.2.5/en_core_web_md-2.2.5.tar.gz (96.4MB)\n",
            "\u001b[K     |████████████████████████████████| 96.4MB 1.1MB/s \n",
            "\u001b[?25hRequirement already satisfied: spacy>=2.2.2 in /usr/local/lib/python3.6/dist-packages (from en_core_web_md==2.2.5) (2.2.4)\n",
            "Requirement already satisfied: murmurhash<1.1.0,>=0.28.0 in /usr/local/lib/python3.6/dist-packages (from spacy>=2.2.2->en_core_web_md==2.2.5) (1.0.5)\n",
            "Requirement already satisfied: thinc==7.4.0 in /usr/local/lib/python3.6/dist-packages (from spacy>=2.2.2->en_core_web_md==2.2.5) (7.4.0)\n",
            "Requirement already satisfied: setuptools in /usr/local/lib/python3.6/dist-packages (from spacy>=2.2.2->en_core_web_md==2.2.5) (51.1.1)\n",
            "Requirement already satisfied: wasabi<1.1.0,>=0.4.0 in /usr/local/lib/python3.6/dist-packages (from spacy>=2.2.2->en_core_web_md==2.2.5) (0.8.0)\n",
            "Requirement already satisfied: catalogue<1.1.0,>=0.0.7 in /usr/local/lib/python3.6/dist-packages (from spacy>=2.2.2->en_core_web_md==2.2.5) (1.0.0)\n",
            "Requirement already satisfied: cymem<2.1.0,>=2.0.2 in /usr/local/lib/python3.6/dist-packages (from spacy>=2.2.2->en_core_web_md==2.2.5) (2.0.5)\n",
            "Requirement already satisfied: preshed<3.1.0,>=3.0.2 in /usr/local/lib/python3.6/dist-packages (from spacy>=2.2.2->en_core_web_md==2.2.5) (3.0.5)\n",
            "Requirement already satisfied: plac<1.2.0,>=0.9.6 in /usr/local/lib/python3.6/dist-packages (from spacy>=2.2.2->en_core_web_md==2.2.5) (1.1.3)\n",
            "Requirement already satisfied: blis<0.5.0,>=0.4.0 in /usr/local/lib/python3.6/dist-packages (from spacy>=2.2.2->en_core_web_md==2.2.5) (0.4.1)\n",
            "Requirement already satisfied: numpy>=1.15.0 in /usr/local/lib/python3.6/dist-packages (from spacy>=2.2.2->en_core_web_md==2.2.5) (1.19.4)\n",
            "Requirement already satisfied: srsly<1.1.0,>=1.0.2 in /usr/local/lib/python3.6/dist-packages (from spacy>=2.2.2->en_core_web_md==2.2.5) (1.0.5)\n",
            "Requirement already satisfied: tqdm<5.0.0,>=4.38.0 in /usr/local/lib/python3.6/dist-packages (from spacy>=2.2.2->en_core_web_md==2.2.5) (4.41.1)\n",
            "Requirement already satisfied: requests<3.0.0,>=2.13.0 in /usr/local/lib/python3.6/dist-packages (from spacy>=2.2.2->en_core_web_md==2.2.5) (2.23.0)\n",
            "Requirement already satisfied: importlib-metadata>=0.20; python_version < \"3.8\" in /usr/local/lib/python3.6/dist-packages (from catalogue<1.1.0,>=0.0.7->spacy>=2.2.2->en_core_web_md==2.2.5) (3.3.0)\n",
            "Requirement already satisfied: urllib3!=1.25.0,!=1.25.1,<1.26,>=1.21.1 in /usr/local/lib/python3.6/dist-packages (from requests<3.0.0,>=2.13.0->spacy>=2.2.2->en_core_web_md==2.2.5) (1.24.3)\n",
            "Requirement already satisfied: chardet<4,>=3.0.2 in /usr/local/lib/python3.6/dist-packages (from requests<3.0.0,>=2.13.0->spacy>=2.2.2->en_core_web_md==2.2.5) (3.0.4)\n",
            "Requirement already satisfied: idna<3,>=2.5 in /usr/local/lib/python3.6/dist-packages (from requests<3.0.0,>=2.13.0->spacy>=2.2.2->en_core_web_md==2.2.5) (2.10)\n",
            "Requirement already satisfied: certifi>=2017.4.17 in /usr/local/lib/python3.6/dist-packages (from requests<3.0.0,>=2.13.0->spacy>=2.2.2->en_core_web_md==2.2.5) (2020.12.5)\n",
            "Requirement already satisfied: zipp>=0.5 in /usr/local/lib/python3.6/dist-packages (from importlib-metadata>=0.20; python_version < \"3.8\"->catalogue<1.1.0,>=0.0.7->spacy>=2.2.2->en_core_web_md==2.2.5) (3.4.0)\n",
            "Requirement already satisfied: typing-extensions>=3.6.4; python_version < \"3.8\" in /usr/local/lib/python3.6/dist-packages (from importlib-metadata>=0.20; python_version < \"3.8\"->catalogue<1.1.0,>=0.0.7->spacy>=2.2.2->en_core_web_md==2.2.5) (3.7.4.3)\n",
            "Building wheels for collected packages: en-core-web-md\n",
            "  Building wheel for en-core-web-md (setup.py) ... \u001b[?25l\u001b[?25hdone\n",
            "  Created wheel for en-core-web-md: filename=en_core_web_md-2.2.5-cp36-none-any.whl size=98051304 sha256=543e5dc20ecdc3f9d1988025e5472355a27e389d84642c15939a0cb9916abea5\n",
            "  Stored in directory: /tmp/pip-ephem-wheel-cache-s7rl83gb/wheels/df/94/ad/f5cf59224cea6b5686ac4fd1ad19c8a07bc026e13c36502d81\n",
            "Successfully built en-core-web-md\n",
            "Installing collected packages: en-core-web-md\n",
            "Successfully installed en-core-web-md-2.2.5\n",
            "\u001b[38;5;2m✔ Download and installation successful\u001b[0m\n",
            "You can now load the model via spacy.load('en_core_web_md')\n"
          ],
          "name": "stdout"
        }
      ]
    },
    {
      "cell_type": "code",
      "metadata": {
        "id": "8UTj6f6DUtCT",
        "colab": {
          "base_uri": "https://localhost:8080/"
        },
        "outputId": "24316baa-9ae8-46fe-87f0-6589c0b26d3b"
      },
      "source": [
        "\n",
        "import spacy.cli\n",
        "spacy.cli.download(\"en_core_web_md\")"
      ],
      "execution_count": null,
      "outputs": [
        {
          "output_type": "stream",
          "text": [
            "\u001b[38;5;2m✔ Download and installation successful\u001b[0m\n",
            "You can now load the model via spacy.load('en_core_web_md')\n"
          ],
          "name": "stdout"
        }
      ]
    },
    {
      "cell_type": "code",
      "metadata": {
        "id": "Ay-cmj4sUwtd"
      },
      "source": [
        "word_embeddings = spacy.load('en_core_web_md')"
      ],
      "execution_count": null,
      "outputs": []
    },
    {
      "cell_type": "code",
      "metadata": {
        "id": "JIowkCLFU5vj"
      },
      "source": [
        "\n",
        "def get_question_features_without_fd(question,word_embeddings):\n",
        "    ''' For a given question, a unicode string, returns the time series vector\n",
        "    with each word (token) transformed into a 300 dimension representation\n",
        "    calculated using Glove Vector '''\n",
        "    tokens = word_embeddings(question)\n",
        "    question_tensor = np.zeros((30, 300))\n",
        "    for j in range(len(tokens)):\n",
        "        question_tensor[j,:] = tokens[j].vector\n",
        "    return question_tensor"
      ],
      "execution_count": null,
      "outputs": []
    },
    {
      "cell_type": "code",
      "metadata": {
        "id": "60O4i-3SVBLB"
      },
      "source": [
        "def create_image_feature_test(image_path,model):\n",
        "  image_features = get_image_features_without_fd(image_path,model)\n",
        "  image_feature_processed = np.array(image_features)\n",
        "  image_feature_processed = image_feature_processed.reshape((1,image_feature_processed.shape[0]))\n",
        "  return image_feature_processed"
      ],
      "execution_count": null,
      "outputs": []
    },
    {
      "cell_type": "code",
      "metadata": {
        "id": "_0ovoowZVJM9"
      },
      "source": [
        "new_image = create_image_feature_test('/content/drive/MyDrive/latest_vqa/sample_data/8.jpg',model)"
      ],
      "execution_count": null,
      "outputs": []
    },
    {
      "cell_type": "code",
      "metadata": {
        "id": "_eCxLeypVL3n",
        "colab": {
          "base_uri": "https://localhost:8080/"
        },
        "outputId": "dee0a126-1358-4d06-f00d-ddc20645c199"
      },
      "source": [
        "new_image.shape"
      ],
      "execution_count": null,
      "outputs": [
        {
          "output_type": "execute_result",
          "data": {
            "text/plain": [
              "(1, 4096)"
            ]
          },
          "metadata": {
            "tags": []
          },
          "execution_count": 31
        }
      ]
    },
    {
      "cell_type": "code",
      "metadata": {
        "id": "iVwSIrUJVNyc"
      },
      "source": [
        "def create_question_feature_test(text):\n",
        "  question_feature=get_question_features_without_fd(text,word_embeddings)\n",
        "  question_feature_processed = np.array(question_feature)  \n",
        "  question_feature_processed = question_feature_processed.reshape((1,question_feature_processed.shape[0], question_feature_processed.shape[1]))\n",
        "  return question_feature_processed"
      ],
      "execution_count": null,
      "outputs": []
    },
    {
      "cell_type": "code",
      "metadata": {
        "id": "k1nWIxdvVP8f",
        "colab": {
          "base_uri": "https://localhost:8080/"
        },
        "outputId": "6f7a9ac4-f998-4642-bba2-33cb516fbe03"
      },
      "source": [
        "training_datas = []\n",
        "with open('/content/drive/MyDrive/latest_vqa/sample_data/training.csv') as csv_file:\n",
        "  csv_reader = csv.reader(csv_file, delimiter=',')\n",
        "  for row in csv_reader:\n",
        "    training_datas.append(row)\n",
        "training_datas = training_datas[1:]\n",
        "len(training_datas)"
      ],
      "execution_count": null,
      "outputs": [
        {
          "output_type": "execute_result",
          "data": {
            "text/plain": [
              "65"
            ]
          },
          "metadata": {
            "tags": []
          },
          "execution_count": 34
        }
      ]
    },
    {
      "cell_type": "code",
      "metadata": {
        "id": "rli8TLd5Zh_E",
        "colab": {
          "base_uri": "https://localhost:8080/"
        },
        "outputId": "63f30dfe-8d43-458a-f8a5-8556db0ab45a"
      },
      "source": [
        "trainY= []\n",
        "for training_data in training_datas:\n",
        "  img_id,text,output = training_data\n",
        "  trainY.append(output)\n",
        "print(len(trainY))\n",
        "print(trainY)"
      ],
      "execution_count": null,
      "outputs": [
        {
          "output_type": "stream",
          "text": [
            "65\n",
            "['yes', 'hand', 'hand', 'single', 'multiple', 'hand', 'yes', 'foreign', 'yes', 'yes', 'foreign', 'hand', 'yes', 'skull', 'skull', 'skull', 'skull', 'hand', 'left', 'left', 'right', 'left', 'right', 'right', 'right', 'right', 'left', 'left', 'left', 'left', 'left', 'left', 'left', 'left', 'yes', 'yes', 'foreign', 'foreign', 'foreign', 'foreign', 'foreign', 'leg', 'leg', 'leg', 'leg', 'leg', 'leg', 'leg', 'single', 'yes', 'yes', 'multiple', 'multiple', 'multiple', 'no', 'no', 'no', 'no', 'no', 'no', 'yes', 'yes', 'yes', 'yes', 'yes']\n"
          ],
          "name": "stdout"
        }
      ]
    },
    {
      "cell_type": "code",
      "metadata": {
        "id": "beHsrFxtZmze",
        "colab": {
          "base_uri": "https://localhost:8080/"
        },
        "outputId": "9dec7e25-ecd5-465d-ed0b-0a406b41d4cd"
      },
      "source": [
        "set_trainy = list(set(trainY))\n",
        "trainY_labels = []\n",
        "for y in trainY:\n",
        "  trainY_labels.append(set_trainy.index(y))\n",
        "print(trainY_labels)"
      ],
      "execution_count": null,
      "outputs": [
        {
          "output_type": "stream",
          "text": [
            "[2, 1, 1, 9, 4, 1, 2, 5, 2, 2, 5, 1, 2, 0, 0, 0, 0, 1, 6, 6, 3, 6, 3, 3, 3, 3, 6, 6, 6, 6, 6, 6, 6, 6, 2, 2, 5, 5, 5, 5, 5, 8, 8, 8, 8, 8, 8, 8, 9, 2, 2, 4, 4, 4, 7, 7, 7, 7, 7, 7, 2, 2, 2, 2, 2]\n"
          ],
          "name": "stdout"
        }
      ]
    },
    {
      "cell_type": "code",
      "metadata": {
        "id": "wQvCJGuGZpwe"
      },
      "source": [
        "trainY_cate = keras.utils.to_categorical(trainY_labels, num_classes=10)"
      ],
      "execution_count": null,
      "outputs": []
    },
    {
      "cell_type": "code",
      "metadata": {
        "id": "HxdimAiOZsW5",
        "colab": {
          "base_uri": "https://localhost:8080/"
        },
        "outputId": "5c7cccca-d56f-4c96-8048-94bd0149a532"
      },
      "source": [
        "trainX= []\n",
        "for training_data in training_datas:\n",
        "  img_id,text,output = training_data\n",
        "  print(\"Processing {} image\".format(img_id))\n",
        "  image_features = get_image_features_without_fd(\"/content/drive/MyDrive/latest_vqa/sample_data/{}.jpg\".format(img_id),model)\n",
        "  question_features = get_question_features_without_fd(text,word_embeddings)\n",
        "  trainX.append([question_features,image_features])\n",
        "np.array(trainX).shape"
      ],
      "execution_count": null,
      "outputs": [
        {
          "output_type": "stream",
          "text": [
            "Processing 1 image\n",
            "Processing 1 image\n",
            "Processing 2 image\n",
            "Processing 2 image\n",
            "Processing 3 image\n",
            "Processing 3 image\n",
            "Processing 4 image\n",
            "Processing 4 image\n",
            "Processing 5 image\n",
            "Processing 6 image\n",
            "Processing 6 image\n",
            "Processing 7 image\n",
            "Processing 7 image\n",
            "Processing 8 image\n",
            "Processing 9 image\n",
            "Processing 10 image\n",
            "Processing 11 image\n",
            "Processing 12 image\n",
            "Processing 13 image\n",
            "Processing 14 image\n",
            "Processing 15 image\n",
            "Processing 16 image\n",
            "Processing 17 image\n",
            "Processing 18 image\n",
            "Processing 19 image\n",
            "Processing 20 image\n",
            "Processing 21 image\n",
            "Processing 22 image\n",
            "Processing 23 image\n",
            "Processing 24 image\n",
            "Processing 25 image\n",
            "Processing 26 image\n",
            "Processing 27 image\n",
            "Processing 28 image\n",
            "Processing 29 image\n",
            "Processing 30 image\n",
            "Processing 31 image\n",
            "Processing 32 image\n",
            "Processing 33 image\n",
            "Processing 34 image\n",
            "Processing 35 image\n",
            "Processing 36 image\n",
            "Processing 37 image\n",
            "Processing 38 image\n",
            "Processing 39 image\n",
            "Processing 40 image\n",
            "Processing 41 image\n",
            "Processing 42 image\n",
            "Processing 42 image\n",
            "Processing 42 image\n",
            "Processing 43 image\n",
            "Processing 43 image\n",
            "Processing 45 image\n",
            "Processing 46 image\n",
            "Processing 47 image\n",
            "Processing 48 image\n",
            "Processing 49 image\n",
            "Processing 50 image\n",
            "Processing 53 image\n",
            "Processing 54 image\n",
            "Processing 55 image\n",
            "Processing 56 image\n",
            "Processing 57 image\n",
            "Processing 58 image\n",
            "Processing 59 image\n"
          ],
          "name": "stdout"
        },
        {
          "output_type": "execute_result",
          "data": {
            "text/plain": [
              "(65, 2)"
            ]
          },
          "metadata": {
            "tags": []
          },
          "execution_count": 40
        }
      ]
    },
    {
      "cell_type": "code",
      "metadata": {
        "id": "If7WC_LhaQVr"
      },
      "source": [
        "question_features_array = []\n",
        "image_features_array = []\n",
        "for x in trainX:\n",
        "  question_features_array.append(x[0])\n",
        "  image_features_array.append(x[1])"
      ],
      "execution_count": null,
      "outputs": []
    },
    {
      "cell_type": "code",
      "metadata": {
        "id": "FVHmQb-vaSnS",
        "colab": {
          "base_uri": "https://localhost:8080/"
        },
        "outputId": "6bd588b8-6470-40d6-ab34-34f5f99c2582"
      },
      "source": [
        "question_features_array = np.array(question_features_array)\n",
        "image_features_array = np.array(image_features_array)\n",
        "print(question_features_array.shape)\n",
        "print(image_features_array.shape)"
      ],
      "execution_count": null,
      "outputs": [
        {
          "output_type": "stream",
          "text": [
            "(65, 30, 300)\n",
            "(65, 4096)\n"
          ],
          "name": "stdout"
        }
      ]
    },
    {
      "cell_type": "code",
      "metadata": {
        "id": "RiXva_IcaUd4",
        "colab": {
          "base_uri": "https://localhost:8080/"
        },
        "outputId": "d2d22657-b0b4-4aa3-ed15-fbc21f8079e8"
      },
      "source": [
        "trainY= []\n",
        "for training_data in training_datas:\n",
        "  img_id,text,output = training_data\n",
        "  trainY.append(output)\n",
        "print(len(trainY))\n",
        "print(trainY)"
      ],
      "execution_count": null,
      "outputs": [
        {
          "output_type": "stream",
          "text": [
            "65\n",
            "['yes', 'hand', 'hand', 'single', 'multiple', 'hand', 'yes', 'foreign', 'yes', 'yes', 'foreign', 'hand', 'yes', 'skull', 'skull', 'skull', 'skull', 'hand', 'left', 'left', 'right', 'left', 'right', 'right', 'right', 'right', 'left', 'left', 'left', 'left', 'left', 'left', 'left', 'left', 'yes', 'yes', 'foreign', 'foreign', 'foreign', 'foreign', 'foreign', 'leg', 'leg', 'leg', 'leg', 'leg', 'leg', 'leg', 'single', 'yes', 'yes', 'multiple', 'multiple', 'multiple', 'no', 'no', 'no', 'no', 'no', 'no', 'yes', 'yes', 'yes', 'yes', 'yes']\n"
          ],
          "name": "stdout"
        }
      ]
    },
    {
      "cell_type": "code",
      "metadata": {
        "id": "Snfjoexgabqo",
        "colab": {
          "base_uri": "https://localhost:8080/"
        },
        "outputId": "62129520-aadd-4312-e5ef-42eb9808ed88"
      },
      "source": [
        "set_trainy = list(set(trainY))\n",
        "trainY_labels = []\n",
        "for y in trainY:\n",
        "  trainY_labels.append(set_trainy.index(y))\n",
        "print(trainY_labels)"
      ],
      "execution_count": null,
      "outputs": [
        {
          "output_type": "stream",
          "text": [
            "[2, 1, 1, 9, 4, 1, 2, 5, 2, 2, 5, 1, 2, 0, 0, 0, 0, 1, 6, 6, 3, 6, 3, 3, 3, 3, 6, 6, 6, 6, 6, 6, 6, 6, 2, 2, 5, 5, 5, 5, 5, 8, 8, 8, 8, 8, 8, 8, 9, 2, 2, 4, 4, 4, 7, 7, 7, 7, 7, 7, 2, 2, 2, 2, 2]\n"
          ],
          "name": "stdout"
        }
      ]
    },
    {
      "cell_type": "code",
      "metadata": {
        "id": "U9r4zHGIafHf"
      },
      "source": [
        "trainY_cate = keras.utils.to_categorical(trainY_labels, num_classes=10)"
      ],
      "execution_count": null,
      "outputs": []
    },
    {
      "cell_type": "code",
      "metadata": {
        "id": "ky4zEHpmagO2",
        "colab": {
          "base_uri": "https://localhost:8080/"
        },
        "outputId": "35d8f79f-2dab-4405-e938-bac72d7b8bf4"
      },
      "source": [
        "history = our_vqa_model.fit([question_features_array,image_features_array],trainY_cate,5,30)"
      ],
      "execution_count": null,
      "outputs": [
        {
          "output_type": "stream",
          "text": [
            "WARNING:tensorflow:From /usr/local/lib/python3.6/dist-packages/tensorflow/python/ops/math_ops.py:3066: to_int32 (from tensorflow.python.ops.math_ops) is deprecated and will be removed in a future version.\n",
            "Instructions for updating:\n",
            "Use tf.cast instead.\n",
            "Epoch 1/30\n",
            "65/65 [==============================] - 17s 261ms/step - loss: 6.7750\n",
            "Epoch 2/30\n",
            "65/65 [==============================] - 14s 210ms/step - loss: 3.9690\n",
            "Epoch 3/30\n",
            "65/65 [==============================] - 14s 210ms/step - loss: 3.4932\n",
            "Epoch 4/30\n",
            "65/65 [==============================] - 14s 209ms/step - loss: 3.5266\n",
            "Epoch 5/30\n",
            "65/65 [==============================] - 13s 207ms/step - loss: 2.7419\n",
            "Epoch 6/30\n",
            "65/65 [==============================] - 13s 206ms/step - loss: 3.3405\n",
            "Epoch 7/30\n",
            "65/65 [==============================] - 13s 200ms/step - loss: 2.7904\n",
            "Epoch 8/30\n",
            "65/65 [==============================] - 13s 199ms/step - loss: 2.5609\n",
            "Epoch 9/30\n",
            "65/65 [==============================] - 13s 200ms/step - loss: 2.4415\n",
            "Epoch 10/30\n",
            "65/65 [==============================] - 13s 199ms/step - loss: 2.9312\n",
            "Epoch 11/30\n",
            "65/65 [==============================] - 13s 202ms/step - loss: 2.4189\n",
            "Epoch 12/30\n",
            "65/65 [==============================] - 14s 212ms/step - loss: 2.2537\n",
            "Epoch 13/30\n",
            "65/65 [==============================] - 14s 214ms/step - loss: 2.1023\n",
            "Epoch 14/30\n",
            "65/65 [==============================] - 14s 211ms/step - loss: 1.8614\n",
            "Epoch 15/30\n",
            "65/65 [==============================] - 13s 203ms/step - loss: 1.9175\n",
            "Epoch 16/30\n",
            "65/65 [==============================] - 13s 203ms/step - loss: 1.6646\n",
            "Epoch 17/30\n",
            "65/65 [==============================] - 14s 209ms/step - loss: 1.7410\n",
            "Epoch 18/30\n",
            "65/65 [==============================] - 13s 202ms/step - loss: 1.6043\n",
            "Epoch 19/30\n",
            "65/65 [==============================] - 13s 201ms/step - loss: 1.6487\n",
            "Epoch 20/30\n",
            "65/65 [==============================] - 13s 203ms/step - loss: 1.3824\n",
            "Epoch 21/30\n",
            "65/65 [==============================] - 13s 200ms/step - loss: 1.5988\n",
            "Epoch 22/30\n",
            "65/65 [==============================] - 13s 203ms/step - loss: 1.5747\n",
            "Epoch 23/30\n",
            "65/65 [==============================] - 13s 203ms/step - loss: 1.5928\n",
            "Epoch 24/30\n",
            "65/65 [==============================] - 13s 202ms/step - loss: 1.2926\n",
            "Epoch 25/30\n",
            "65/65 [==============================] - 13s 204ms/step - loss: 1.4181\n",
            "Epoch 26/30\n",
            "65/65 [==============================] - 14s 209ms/step - loss: 1.1193\n",
            "Epoch 27/30\n",
            "65/65 [==============================] - 14s 212ms/step - loss: 1.1038\n",
            "Epoch 28/30\n",
            "65/65 [==============================] - 14s 213ms/step - loss: 1.3400\n",
            "Epoch 29/30\n",
            "65/65 [==============================] - 14s 210ms/step - loss: 1.0834\n",
            "Epoch 30/30\n",
            "65/65 [==============================] - 13s 208ms/step - loss: 1.2306\n"
          ],
          "name": "stdout"
        }
      ]
    },
    {
      "cell_type": "markdown",
      "metadata": {
        "id": "pko5SpbHOw2V"
      },
      "source": [
        ""
      ]
    },
    {
      "cell_type": "code",
      "metadata": {
        "id": "GjzV0s3WcDtC"
      },
      "source": [
        "our_vqa_model.save_weights('/content/model_weights_after_training.h5')\n",
        "\n",
        "# Save the model architecture\n",
        "with open('/content/model_architecture_after_training.json', 'w') as f:\n",
        "    f.write(our_vqa_model.to_json())"
      ],
      "execution_count": null,
      "outputs": []
    },
    {
      "cell_type": "code",
      "metadata": {
        "id": "41qFcyAbcH0p",
        "colab": {
          "base_uri": "https://localhost:8080/",
          "height": 295
        },
        "outputId": "d59f8f2d-5a43-43b3-baff-726ff5f09f2e"
      },
      "source": [
        "import matplotlib.pyplot as plt\n",
        "# summarize history for accuracy\n",
        "plt.plot(history.history['loss'])\n",
        "plt.title('model loss')\n",
        "plt.ylabel('loss')\n",
        "plt.xlabel('epoch')\n",
        "plt.show()"
      ],
      "execution_count": null,
      "outputs": [
        {
          "output_type": "display_data",
          "data": {
            "image/png": "[encoded data removed]",
            "text/plain": [
              "<Figure size 432x288 with 1 Axes>"
            ]
          },
          "metadata": {
            "tags": [],
            "needs_background": "light"
          }
        }
      ]
    },
    {
      "cell_type": "code",
      "metadata": {
        "id": "Qae0AJjPcKMp"
      },
      "source": [
        "with open('/content/model_architecture_after_training.json', 'r') as f:\n",
        "    vqa_model = model_from_json(f.read())\n",
        "\n",
        "# Load weights into the new model\n",
        "vqa_model.load_weights('/content/model_weights_after_training.h5')"
      ],
      "execution_count": null,
      "outputs": []
    },
    {
      "cell_type": "code",
      "metadata": {
        "id": "rf0uCKsNcPX6",
        "colab": {
          "base_uri": "https://localhost:8080/",
          "height": 375
        },
        "outputId": "dc2b18db-6642-4082-e851-0c92bb7c0564"
      },
      "source": [
        "from IPython.display import Image\n",
        "Image(filename='/content/drive/MyDrive/latest_vqa/sample_data/test/healthyhand.jpg')"
      ],
      "execution_count": null,
      "outputs": [
        {
          "output_type": "execute_result",
          "data": {
            "image/jpeg": "[encoded data removed]",
            "text/plain": [
              "<IPython.core.display.Image object>"
            ]
          },
          "metadata": {
            "tags": []
          },
          "execution_count": 50
        }
      ]
    },
    {
      "cell_type": "code",
      "metadata": {
        "id": "FcmAoIYecXfy"
      },
      "source": [
        "new_question = create_question_feature_test(\"is this left or right\")"
      ],
      "execution_count": null,
      "outputs": []
    },
    {
      "cell_type": "code",
      "metadata": {
        "id": "P0Lo_zKHcfYp"
      },
      "source": [
        "new_image = create_image_feature_test('/content/drive/MyDrive/latest_vqa/sample_data/test/healthyhand.jpg',model)"
      ],
      "execution_count": null,
      "outputs": []
    },
    {
      "cell_type": "code",
      "metadata": {
        "id": "11ai0GTxctMj",
        "colab": {
          "base_uri": "https://localhost:8080/"
        },
        "outputId": "c72a5b2c-75fe-4860-d2d1-ba91c71c21af"
      },
      "source": [
        "result=set_trainy[vqa_model.predict_classes([new_question,new_image])[0]]\n"
      ],
      "execution_count": null,
      "outputs": [
        {
          "output_type": "stream",
          "text": [
            "\r1/1 [==============================] - 1s 552ms/step\n"
          ],
          "name": "stdout"
        }
      ]
    },
    {
      "cell_type": "code",
      "metadata": {
        "id": "t4BuR-7zjIYY",
        "colab": {
          "base_uri": "https://localhost:8080/"
        },
        "outputId": "d613f1c9-4c34-4460-8474-b974ea80032e"
      },
      "source": [
        "print(result)"
      ],
      "execution_count": null,
      "outputs": [
        {
          "output_type": "stream",
          "text": [
            "left\n"
          ],
          "name": "stdout"
        }
      ]
    },
    {
      "cell_type": "code",
      "metadata": {
        "id": "ZnkLF-5TgVgg",
        "colab": {
          "base_uri": "https://localhost:8080/",
          "height": 258
        },
        "outputId": "8109cd24-8a76-469e-de7c-2e5688beb3e5"
      },
      "source": [
        "from IPython.display import Image\n",
        "Image(filename='/content/drive/MyDrive/latest_vqa/sample_data/11.jpg')"
      ],
      "execution_count": null,
      "outputs": [
        {
          "output_type": "execute_result",
          "data": {
            "image/jpeg": "[encoded data removed]",
            "text/plain": [
              "<IPython.core.display.Image object>"
            ]
          },
          "metadata": {
            "tags": []
          },
          "execution_count": 55
        }
      ]
    },
    {
      "cell_type": "code",
      "metadata": {
        "id": "PypmkcG1ggKf"
      },
      "source": [
        "new_question = create_question_feature_test(\"what is the body part\")"
      ],
      "execution_count": null,
      "outputs": []
    },
    {
      "cell_type": "code",
      "metadata": {
        "id": "Q61kEE5tgouU"
      },
      "source": [
        "new_image = create_image_feature_test('/content/drive/MyDrive/latest_vqa/sample_data/11.jpg',model)"
      ],
      "execution_count": null,
      "outputs": []
    },
    {
      "cell_type": "code",
      "metadata": {
        "id": "rsa07_VCgtD7",
        "colab": {
          "base_uri": "https://localhost:8080/"
        },
        "outputId": "7bc01654-b883-46b4-fb09-2b55047c52b5"
      },
      "source": [
        "result=set_trainy[vqa_model.predict_classes([new_question,new_image])[0]]\n"
      ],
      "execution_count": null,
      "outputs": [
        {
          "output_type": "stream",
          "text": [
            "\r1/1 [==============================] - 0s 69ms/step\n"
          ],
          "name": "stdout"
        }
      ]
    },
    {
      "cell_type": "code",
      "metadata": {
        "id": "W-r61-GvjMxN",
        "colab": {
          "base_uri": "https://localhost:8080/"
        },
        "outputId": "74fcdf8d-f7f7-4d6c-e225-88a640664aac"
      },
      "source": [
        "print(result)"
      ],
      "execution_count": null,
      "outputs": [
        {
          "output_type": "stream",
          "text": [
            "skull\n"
          ],
          "name": "stdout"
        }
      ]
    },
    {
      "cell_type": "code",
      "metadata": {
        "id": "GTk9tAsVg7qX",
        "colab": {
          "base_uri": "https://localhost:8080/",
          "height": 217
        },
        "outputId": "8e83d232-6145-498b-dcf2-80e5baafee31"
      },
      "source": [
        "from IPython.display import Image\n",
        "Image(filename='/content/drive/MyDrive/latest_vqa/sample_data/47.jpg')"
      ],
      "execution_count": null,
      "outputs": [
        {
          "output_type": "execute_result",
          "data": {
            "image/jpeg": "[encoded data removed]",
            "text/plain": [
              "<IPython.core.display.Image object>"
            ]
          },
          "metadata": {
            "tags": []
          },
          "execution_count": 60
        }
      ]
    },
    {
      "cell_type": "code",
      "metadata": {
        "id": "fMcypnJjhLiG"
      },
      "source": [
        "new_question = create_question_feature_test(\"is this xray\")"
      ],
      "execution_count": null,
      "outputs": []
    },
    {
      "cell_type": "code",
      "metadata": {
        "id": "9KWYhg6HhQKu"
      },
      "source": [
        "new_image = create_image_feature_test('/content/drive/MyDrive/latest_vqa/sample_data/47.jpg',model)"
      ],
      "execution_count": null,
      "outputs": []
    },
    {
      "cell_type": "code",
      "metadata": {
        "id": "juJbdRj1hVk2",
        "colab": {
          "base_uri": "https://localhost:8080/"
        },
        "outputId": "82c9e8fc-4289-4b5e-ead1-e76b86e352ec"
      },
      "source": [
        "result=set_trainy[vqa_model.predict_classes([new_question,new_image])[0]]\n"
      ],
      "execution_count": null,
      "outputs": [
        {
          "output_type": "stream",
          "text": [
            "\r1/1 [==============================] - 0s 60ms/step\n"
          ],
          "name": "stdout"
        }
      ]
    },
    {
      "cell_type": "code",
      "metadata": {
        "id": "JuisrJSsjPhj",
        "colab": {
          "base_uri": "https://localhost:8080/"
        },
        "outputId": "729f83de-aea3-4aca-a4a4-1c0d5a23801e"
      },
      "source": [
        "print(result)"
      ],
      "execution_count": null,
      "outputs": [
        {
          "output_type": "stream",
          "text": [
            "no\n"
          ],
          "name": "stdout"
        }
      ]
    }
  ]
}
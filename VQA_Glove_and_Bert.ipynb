{
  "nbformat": 4,
  "nbformat_minor": 0,
  "metadata": {
    "colab": {
      "name": "VQA_Glove and Bert.ipynb",
      "provenance": [],
      "collapsed_sections": [],
      "machine_shape": "hm"
    },
    "kernelspec": {
      "display_name": "Python 3",
      "language": "python",
      "name": "python3"
    },
    "language_info": {
      "codemirror_mode": {
        "name": "ipython",
        "version": 3
      },
      "file_extension": ".py",
      "mimetype": "text/x-python",
      "name": "python",
      "nbconvert_exporter": "python",
      "pygments_lexer": "ipython3",
      "version": "3.7.1"
    }
  },
  "cells": [
    {
      "cell_type": "markdown",
      "metadata": {
        "id": "mSQjrIsS0si6"
      },
      "source": [
        "# **1.DATA ACQUISITION**"
      ]
    },
    {
      "cell_type": "code",
      "metadata": {
        "colab": {
          "base_uri": "https://localhost:8080/"
        },
        "id": "LvG3FUuIQQLQ",
        "outputId": "cdb93d03-c6ff-44e5-a8b7-18e73e025a93"
      },
      "source": [
        "#required packages version for tensorflow and keras\r\n",
        "#%pip install tensorflow==1.13.1\r\n",
        "%pip install tensorflow==1.14\r\n",
        "!pip install keras==2.1.0"
      ],
      "execution_count": null,
      "outputs": [
        {
          "output_type": "stream",
          "text": [
            "Collecting tensorflow==1.14\n",
            "\u001b[?25l  Downloading https://files.pythonhosted.org/packages/de/f0/96fb2e0412ae9692dbf400e5b04432885f677ad6241c088ccc5fe7724d69/tensorflow-1.14.0-cp36-cp36m-manylinux1_x86_64.whl (109.2MB)\n",
            "\u001b[K     |████████████████████████████████| 109.2MB 35kB/s \n",
            "\u001b[?25hRequirement already satisfied: astor>=0.6.0 in /usr/local/lib/python3.6/dist-packages (from tensorflow==1.14) (0.8.1)\n",
            "Requirement already satisfied: keras-preprocessing>=1.0.5 in /usr/local/lib/python3.6/dist-packages (from tensorflow==1.14) (1.1.2)\n",
            "Requirement already satisfied: absl-py>=0.7.0 in /usr/local/lib/python3.6/dist-packages (from tensorflow==1.14) (0.10.0)\n",
            "Collecting tensorflow-estimator<1.15.0rc0,>=1.14.0rc0\n",
            "\u001b[?25l  Downloading https://files.pythonhosted.org/packages/3c/d5/21860a5b11caf0678fbc8319341b0ae21a07156911132e0e71bffed0510d/tensorflow_estimator-1.14.0-py2.py3-none-any.whl (488kB)\n",
            "\u001b[K     |████████████████████████████████| 491kB 45.5MB/s \n",
            "\u001b[?25hRequirement already satisfied: gast>=0.2.0 in /usr/local/lib/python3.6/dist-packages (from tensorflow==1.14) (0.3.3)\n",
            "Requirement already satisfied: numpy<2.0,>=1.14.5 in /usr/local/lib/python3.6/dist-packages (from tensorflow==1.14) (1.19.4)\n",
            "Collecting keras-applications>=1.0.6\n",
            "\u001b[?25l  Downloading https://files.pythonhosted.org/packages/71/e3/19762fdfc62877ae9102edf6342d71b28fbfd9dea3d2f96a882ce099b03f/Keras_Applications-1.0.8-py3-none-any.whl (50kB)\n",
            "\u001b[K     |████████████████████████████████| 51kB 6.1MB/s \n",
            "\u001b[?25hRequirement already satisfied: wrapt>=1.11.1 in /usr/local/lib/python3.6/dist-packages (from tensorflow==1.14) (1.12.1)\n",
            "Requirement already satisfied: grpcio>=1.8.6 in /usr/local/lib/python3.6/dist-packages (from tensorflow==1.14) (1.32.0)\n",
            "Requirement already satisfied: google-pasta>=0.1.6 in /usr/local/lib/python3.6/dist-packages (from tensorflow==1.14) (0.2.0)\n",
            "Requirement already satisfied: wheel>=0.26 in /usr/local/lib/python3.6/dist-packages (from tensorflow==1.14) (0.36.2)\n",
            "Requirement already satisfied: termcolor>=1.1.0 in /usr/local/lib/python3.6/dist-packages (from tensorflow==1.14) (1.1.0)\n",
            "Requirement already satisfied: protobuf>=3.6.1 in /usr/local/lib/python3.6/dist-packages (from tensorflow==1.14) (3.12.4)\n",
            "Collecting tensorboard<1.15.0,>=1.14.0\n",
            "\u001b[?25l  Downloading https://files.pythonhosted.org/packages/91/2d/2ed263449a078cd9c8a9ba50ebd50123adf1f8cfbea1492f9084169b89d9/tensorboard-1.14.0-py3-none-any.whl (3.1MB)\n",
            "\u001b[K     |████████████████████████████████| 3.2MB 23.8MB/s \n",
            "\u001b[?25hRequirement already satisfied: six>=1.10.0 in /usr/local/lib/python3.6/dist-packages (from tensorflow==1.14) (1.15.0)\n",
            "Requirement already satisfied: h5py in /usr/local/lib/python3.6/dist-packages (from keras-applications>=1.0.6->tensorflow==1.14) (2.10.0)\n",
            "Requirement already satisfied: setuptools in /usr/local/lib/python3.6/dist-packages (from protobuf>=3.6.1->tensorflow==1.14) (51.1.1)\n",
            "Requirement already satisfied: werkzeug>=0.11.15 in /usr/local/lib/python3.6/dist-packages (from tensorboard<1.15.0,>=1.14.0->tensorflow==1.14) (1.0.1)\n",
            "Requirement already satisfied: markdown>=2.6.8 in /usr/local/lib/python3.6/dist-packages (from tensorboard<1.15.0,>=1.14.0->tensorflow==1.14) (3.3.3)\n",
            "Requirement already satisfied: importlib-metadata; python_version < \"3.8\" in /usr/local/lib/python3.6/dist-packages (from markdown>=2.6.8->tensorboard<1.15.0,>=1.14.0->tensorflow==1.14) (3.3.0)\n",
            "Requirement already satisfied: typing-extensions>=3.6.4; python_version < \"3.8\" in /usr/local/lib/python3.6/dist-packages (from importlib-metadata; python_version < \"3.8\"->markdown>=2.6.8->tensorboard<1.15.0,>=1.14.0->tensorflow==1.14) (3.7.4.3)\n",
            "Requirement already satisfied: zipp>=0.5 in /usr/local/lib/python3.6/dist-packages (from importlib-metadata; python_version < \"3.8\"->markdown>=2.6.8->tensorboard<1.15.0,>=1.14.0->tensorflow==1.14) (3.4.0)\n",
            "Installing collected packages: tensorflow-estimator, keras-applications, tensorboard, tensorflow\n",
            "  Found existing installation: tensorflow-estimator 2.4.0\n",
            "    Uninstalling tensorflow-estimator-2.4.0:\n",
            "      Successfully uninstalled tensorflow-estimator-2.4.0\n",
            "  Found existing installation: tensorboard 2.4.0\n",
            "    Uninstalling tensorboard-2.4.0:\n",
            "      Successfully uninstalled tensorboard-2.4.0\n",
            "  Found existing installation: tensorflow 2.4.0\n",
            "    Uninstalling tensorflow-2.4.0:\n",
            "      Successfully uninstalled tensorflow-2.4.0\n",
            "Successfully installed keras-applications-1.0.8 tensorboard-1.14.0 tensorflow-1.14.0 tensorflow-estimator-1.14.0\n",
            "Collecting keras==2.1.0\n",
            "\u001b[?25l  Downloading https://files.pythonhosted.org/packages/bf/c2/b0c2ece713e754d1692aa432ad682751cd1ad6abf7500a534558b1fbfbe7/Keras-2.1.0-py2.py3-none-any.whl (302kB)\n",
            "\u001b[K     |████████████████████████████████| 307kB 4.6MB/s \n",
            "\u001b[?25hRequirement already satisfied: pyyaml in /usr/local/lib/python3.6/dist-packages (from keras==2.1.0) (3.13)\n",
            "Requirement already satisfied: numpy>=1.9.1 in /usr/local/lib/python3.6/dist-packages (from keras==2.1.0) (1.19.4)\n",
            "Requirement already satisfied: scipy>=0.14 in /usr/local/lib/python3.6/dist-packages (from keras==2.1.0) (1.4.1)\n",
            "Requirement already satisfied: six>=1.9.0 in /usr/local/lib/python3.6/dist-packages (from keras==2.1.0) (1.15.0)\n",
            "\u001b[31mERROR: textgenrnn 1.4.1 has requirement keras>=2.1.5, but you'll have keras 2.1.0 which is incompatible.\u001b[0m\n",
            "Installing collected packages: keras\n",
            "  Found existing installation: Keras 2.4.3\n",
            "    Uninstalling Keras-2.4.3:\n",
            "      Successfully uninstalled Keras-2.4.3\n",
            "Successfully installed keras-2.1.0\n"
          ],
          "name": "stdout"
        }
      ]
    },
    {
      "cell_type": "code",
      "metadata": {
        "id": "v1jXXTK0yy4k",
        "colab": {
          "base_uri": "https://localhost:8080/"
        },
        "outputId": "c45c11fe-a351-4c5f-a9a0-e694ce2c201d"
      },
      "source": [
        "import numpy as np\n",
        "import pandas as pd\n",
        "import matplotlib\n",
        "matplotlib.use(u'nbAgg')\n",
        "import matplotlib.pyplot as plt\n",
        "import seaborn as sns\n",
        "import warnings\n",
        "warnings.filterwarnings(\"ignore\")\n",
        "# import spacy\n",
        "import scipy.io\n",
        "import gc\n",
        "from sklearn.preprocessing import LabelEncoder\n",
        "import pickle\n",
        "import json\n",
        "from tensorflow.keras.models import Sequential\n",
        "from tensorflow.python.keras.layers.core import Dense, Dropout, Activation, Reshape\n",
        "from tensorflow.keras import Input\n",
        "#from keras.layers.recurrent import LSTM\n",
        "from tensorflow.keras.layers import concatenate\n",
        "from tensorflow.python.keras.layers.merge import Concatenate\n",
        "from tensorflow.keras.models import model_from_json, Model,Sequential\n",
        "from tensorflow.keras.utils import plot_model\n",
        "from collections import defaultdict\n",
        "import operator\n",
        "from tensorflow.python.keras.utils import np_utils, generic_utils\n",
        "#from progressbar import Bar, ETA, Percentage, ProgressBar\n",
        "from itertools import zip_longest\n",
        "from tensorflow.keras.models import load_model\n",
        "from sklearn.feature_extraction.text import TfidfVectorizer,CountVectorizer\n",
        "from sklearn.model_selection import train_test_split\n",
        "from tensorflow.keras.preprocessing.text import Tokenizer,one_hot\n",
        "from tensorflow.keras.preprocessing.sequence import pad_sequences\n",
        "from tensorflow.python.keras.layers import LSTM, BatchNormalization,concatenate,Flatten,Embedding,Dense,Dropout,MaxPooling2D,Reshape,CuDNNLSTM,SpatialDropout1D\n",
        "from tensorflow.keras.models import Sequential, load_model\n",
        "from tensorflow.keras import Model,Input\n",
        "from tensorflow.python.keras.layers.convolutional import Conv2D,Conv1D\n",
        "from tensorflow.keras import initializers \n",
        "from keras.preprocessing.image import ImageDataGenerator\n",
        "from keras.preprocessing import image\n",
        "import tensorflow.keras.backend as k\n",
        "from sklearn.metrics import roc_auc_score\n",
        "import tensorflow as tf\n",
        "from tensorflow.keras.callbacks import Callback, EarlyStopping,ModelCheckpoint,TensorBoard\n",
        "from time import time\n",
        "from tensorflow.keras.regularizers import l1,l2,l1_l2\n",
        "from scipy.sparse import hstack\n",
        "import tensorflow.keras\n",
        "from tqdm import tqdm\n",
        "from datetime import datetime\n",
        "# import cv2\n",
        "%matplotlib inline\n",
        "#%tensorflow_version 1.x\n",
        "\n",
        "import os\n",
        "os.environ['DISABLE_COLAB_TF_IMPORT_HOOK'] = '1'\n",
        "import tensorflow as tf\n",
        "tf.enable_eager_execution()\n",
        "\n",
        "from google.colab import drive\n",
        "drive.mount('/content/drive')"
      ],
      "execution_count": null,
      "outputs": [
        {
          "output_type": "stream",
          "text": [
            "Using TensorFlow backend.\n"
          ],
          "name": "stderr"
        },
        {
          "output_type": "stream",
          "text": [
            "Mounted at /content/drive\n"
          ],
          "name": "stdout"
        }
      ]
    },
    {
      "cell_type": "code",
      "metadata": {
        "id": "7v3RAI8BULGp"
      },
      "source": [
        "#!wget https://vision.ece.vt.edu/vqa/release_data/mscoco/vqa/mscoco_train2014_annotations.json\r\n",
        "#!cp -r '/content/mscoco_train2014_annotations.json' '/content/drive/MyDrive/v2_Questions_Val_mscoco'\r\n",
        "#que = json.load(open('v2_OpenEnded_mscoco_train2014_questions.json', 'r'))\r\n",
        "#ans = json.load(open('v2_mscoco_train2014_annotations.json', 'r'))\r\n",
        "#v2_mscoco_val2014_annotations.json"
      ],
      "execution_count": null,
      "outputs": []
    },
    {
      "cell_type": "code",
      "metadata": {
        "id": "RKbFUvT8RemH"
      },
      "source": [
        "que = json.load(open('/content/drive/MyDrive/v2_Questions_Val_mscoco/v2_OpenEnded_mscoco_val2014_questions.json', 'r'))\n",
        "ans = json.load(open('/content/drive/MyDrive/v2_Annotations_Val_mscoco.zip (Unzipped Files)/v2_mscoco_val2014_annotations.json', 'r'))"
      ],
      "execution_count": null,
      "outputs": []
    },
    {
      "cell_type": "code",
      "metadata": {
        "colab": {
          "base_uri": "https://localhost:8080/"
        },
        "id": "0AQaRsW-RflI",
        "outputId": "f27ac851-a6b1-42d1-9aa1-66200621e438"
      },
      "source": [
        "print(\"Total no. of question are\",len(que['questions']))\n",
        "print(\"Total no. of answers are\",len(ans['annotations']))"
      ],
      "execution_count": null,
      "outputs": [
        {
          "output_type": "stream",
          "text": [
            "Total no. of question are 214354\n",
            "Total no. of answers are 214354\n"
          ],
          "name": "stdout"
        }
      ]
    },
    {
      "cell_type": "code",
      "metadata": {
        "id": "ZSSO3J_GQEBW"
      },
      "source": [
        "from os import listdir\n",
        "image_dir = '/content/drive/MyDrive/val2015'\n",
        "images= listdir(image_dir)"
      ],
      "execution_count": null,
      "outputs": []
    },
    {
      "cell_type": "code",
      "metadata": {
        "colab": {
          "base_uri": "https://localhost:8080/"
        },
        "id": "g_7KjDlI1rv6",
        "outputId": "88e24ce9-9b5c-4376-81d0-476e4f0b3de8"
      },
      "source": [
        "print(\"Total number of images present in the dataset are\", len(images))"
      ],
      "execution_count": null,
      "outputs": [
        {
          "output_type": "stream",
          "text": [
            "Total number of images present in the dataset are 2053\n"
          ],
          "name": "stdout"
        }
      ]
    },
    {
      "cell_type": "code",
      "metadata": {
        "colab": {
          "base_uri": "https://localhost:8080/"
        },
        "id": "MqK9dE8DPbwS",
        "outputId": "6af34d9b-bae7-4193-d7c4-b91dc8833329"
      },
      "source": [
        "# CONVERTING DATA FROM JASON TO PANDAS DATAFRAME\n",
        "subtype='val2014'\n",
        "data=[]\n",
        "imdir='%s/COCO_%s_%012d.jpg'\n",
        "for i in tqdm(range(len(ans['annotations']))):\n",
        "    answ=ans['annotations'][i]['multiple_choice_answer']\n",
        "    im_path=imdir%(subtype,subtype,ans['annotations'][i]['image_id'])\n",
        "    ques=que['questions'][i]['question']\n",
        "    data.append({'im_path':im_path,'ques':ques,'answ':answ})"
      ],
      "execution_count": null,
      "outputs": [
        {
          "output_type": "stream",
          "text": [
            "100%|██████████| 214354/214354 [00:00<00:00, 501249.04it/s]\n"
          ],
          "name": "stderr"
        }
      ]
    },
    {
      "cell_type": "code",
      "metadata": {
        "colab": {
          "base_uri": "https://localhost:8080/",
          "height": 202
        },
        "id": "bMjwJm_wPbwq",
        "outputId": "331abf5a-e95a-4dbe-e715-404a28aca5a7"
      },
      "source": [
        "total_data=pd.DataFrame(data)\n",
        "total_data.im_path = '/content/drive/MyDrive/'+total_data[\"im_path\"] \n",
        "total_data.head()"
      ],
      "execution_count": null,
      "outputs": [
        {
          "output_type": "execute_result",
          "data": {
            "text/html": [
              "<div>\n",
              "<style scoped>\n",
              "    .dataframe tbody tr th:only-of-type {\n",
              "        vertical-align: middle;\n",
              "    }\n",
              "\n",
              "    .dataframe tbody tr th {\n",
              "        vertical-align: top;\n",
              "    }\n",
              "\n",
              "    .dataframe thead th {\n",
              "        text-align: right;\n",
              "    }\n",
              "</style>\n",
              "<table border=\"1\" class=\"dataframe\">\n",
              "  <thead>\n",
              "    <tr style=\"text-align: right;\">\n",
              "      <th></th>\n",
              "      <th>im_path</th>\n",
              "      <th>ques</th>\n",
              "      <th>answ</th>\n",
              "    </tr>\n",
              "  </thead>\n",
              "  <tbody>\n",
              "    <tr>\n",
              "      <th>0</th>\n",
              "      <td>/content/drive/MyDrive/val2014/COCO_val2014_00...</td>\n",
              "      <td>Where is he looking?</td>\n",
              "      <td>down</td>\n",
              "    </tr>\n",
              "    <tr>\n",
              "      <th>1</th>\n",
              "      <td>/content/drive/MyDrive/val2014/COCO_val2014_00...</td>\n",
              "      <td>What are the people in the background doing?</td>\n",
              "      <td>watching</td>\n",
              "    </tr>\n",
              "    <tr>\n",
              "      <th>2</th>\n",
              "      <td>/content/drive/MyDrive/val2014/COCO_val2014_00...</td>\n",
              "      <td>What is he on top of?</td>\n",
              "      <td>picnic table</td>\n",
              "    </tr>\n",
              "    <tr>\n",
              "      <th>3</th>\n",
              "      <td>/content/drive/MyDrive/val2014/COCO_val2014_00...</td>\n",
              "      <td>What website copyrighted the picture?</td>\n",
              "      <td>foodiebakercom</td>\n",
              "    </tr>\n",
              "    <tr>\n",
              "      <th>4</th>\n",
              "      <td>/content/drive/MyDrive/val2014/COCO_val2014_00...</td>\n",
              "      <td>Is this a creamy soup?</td>\n",
              "      <td>no</td>\n",
              "    </tr>\n",
              "  </tbody>\n",
              "</table>\n",
              "</div>"
            ],
            "text/plain": [
              "                                             im_path  ...            answ\n",
              "0  /content/drive/MyDrive/val2014/COCO_val2014_00...  ...            down\n",
              "1  /content/drive/MyDrive/val2014/COCO_val2014_00...  ...        watching\n",
              "2  /content/drive/MyDrive/val2014/COCO_val2014_00...  ...    picnic table\n",
              "3  /content/drive/MyDrive/val2014/COCO_val2014_00...  ...  foodiebakercom\n",
              "4  /content/drive/MyDrive/val2014/COCO_val2014_00...  ...              no\n",
              "\n",
              "[5 rows x 3 columns]"
            ]
          },
          "metadata": {
            "tags": []
          },
          "execution_count": 11
        }
      ]
    },
    {
      "cell_type": "code",
      "metadata": {
        "colab": {
          "base_uri": "https://localhost:8080/"
        },
        "id": "a7J-rP9614H9",
        "outputId": "de9211fd-ee33-426d-92e8-3d9665622aab"
      },
      "source": [
        "total_data.shape"
      ],
      "execution_count": null,
      "outputs": [
        {
          "output_type": "execute_result",
          "data": {
            "text/plain": [
              "(214354, 3)"
            ]
          },
          "metadata": {
            "tags": []
          },
          "execution_count": 12
        }
      ]
    },
    {
      "cell_type": "markdown",
      "metadata": {
        "id": "EMZjqQu_lf7C"
      },
      "source": [
        "# **PREPROCESSING**"
      ]
    },
    {
      "cell_type": "code",
      "metadata": {
        "id": "1O1pUtQHPbw7"
      },
      "source": [
        "import re\n",
        "\n",
        "def decontracted(phrase):\n",
        "    # specific\n",
        "    phrase = re.sub(r\"won't\", \"will not\", phrase)\n",
        "    phrase = re.sub(r\"can\\'t\", \"can not\", phrase)\n",
        "\n",
        "    # general\n",
        "    phrase = re.sub(r\"n\\'t\", \" not\", phrase)\n",
        "    phrase = re.sub(r\"\\'re\", \" are\", phrase)\n",
        "    phrase = re.sub(r\"\\'s\", \" is\", phrase)\n",
        "    phrase = re.sub(r\"\\'d\", \" would\", phrase)\n",
        "    phrase = re.sub(r\"\\'ll\", \" will\", phrase)\n",
        "    phrase = re.sub(r\"\\'t\", \" not\", phrase)\n",
        "    phrase = re.sub(r\"\\'ve\", \" have\", phrase)\n",
        "    phrase = re.sub(r\"\\'m\", \" am\", phrase)\n",
        "    return phrase"
      ],
      "execution_count": null,
      "outputs": []
    },
    {
      "cell_type": "code",
      "metadata": {
        "colab": {
          "base_uri": "https://localhost:8080/"
        },
        "id": "pwSvZhdJPbxA",
        "outputId": "874a20bb-2fc5-419c-a137-039d4d465a55"
      },
      "source": [
        "preprocessed_questions = []\n",
        "for question in tqdm(total_data['ques'].values):\n",
        "    que = decontracted(question) \n",
        "    preprocessed_questions.append(que.lower().strip())"
      ],
      "execution_count": null,
      "outputs": [
        {
          "output_type": "stream",
          "text": [
            "100%|██████████| 214354/214354 [00:01<00:00, 118295.83it/s]\n"
          ],
          "name": "stderr"
        }
      ]
    },
    {
      "cell_type": "code",
      "metadata": {
        "colab": {
          "base_uri": "https://localhost:8080/",
          "height": 110
        },
        "id": "kOh-B9_xPbxH",
        "outputId": "8b8d5e59-bb60-4c4d-a9bf-34d7e12eabc7"
      },
      "source": [
        "total_data['ques']=preprocessed_questions\n",
        "total_data.head(2)"
      ],
      "execution_count": null,
      "outputs": [
        {
          "output_type": "execute_result",
          "data": {
            "text/html": [
              "<div>\n",
              "<style scoped>\n",
              "    .dataframe tbody tr th:only-of-type {\n",
              "        vertical-align: middle;\n",
              "    }\n",
              "\n",
              "    .dataframe tbody tr th {\n",
              "        vertical-align: top;\n",
              "    }\n",
              "\n",
              "    .dataframe thead th {\n",
              "        text-align: right;\n",
              "    }\n",
              "</style>\n",
              "<table border=\"1\" class=\"dataframe\">\n",
              "  <thead>\n",
              "    <tr style=\"text-align: right;\">\n",
              "      <th></th>\n",
              "      <th>im_path</th>\n",
              "      <th>ques</th>\n",
              "      <th>answ</th>\n",
              "    </tr>\n",
              "  </thead>\n",
              "  <tbody>\n",
              "    <tr>\n",
              "      <th>0</th>\n",
              "      <td>/content/drive/MyDrive/val2014/COCO_val2014_00...</td>\n",
              "      <td>where is he looking?</td>\n",
              "      <td>down</td>\n",
              "    </tr>\n",
              "    <tr>\n",
              "      <th>1</th>\n",
              "      <td>/content/drive/MyDrive/val2014/COCO_val2014_00...</td>\n",
              "      <td>what are the people in the background doing?</td>\n",
              "      <td>watching</td>\n",
              "    </tr>\n",
              "  </tbody>\n",
              "</table>\n",
              "</div>"
            ],
            "text/plain": [
              "                                             im_path  ...      answ\n",
              "0  /content/drive/MyDrive/val2014/COCO_val2014_00...  ...      down\n",
              "1  /content/drive/MyDrive/val2014/COCO_val2014_00...  ...  watching\n",
              "\n",
              "[2 rows x 3 columns]"
            ]
          },
          "metadata": {
            "tags": []
          },
          "execution_count": 15
        }
      ]
    },
    {
      "cell_type": "code",
      "metadata": {
        "id": "X_x8ULtsnIAE"
      },
      "source": [
        "total_data=total_data.reset_index(drop=True)"
      ],
      "execution_count": null,
      "outputs": []
    },
    {
      "cell_type": "code",
      "metadata": {
        "id": "SOe_QGDpPbxd"
      },
      "source": [
        "a=pd.DataFrame(total_data['answ'].value_counts()[:2])\n",
        "ind=list(a.index)"
      ],
      "execution_count": null,
      "outputs": []
    },
    {
      "cell_type": "code",
      "metadata": {
        "colab": {
          "base_uri": "https://localhost:8080/"
        },
        "id": "vMuACZg6PbyF",
        "outputId": "99c86879-24f9-4977-c6bb-1fc144ba8764"
      },
      "source": [
        "top_data=pd.DataFrame()\n",
        "for i in tqdm(ind):\n",
        "    top_data1=total_data[total_data.answ == i]\n",
        "    top_data=pd.concat([top_data,top_data1],ignore_index=True)"
      ],
      "execution_count": null,
      "outputs": [
        {
          "output_type": "stream",
          "text": [
            "100%|██████████| 2/2 [00:00<00:00, 14.94it/s]\n"
          ],
          "name": "stderr"
        }
      ]
    },
    {
      "cell_type": "code",
      "metadata": {
        "colab": {
          "base_uri": "https://localhost:8080/"
        },
        "id": "RBH29fPOPbyM",
        "outputId": "fb3241b3-ea52-4b11-c69d-53305c55f44b"
      },
      "source": [
        "print(\"Shape of data after considering top 2 answers is\",top_data.shape)"
      ],
      "execution_count": null,
      "outputs": [
        {
          "output_type": "stream",
          "text": [
            "Shape of data after considering top 2 answers is (80810, 3)\n"
          ],
          "name": "stdout"
        }
      ]
    },
    {
      "cell_type": "code",
      "metadata": {
        "id": "zZFeAY6BPbyZ"
      },
      "source": [
        "top_data=top_data.sample(40000).reset_index(drop=True)"
      ],
      "execution_count": null,
      "outputs": []
    },
    {
      "cell_type": "code",
      "metadata": {
        "colab": {
          "base_uri": "https://localhost:8080/"
        },
        "id": "FDTe2to3zHFs",
        "outputId": "22f74f82-68d3-47c3-8a1e-14115ae88064"
      },
      "source": [
        "print(\"Shape of data after considering top 2 answers is\",top_data.shape)"
      ],
      "execution_count": null,
      "outputs": [
        {
          "output_type": "stream",
          "text": [
            "Shape of data after considering top 2 answers is (40000, 3)\n"
          ],
          "name": "stdout"
        }
      ]
    },
    {
      "cell_type": "code",
      "metadata": {
        "colab": {
          "base_uri": "https://localhost:8080/",
          "height": 110
        },
        "id": "WoKBjMsxPbyg",
        "outputId": "ddc097d2-c74c-4030-9d8f-d6604f8c56c2"
      },
      "source": [
        "top_data.head(2)"
      ],
      "execution_count": null,
      "outputs": [
        {
          "output_type": "execute_result",
          "data": {
            "text/html": [
              "<div>\n",
              "<style scoped>\n",
              "    .dataframe tbody tr th:only-of-type {\n",
              "        vertical-align: middle;\n",
              "    }\n",
              "\n",
              "    .dataframe tbody tr th {\n",
              "        vertical-align: top;\n",
              "    }\n",
              "\n",
              "    .dataframe thead th {\n",
              "        text-align: right;\n",
              "    }\n",
              "</style>\n",
              "<table border=\"1\" class=\"dataframe\">\n",
              "  <thead>\n",
              "    <tr style=\"text-align: right;\">\n",
              "      <th></th>\n",
              "      <th>im_path</th>\n",
              "      <th>ques</th>\n",
              "      <th>answ</th>\n",
              "    </tr>\n",
              "  </thead>\n",
              "  <tbody>\n",
              "    <tr>\n",
              "      <th>0</th>\n",
              "      <td>/content/drive/MyDrive/val2014/COCO_val2014_00...</td>\n",
              "      <td>is the tram full of people?</td>\n",
              "      <td>yes</td>\n",
              "    </tr>\n",
              "    <tr>\n",
              "      <th>1</th>\n",
              "      <td>/content/drive/MyDrive/val2014/COCO_val2014_00...</td>\n",
              "      <td>is this man riding a wave?</td>\n",
              "      <td>yes</td>\n",
              "    </tr>\n",
              "  </tbody>\n",
              "</table>\n",
              "</div>"
            ],
            "text/plain": [
              "                                             im_path  ... answ\n",
              "0  /content/drive/MyDrive/val2014/COCO_val2014_00...  ...  yes\n",
              "1  /content/drive/MyDrive/val2014/COCO_val2014_00...  ...  yes\n",
              "\n",
              "[2 rows x 3 columns]"
            ]
          },
          "metadata": {
            "tags": []
          },
          "execution_count": 22
        }
      ]
    },
    {
      "cell_type": "markdown",
      "metadata": {
        "id": "qN9jSCIWma4A"
      },
      "source": [
        "# **Exploratory Data Analysis**"
      ]
    },
    {
      "cell_type": "code",
      "metadata": {
        "id": "KFV5gjwBPbyn",
        "colab": {
          "base_uri": "https://localhost:8080/",
          "height": 345
        },
        "outputId": "24a2b0b9-0d8f-495b-c568-5d4988556588"
      },
      "source": [
        "word_count = top_data['ques'].str.split().apply(len).value_counts()\n",
        "word_dict = dict(word_count)\n",
        "word_dict = dict(sorted(word_dict.items(), key=lambda kv: kv[1],reverse=True))\n",
        "\n",
        "\n",
        "ind = np.arange(len(word_dict))\n",
        "plt.figure(figsize=(20,5))\n",
        "p1 = plt.bar(ind, list(word_dict.values()))\n",
        "\n",
        "plt.ylabel('Number of questions')\n",
        "plt.xlabel('Number of words in questions')\n",
        "plt.title('Words for each question')\n",
        "plt.xticks(ind, list(word_dict.keys()))\n",
        "plt.show()"
      ],
      "execution_count": null,
      "outputs": [
        {
          "output_type": "display_data",
          "data": {
            "image/png": "[encoded data removed]",
            "text/plain": [
              "<Figure size 1440x360 with 1 Axes>"
            ]
          },
          "metadata": {
            "tags": [],
            "needs_background": "light"
          }
        }
      ]
    },
    {
      "cell_type": "markdown",
      "metadata": {
        "id": "t9Lz5evaGNic"
      },
      "source": [
        "Observations:\n",
        "1. Most of the question length is 4 to 8 words.\n",
        "2. Maximum length of question is 22 words."
      ]
    },
    {
      "cell_type": "code",
      "metadata": {
        "colab": {
          "base_uri": "https://localhost:8080/",
          "height": 265
        },
        "id": "q-S4D-BEPby2",
        "outputId": "124b9253-fa8c-49e7-d926-3c253aa0e645"
      },
      "source": [
        "que_word_count = top_data['ques'].str.split().apply(len)\n",
        "plt.boxplot(que_word_count)\n",
        "plt.xticks([1],'questions')\n",
        "plt.ylabel('Words in questions')\n",
        "plt.grid()\n",
        "plt.show()"
      ],
      "execution_count": null,
      "outputs": [
        {
          "output_type": "display_data",
          "data": {
            "image/png": "[encoded data removed]",
            "text/plain": [
              "<Figure size 432x288 with 1 Axes>"
            ]
          },
          "metadata": {
            "tags": [],
            "needs_background": "light"
          }
        }
      ]
    },
    {
      "cell_type": "markdown",
      "metadata": {
        "id": "Jw7GC7kjGxiY"
      },
      "source": [
        "Observations:\n",
        "1. 50% questions have 5 to 8 words.\n",
        "2. Most of the questions have less than 10 words although there are few questions having greater than 10 words."
      ]
    },
    {
      "cell_type": "code",
      "metadata": {
        "colab": {
          "base_uri": "https://localhost:8080/",
          "height": 343
        },
        "id": "rTExqWvbPbzF",
        "outputId": "3ae3e4cb-b9da-4dba-cd19-41bbf8cb89b6"
      },
      "source": [
        "word_count = top_data['answ'].value_counts()[0:20]\n",
        "word_dict = dict(word_count)\n",
        "word_dict = dict(sorted(word_dict.items(), key=lambda kv: kv[1],reverse=True))\n",
        "\n",
        "\n",
        "ind = np.arange(len(word_dict))\n",
        "plt.figure(figsize=(20,5))\n",
        "p1 = plt.bar(ind, list(word_dict.values()))\n",
        "\n",
        "plt.ylabel('Count')\n",
        "plt.xlabel('Top 20 answers')\n",
        "plt.title('Count of top 20 answers')\n",
        "plt.xticks(ind, list(word_dict.keys()))\n",
        "plt.show()"
      ],
      "execution_count": null,
      "outputs": [
        {
          "output_type": "display_data",
          "data": {
            "image/png": "[encoded data removed]",
            "text/plain": [
              "<Figure size 1440x360 with 1 Axes>"
            ]
          },
          "metadata": {
            "tags": [],
            "needs_background": "light"
          }
        }
      ]
    },
    {
      "cell_type": "markdown",
      "metadata": {
        "id": "d5DtLBaMHl_C"
      },
      "source": [
        "Observations:\n",
        "1. Very large proportion of the answer have yes/no answer.\n",
        "2. Apart from binary answers  most common answes constists of either colors or numbers"
      ]
    },
    {
      "cell_type": "code",
      "metadata": {
        "colab": {
          "base_uri": "https://localhost:8080/"
        },
        "id": "q9rEIfwwPbzL",
        "outputId": "ec90fc60-d4db-418c-9b40-b4bf6ceef830"
      },
      "source": [
        "cnt1= top_data[top_data['answ']=='yes']['answ'].count()+top_data[top_data['answ']=='no']['answ'].count()\n",
        "cnt2= len(top_data)-cnt1\n",
        "print(\"Total no of binary(yes/no) answers  :\",cnt1)\n",
        "print(\"% of binary answers                 :\",np.round(cnt1/len(top_data)*100,2))\n",
        "print(\"Total no of multiple answers        :\",cnt2)\n",
        "print(\"% of multiple answers               :\",np.round(cnt2/len(top_data)*100,2))"
      ],
      "execution_count": null,
      "outputs": [
        {
          "output_type": "stream",
          "text": [
            "Total no of binary(yes/no) answers  : 40000\n",
            "% of binary answers                 : 100.0\n",
            "Total no of multiple answers        : 0\n",
            "% of multiple answers               : 0.0\n"
          ],
          "name": "stdout"
        }
      ]
    },
    {
      "cell_type": "code",
      "metadata": {
        "colab": {
          "base_uri": "https://localhost:8080/",
          "height": 343
        },
        "id": "wB_TkWc7PbzX",
        "outputId": "1767311a-23dc-4409-8ef8-2bc319350f3e"
      },
      "source": [
        "word_count = top_data['answ'].str.split().apply(len).value_counts()\n",
        "word_dict = dict(word_count)\n",
        "word_dict = dict(sorted(word_dict.items(), key=lambda kv: kv[1],reverse=True))\n",
        "\n",
        "\n",
        "ind = np.arange(len(word_dict))\n",
        "plt.figure(figsize=(20,5))\n",
        "p1 = plt.bar(ind, list(word_dict.values()))\n",
        "\n",
        "plt.ylabel('Number of answers')\n",
        "plt.xlabel('Number of words in answers')\n",
        "plt.title('Words for each answer')\n",
        "plt.xticks(ind, list(word_dict.keys()))\n",
        "plt.show()"
      ],
      "execution_count": null,
      "outputs": [
        {
          "output_type": "display_data",
          "data": {
            "image/png": "[encoded data removed]",
            "text/plain": [
              "<Figure size 1440x360 with 1 Axes>"
            ]
          },
          "metadata": {
            "tags": [],
            "needs_background": "light"
          }
        }
      ]
    },
    {
      "cell_type": "markdown",
      "metadata": {
        "id": "yCWugHqQIjpk"
      },
      "source": [
        "Observations:\n",
        "1. Almost 95% answers are one word answers although few questions have 2,3 and 4 word answers."
      ]
    },
    {
      "cell_type": "code",
      "metadata": {
        "id": "9aTWvl8WPbz4"
      },
      "source": [
        "\n",
        "#top_data.drop(['answ'],axis=1,inplace=True)"
      ],
      "execution_count": null,
      "outputs": []
    },
    {
      "cell_type": "code",
      "metadata": {
        "id": "2mFgvDw4QAtJ"
      },
      "source": [
        "x_train=pd.read_csv('/content/drive/MyDrive/data/x_train.csv')\n",
        "x_test=pd.read_csv('/content/drive/MyDrive/data/x_test.csv')\n",
        "y_train=pd.read_csv('/content/drive/MyDrive/data/y_train.csv')\n",
        "y_test=pd.read_csv('/content/drive/MyDrive/data/y_test.csv')"
      ],
      "execution_count": 35,
      "outputs": []
    },
    {
      "cell_type": "code",
      "metadata": {
        "id": "-dNg5dTMZWw2"
      },
      "source": [
        "y_train.drop(['Unnamed: 0'],axis=1,inplace=True)"
      ],
      "execution_count": 36,
      "outputs": []
    },
    {
      "cell_type": "code",
      "metadata": {
        "id": "NL31fisXZkfa"
      },
      "source": [
        "y_test.drop(['Unnamed: 0'],axis=1,inplace=True)"
      ],
      "execution_count": 37,
      "outputs": []
    },
    {
      "cell_type": "code",
      "metadata": {
        "id": "DnOLmE2212FL",
        "colab": {
          "base_uri": "https://localhost:8080/"
        },
        "outputId": "acdef218-2cd0-40a6-dc9b-552d55c2d196"
      },
      "source": [
        "!pip uninstall keras-preprocessing"
      ],
      "execution_count": 38,
      "outputs": [
        {
          "output_type": "stream",
          "text": [
            "Uninstalling Keras-Preprocessing-1.1.2:\n",
            "  Would remove:\n",
            "    /usr/local/lib/python3.6/dist-packages/Keras_Preprocessing-1.1.2.dist-info/*\n",
            "    /usr/local/lib/python3.6/dist-packages/keras_preprocessing/*\n",
            "Proceed (y/n)? y\n",
            "  Successfully uninstalled Keras-Preprocessing-1.1.2\n"
          ],
          "name": "stdout"
        }
      ]
    },
    {
      "cell_type": "code",
      "metadata": {
        "id": "eFJLpz0z12BF",
        "colab": {
          "base_uri": "https://localhost:8080/",
          "height": 326
        },
        "outputId": "e301527a-7177-480d-e658-dfefff95df0e"
      },
      "source": [
        "pip install git+https://github.com/keras-team/keras-preprocessing.git"
      ],
      "execution_count": null,
      "outputs": [
        {
          "output_type": "stream",
          "text": [
            "Collecting git+https://github.com/keras-team/keras-preprocessing.git\n",
            "  Cloning https://github.com/keras-team/keras-preprocessing.git to /tmp/pip-req-build-12ig7fe3\n",
            "  Running command git clone -q https://github.com/keras-team/keras-preprocessing.git /tmp/pip-req-build-12ig7fe3\n",
            "Requirement already satisfied: numpy>=1.9.1 in /usr/local/lib/python3.6/dist-packages (from Keras-Preprocessing==1.1.2) (1.19.4)\n",
            "Building wheels for collected packages: Keras-Preprocessing\n",
            "  Building wheel for Keras-Preprocessing (setup.py) ... \u001b[?25l\u001b[?25hdone\n",
            "  Created wheel for Keras-Preprocessing: filename=Keras_Preprocessing-1.1.2-cp36-none-any.whl size=43074 sha256=07c0d3ef4d13ca80d35bc18e402edfac14d4cad1176b241a2356126c5dc41c0e\n",
            "  Stored in directory: /tmp/pip-ephem-wheel-cache-zrcu7w86/wheels/03/a0/39/171f6040d36f36c71168dc69afa81334351b20955dc36ce932\n",
            "Successfully built Keras-Preprocessing\n",
            "Installing collected packages: Keras-Preprocessing\n",
            "Successfully installed Keras-Preprocessing-1.1.2\n"
          ],
          "name": "stdout"
        },
        {
          "output_type": "display_data",
          "data": {
            "application/vnd.colab-display-data+json": {
              "pip_warning": {
                "packages": [
                  "keras_preprocessing"
                ]
              }
            }
          },
          "metadata": {
            "tags": []
          }
        }
      ]
    },
    {
      "cell_type": "code",
      "metadata": {
        "id": "h5A6-WGC2lRP"
      },
      "source": [
        "from keras_preprocessing.image import ImageDataGenerator"
      ],
      "execution_count": null,
      "outputs": []
    },
    {
      "cell_type": "code",
      "metadata": {
        "id": "AcXxKO6eWf1S"
      },
      "source": [
        "from tensorflow.keras.applications.vgg16 import VGG16\n",
        "from tensorflow.keras.applications.vgg16 import preprocess_input\n",
        "from tensorflow.keras.preprocessing.image import load_img,img_to_array"
      ],
      "execution_count": null,
      "outputs": []
    },
    {
      "cell_type": "markdown",
      "metadata": {
        "id": "iEwPBX2woeTt"
      },
      "source": [
        "# **ENCODING QUESTIONS**"
      ]
    },
    {
      "cell_type": "code",
      "metadata": {
        "id": "gdyRV8BHvxmm"
      },
      "source": [
        "def textokenizer(text):\n",
        "  max_length = 24\n",
        "  tok = Tokenizer()\n",
        "  tok.fit_on_texts(x_train['ques'])\n",
        "  vocab_size = len(tok.word_index) + 1\n",
        "  #print('Total unique words in the x_train',vocab_size)\n",
        "  encoded_text = tok.texts_to_sequences(text)\n",
        "  padded_text = pad_sequences(encoded_text, maxlen=max_length)  #padding zeros at the begining of each question so that each sequence will have same length\n",
        "  #print(padded_text.shape)\n",
        "  return padded_text, tok"
      ],
      "execution_count": null,
      "outputs": []
    },
    {
      "cell_type": "code",
      "metadata": {
        "id": "yv8thPonfhPG"
      },
      "source": [
        "#!wget http://downloads.cs.stanford.edu/nlp/data/glove.6B.zip\r\n",
        "#!cp -r '/content/glove.6B.zip' '/content/drive/MyDrive/data'\r\n",
        "#!unzip /content/drive/MyDrive/data/glove.6B.zip\r\n",
        "#!cp -r '/content/glove.6B.300d.txt' '/content/drive/MyDrive/data'\r\n",
        "#!unzip '/content/drive/MyDrive/data/glove.840B.300d.pkl.zip'\r\n",
        "#!cp -r '/content/glove.840B.300d.pkl' '/content/drive/MyDrive/data'"
      ],
      "execution_count": null,
      "outputs": []
    },
    {
      "cell_type": "code",
      "metadata": {
        "id": "6oCBcfaIlf04"
      },
      "source": [
        "#from gensim.scripts.glove2word2vec import glove2word2vec\r\n",
        "#glove2word2vec(glove_input_file=\"/content/drive/MyDrive/data/glove.6B.300d.txt\", word2vec_output_file=\"gensim_glove_vectors.txt\")\r\n",
        "#!cp -r '/content/gensim_glove_vectors.txt' '/content/drive/MyDrive/data'\r\n",
        "#from gensim.models.keyedvectors import KeyedVectors\r\n",
        "#glove_model = KeyedVectors.load_word2vec_format(\"/content/drive/MyDrive/data/gensim_glove_vectors.txt\", binary=False)"
      ],
      "execution_count": null,
      "outputs": []
    },
    {
      "cell_type": "code",
      "metadata": {
        "id": "np4VtIL7Pb1C"
      },
      "source": [
        "#Each token is represented using 300-dim vector using pre-trained GloVe representation.\n",
        "with open('/content/drive/MyDrive/data/glove.840B.300d.pkl', 'rb') as f:\n",
        "    model = pickle.load(f)\n",
        "    glove_words =  set(model.keys())\n",
        "# for train\n",
        "_,tok = textokenizer(x_train['ques'])\n",
        "vocab_size = len(tok.word_index) + 1\n",
        "embedding_matrix_train = np.zeros((vocab_size, 300))\n",
        "for word, i in tok.word_index.items():\n",
        "    if word in glove_words:\n",
        "        embedding_vector = model[word]\n",
        "        embedding_matrix_train[i] = embedding_vector"
      ],
      "execution_count": null,
      "outputs": []
    },
    {
      "cell_type": "code",
      "metadata": {
        "colab": {
          "base_uri": "https://localhost:8080/"
        },
        "id": "NTyTuxMtPb1G",
        "outputId": "d492c3f3-a961-4cff-f1d1-cdf15267c34e"
      },
      "source": [
        "print(\"embedding matrix shape\",embedding_matrix_train.shape)"
      ],
      "execution_count": null,
      "outputs": [
        {
          "output_type": "stream",
          "text": [
            "embedding matrix shape (112, 300)\n"
          ],
          "name": "stdout"
        }
      ]
    },
    {
      "cell_type": "markdown",
      "metadata": {
        "id": "oSnBXE99qRF0"
      },
      "source": [
        "# **ENCODING ANSWERS**"
      ]
    },
    {
      "cell_type": "code",
      "metadata": {
        "id": "e8ja_jPdPb1M"
      },
      "source": [
        "def optokens(classes):\n",
        "  from sklearn.preprocessing import OneHotEncoder\n",
        "  ohe=OneHotEncoder(handle_unknown='ignore')\n",
        "  ohe.fit(y_train.values.reshape(-1,1))\n",
        "  optoken=ohe.transform(classes.values.reshape(-1,1)).toarray()\n",
        "  return optoken, ohe"
      ],
      "execution_count": null,
      "outputs": []
    },
    {
      "cell_type": "code",
      "metadata": {
        "id": "sYhLxSc6cPyk"
      },
      "source": [
        "_,ohe=optokens(x_train['answ'])"
      ],
      "execution_count": null,
      "outputs": []
    },
    {
      "cell_type": "code",
      "metadata": {
        "id": "o_L17hI9cJel"
      },
      "source": [
        "pickle.dump(ohe,open('/content/drive/MyDrive/data/ohe.pkl','wb'))"
      ],
      "execution_count": null,
      "outputs": []
    },
    {
      "cell_type": "markdown",
      "metadata": {
        "id": "1zjb2TyOrHJp"
      },
      "source": [
        "# **CREATING DATASET**"
      ]
    },
    {
      "cell_type": "code",
      "metadata": {
        "id": "Ji5a56YNAAGA",
        "colab": {
          "base_uri": "https://localhost:8080/"
        },
        "outputId": "f977fc08-72d7-4746-803f-17874d671fa3"
      },
      "source": [
        "from tensorflow.keras.layers import MaxPooling2D,Conv2D,Input,Add,MaxPool2D,Flatten,AveragePooling2D,Dense,BatchNormalization,ZeroPadding2D,Activation,Concatenate,UpSampling2D\n",
        "from tensorflow.keras.models import Model\n",
        "model = VGG16(weights='imagenet')\n",
        "feature_model = Model(inputs=model.inputs, outputs=model.layers[-2].output)"
      ],
      "execution_count": null,
      "outputs": [
        {
          "output_type": "stream",
          "text": [
            "Downloading data from https://github.com/fchollet/deep-learning-models/releases/download/v0.1/vgg16_weights_tf_dim_ordering_tf_kernels.h5\n",
            "553467904/553467096 [==============================] - 12s 0us/step\n"
          ],
          "name": "stdout"
        }
      ]
    },
    {
      "cell_type": "code",
      "metadata": {
        "colab": {
          "base_uri": "https://localhost:8080/"
        },
        "id": "Y2eq8Df6247Z",
        "outputId": "e25f8000-6be7-44a4-dec7-174539070be4"
      },
      "source": [
        "len(set(top_data['im_path'].tolist()))"
      ],
      "execution_count": null,
      "outputs": [
        {
          "output_type": "execute_result",
          "data": {
            "text/plain": [
              "27"
            ]
          },
          "metadata": {
            "tags": []
          },
          "execution_count": 48
        }
      ]
    },
    {
      "cell_type": "code",
      "metadata": {
        "id": "OUhyGKvADW8f"
      },
      "source": [
        "def parse_function(filename):\n",
        "    image_string = tf.io.read_file(filename)\n",
        "    #Don't use tf.image.decode_image, or the output shape will be undefined\n",
        "    image = tf.image.decode_jpeg(image_string, channels=3)\n",
        "    #This will convert to float values in [0, 1]\n",
        "    image = tf.image.convert_image_dtype(image, tf.float32)\n",
        "    image = tf.image.resize(image, [224, 224])\n",
        "    return  image, filename"
      ],
      "execution_count": null,
      "outputs": []
    },
    {
      "cell_type": "code",
      "metadata": {
        "colab": {
          "base_uri": "https://localhost:8080/",
          "height": 35
        },
        "id": "qflEZWSMFjWj",
        "outputId": "9b1cc667-d212-466d-a759-7e8fa23625e7"
      },
      "source": [
        "img_fl = sorted(set(top_data['im_path'].tolist()))\r\n",
        "img_fl[1]"
      ],
      "execution_count": null,
      "outputs": [
        {
          "output_type": "execute_result",
          "data": {
            "application/vnd.google.colaboratory.intrinsic+json": {
              "type": "string"
            },
            "text/plain": [
              "'/content/drive/MyDrive/val2014/COCO_val2014_000000000196.jpg'"
            ]
          },
          "metadata": {
            "tags": []
          },
          "execution_count": 50
        }
      ]
    },
    {
      "cell_type": "code",
      "metadata": {
        "colab": {
          "base_uri": "https://localhost:8080/"
        },
        "id": "pP1hcZKxDRDt",
        "outputId": "2270562c-dd7e-492e-8f3e-bc2faa43f35c"
      },
      "source": [
        "img_fl=sorted(set(top_data['im_path'].tolist()))\n",
        "img_data_tr=tf.data.Dataset.from_tensor_slices(img_fl)\n",
        "img_data_tr=img_data_tr.map(parse_function,num_parallel_calls=tf.data.experimental.AUTOTUNE).batch(32).prefetch(buffer_size=tf.data.experimental.AUTOTUNE)\n",
        "for img, path in tqdm(img_data_tr):\n",
        "  batch_features = feature_model(img)\n",
        "  #batch_features = tf.reshape(batch_features,(batch_features.shape[0], -1, batch_features.shape[3]))\n",
        "\n",
        "  for bf, p in zip(batch_features, path):\n",
        "    path_of_feature = p.numpy().decode(\"utf-8\")\n",
        "    np.save(path_of_feature, bf.numpy())"
      ],
      "execution_count": null,
      "outputs": [
        {
          "output_type": "stream",
          "text": [
            "1it [00:20, 20.03s/it]\n"
          ],
          "name": "stderr"
        }
      ]
    },
    {
      "cell_type": "code",
      "metadata": {
        "id": "o5ChnAjleFFu"
      },
      "source": [
        "ques_train , _ =textokenizer(x_train['ques'])\n",
        "answ_train , _ =optokens(x_train['answ'])\n",
        "ques_train=ques_train.tolist()\n",
        "answ_train=answ_train.tolist()"
      ],
      "execution_count": null,
      "outputs": []
    },
    {
      "cell_type": "code",
      "metadata": {
        "id": "JTn9Oz46Wa3H"
      },
      "source": [
        "ques_train=ques_train.tolist()\n",
        "answ_train=answ_train.tolist()"
      ],
      "execution_count": null,
      "outputs": []
    },
    {
      "cell_type": "code",
      "metadata": {
        "id": "4v67TlbwdNtS"
      },
      "source": [
        "def map_func(img_name, question):\n",
        "  img_tensor = np.load(img_name.decode('utf-8')+'.npy')\n",
        "  return img_tensor, question"
      ],
      "execution_count": null,
      "outputs": []
    },
    {
      "cell_type": "code",
      "metadata": {
        "id": "43OT_04vovo9"
      },
      "source": [
        "img_fl=x_train['im_path'].tolist()\n",
        "train_dataset = tf.data.Dataset.from_tensor_slices((img_fl, ques_train))\n",
        "\n",
        "# Use map to load the numpy files in parallel\n",
        "train_dataset = train_dataset.map(lambda item1, item2: tf.numpy_function(\n",
        "          map_func, [item1, item2], [tf.float32, tf.int32]),\n",
        "          num_parallel_calls=tf.data.experimental.AUTOTUNE)\n",
        "op_train_dataset = tf.data.Dataset.from_tensor_slices(answ_train)\n",
        "train_dataset=tf.data.Dataset.zip((train_dataset,op_train_dataset))\n",
        "train_dataset = train_dataset.batch(1000)\n",
        "train_dataset = train_dataset.prefetch(buffer_size=tf.data.experimental.AUTOTUNE)"
      ],
      "execution_count": null,
      "outputs": []
    },
    {
      "cell_type": "code",
      "metadata": {
        "id": "0LUSigJ1lKOY"
      },
      "source": [
        "ques_test,_=textokenizer(x_test['ques'])\n",
        "answ_test,_=optokens(x_test['answ'])"
      ],
      "execution_count": null,
      "outputs": []
    },
    {
      "cell_type": "code",
      "metadata": {
        "id": "0R8Ty2DnWyLd"
      },
      "source": [
        "ques_test=ques_test.tolist()\n",
        "answ_test=answ_test.tolist()"
      ],
      "execution_count": null,
      "outputs": []
    },
    {
      "cell_type": "code",
      "metadata": {
        "id": "gGlztwF6diSr"
      },
      "source": [
        "img_fl_te=x_test['im_path'].tolist()\n",
        "test_dataset = tf.data.Dataset.from_tensor_slices((img_fl_te, ques_test))\n",
        "# Use map to load the numpy files in parallel\n",
        "test_dataset = test_dataset.map(lambda item1, item2: tf.numpy_function(\n",
        "          map_func, [item1, item2], [tf.float32, tf.int32]),\n",
        "          num_parallel_calls=tf.data.experimental.AUTOTUNE)\n",
        "op_test_dataset = tf.data.Dataset.from_tensor_slices(answ_test)\n",
        "test_dataset=tf.data.Dataset.zip((test_dataset,op_test_dataset))\n",
        "test_dataset = test_dataset.batch(1000)\n",
        "test_dataset = test_dataset.prefetch(buffer_size=tf.data.experimental.AUTOTUNE)"
      ],
      "execution_count": null,
      "outputs": []
    },
    {
      "cell_type": "code",
      "metadata": {
        "id": "L-xe4_Z0uW8D",
        "colab": {
          "base_uri": "https://localhost:8080/"
        },
        "outputId": "d758265c-0dd8-4e62-d411-92e778906f00"
      },
      "source": [
        "%who"
      ],
      "execution_count": null,
      "outputs": [
        {
          "output_type": "stream",
          "text": [
            "Activation\t Add\t AveragePooling2D\t BatchNormalization\t Callback\t Concatenate\t Conv1D\t Conv2D\t CountVectorizer\t \n",
            "CuDNNLSTM\t Dense\t Dropout\t EarlyStopping\t Embedding\t Flatten\t ImageDataGenerator\t Input\t LSTM\t \n",
            "LabelEncoder\t MaxPool2D\t MaxPooling2D\t Model\t ModelCheckpoint\t Reshape\t Sequential\t SpatialDropout1D\t TensorBoard\t \n",
            "TfidfVectorizer\t Tokenizer\t UpSampling2D\t VGG16\t ZeroPadding2D\t a\t ans\t answ\t answ_test\t \n",
            "answ_train\t batch_features\t bf\t cnt1\t cnt2\t concatenate\t data\t data_subset\t datetime\t \n",
            "decontracted\t defaultdict\t drive\t embedding_matrix_train\t embedding_vector\t f\t feature_model\t files_list\t gc\t \n",
            "generic_utils\t glove_words\t hstack\t i\t im_path\t image\t image_dir\t images\t imdir\t \n",
            "img\t img_data_tr\t img_fl\t img_fl_te\t img_to_array\t ind\t initializers\t json\t k\t \n",
            "l1\t l1_l2\t l2\t listdir\t load_img\t load_model\t map_func\t matplotlib\t model\t \n",
            "model_from_json\t np\t np_utils\t ohe\t one_hot\t op_test_dataset\t op_train_dataset\t operator\t optokens\t \n",
            "os\t p\t p1\t pad_sequences\t parse_function\t path\t path_of_feature\t pd\t pickle\t \n",
            "plot_model\t plt\t preprocess_input\t preprocessed_questions\t que\t que_word_count\t ques\t ques_test\t ques_train\t \n",
            "question\t re\t roc_auc_score\t scipy\t sns\t subtype\t tensorflow\t test_dataset\t textokenizer\t \n",
            "tf\t time\t tok\t top_data\t top_data1\t total_data\t tqdm\t train_dataset\t train_test_split\t \n",
            "vocab_size\t warnings\t word\t word_count\t word_dict\t x_test\t x_train\t y\t y_test\t \n",
            "y_train\t zip_longest\t \n"
          ],
          "name": "stdout"
        }
      ]
    },
    {
      "cell_type": "markdown",
      "metadata": {
        "id": "zjg8vDE3xOkC"
      },
      "source": [
        "# **MODEL 1** "
      ]
    },
    {
      "cell_type": "code",
      "metadata": {
        "id": "uefGhIBHIg-J",
        "colab": {
          "base_uri": "https://localhost:8080/"
        },
        "outputId": "02e82712-777c-4162-96ea-cbf9e0518b51"
      },
      "source": [
        "#IMAGE MODEL\n",
        "im_input = Input(shape=(4096,), name = \"im_input\")\n",
        "#flat = Flatten()(im_input)\n",
        "image_model=Dense(1024,activation='relu',kernel_initializer=initializers.he_normal(seed=42))(im_input)\n",
        "image_model=Model(inputs=im_input,outputs=image_model)\n",
        "image_model.summary()"
      ],
      "execution_count": null,
      "outputs": [
        {
          "output_type": "stream",
          "text": [
            "Model: \"model_1\"\n",
            "_________________________________________________________________\n",
            "Layer (type)                 Output Shape              Param #   \n",
            "=================================================================\n",
            "im_input (InputLayer)        [(None, 4096)]            0         \n",
            "_________________________________________________________________\n",
            "dense (Dense)                (None, 1024)              4195328   \n",
            "=================================================================\n",
            "Total params: 4,195,328\n",
            "Trainable params: 4,195,328\n",
            "Non-trainable params: 0\n",
            "_________________________________________________________________\n"
          ],
          "name": "stdout"
        }
      ]
    },
    {
      "cell_type": "code",
      "metadata": {
        "id": "c6gyBCufFG5v"
      },
      "source": [
        "max_length=24\n",
        "vocab_size=embedding_matrix_train.shape[0]"
      ],
      "execution_count": null,
      "outputs": []
    },
    {
      "cell_type": "code",
      "metadata": {
        "id": "xH5dup7cPb1y",
        "colab": {
          "base_uri": "https://localhost:8080/"
        },
        "outputId": "57af5520-2d90-4e1a-d055-ed44a07820ea"
      },
      "source": [
        "#QUESTION MODEL\n",
        "\n",
        "from tensorflow.python.keras.layers import LSTM\n",
        "ques_input = Input(shape=(max_length,), name = \"ques_input\")\n",
        "e1 =Embedding(vocab_size, 300, weights=[embedding_matrix_train], input_length=max_length,trainable=False)(ques_input)\n",
        "l1= LSTM(64,kernel_initializer=initializers.he_normal(seed=42),kernel_regularizer=l2(0.001),return_sequences=True)(e1)\n",
        "l2= LSTM(64,kernel_initializer=initializers.he_normal(seed=42),kernel_regularizer=l2(0.001),return_sequences=True)(l1)\n",
        "#l1= LeakyReLU(alpha = 0.3)(l1)\n",
        "f1= Flatten(name='flatten_1')(l2)\n",
        "question_model=Dense(1024,activation='relu',kernel_initializer=initializers.he_normal(seed=42))(f1)\n",
        "question_model = Model(inputs=ques_input, outputs=question_model)\n",
        "question_model.summary()"
      ],
      "execution_count": null,
      "outputs": [
        {
          "output_type": "stream",
          "text": [
            "Model: \"model_2\"\n",
            "_________________________________________________________________\n",
            "Layer (type)                 Output Shape              Param #   \n",
            "=================================================================\n",
            "ques_input (InputLayer)      [(None, 24)]              0         \n",
            "_________________________________________________________________\n",
            "embedding (Embedding)        (None, 24, 300)           33600     \n",
            "_________________________________________________________________\n",
            "lstm (LSTM)                  (None, 24, 64)            93440     \n",
            "_________________________________________________________________\n",
            "lstm_1 (LSTM)                (None, 24, 64)            33024     \n",
            "_________________________________________________________________\n",
            "flatten_1 (Flatten)          (None, 1536)              0         \n",
            "_________________________________________________________________\n",
            "dense_1 (Dense)              (None, 1024)              1573888   \n",
            "=================================================================\n",
            "Total params: 1,733,952\n",
            "Trainable params: 1,700,352\n",
            "Non-trainable params: 33,600\n",
            "_________________________________________________________________\n"
          ],
          "name": "stdout"
        }
      ]
    },
    {
      "cell_type": "code",
      "metadata": {
        "id": "ac-cfz4OPb3t",
        "colab": {
          "base_uri": "https://localhost:8080/"
        },
        "outputId": "841f550c-36ab-43bd-98ac-63fc71235e2f"
      },
      "source": [
        "#COMBINING FEATURES AND MAKING FINAL MODEL FOR PREDICTION\n",
        "from tensorflow.keras.layers import multiply\n",
        "input_model=multiply([image_model.layers[-1].output,question_model.layers[-1].output])\n",
        "d1=BatchNormalization()(input_model)\n",
        "d1 = Dropout(0.5)(d1)\n",
        "d1=Dense(1000,activation='relu',kernel_initializer=initializers.he_normal(seed=42))(d1)\n",
        "final_output = Dense(2, kernel_initializer=initializers.he_normal(seed=42),activation='softmax')(d1)\n",
        "final_model = Model(inputs=[im_input,ques_input], outputs=final_output)\n",
        "print(final_model.summary())"
      ],
      "execution_count": null,
      "outputs": [
        {
          "output_type": "stream",
          "text": [
            "Model: \"model_3\"\n",
            "__________________________________________________________________________________________________\n",
            "Layer (type)                    Output Shape         Param #     Connected to                     \n",
            "==================================================================================================\n",
            "ques_input (InputLayer)         [(None, 24)]         0                                            \n",
            "__________________________________________________________________________________________________\n",
            "embedding (Embedding)           (None, 24, 300)      33600       ques_input[0][0]                 \n",
            "__________________________________________________________________________________________________\n",
            "lstm (LSTM)                     (None, 24, 64)       93440       embedding[0][0]                  \n",
            "__________________________________________________________________________________________________\n",
            "lstm_1 (LSTM)                   (None, 24, 64)       33024       lstm[0][0]                       \n",
            "__________________________________________________________________________________________________\n",
            "im_input (InputLayer)           [(None, 4096)]       0                                            \n",
            "__________________________________________________________________________________________________\n",
            "flatten_1 (Flatten)             (None, 1536)         0           lstm_1[0][0]                     \n",
            "__________________________________________________________________________________________________\n",
            "dense (Dense)                   (None, 1024)         4195328     im_input[0][0]                   \n",
            "__________________________________________________________________________________________________\n",
            "dense_1 (Dense)                 (None, 1024)         1573888     flatten_1[0][0]                  \n",
            "__________________________________________________________________________________________________\n",
            "multiply (Multiply)             (None, 1024)         0           dense[0][0]                      \n",
            "                                                                 dense_1[0][0]                    \n",
            "__________________________________________________________________________________________________\n",
            "batch_normalization (BatchNorma (None, 1024)         4096        multiply[0][0]                   \n",
            "__________________________________________________________________________________________________\n",
            "dropout (Dropout)               (None, 1024)         0           batch_normalization[0][0]        \n",
            "__________________________________________________________________________________________________\n",
            "dense_2 (Dense)                 (None, 1000)         1025000     dropout[0][0]                    \n",
            "__________________________________________________________________________________________________\n",
            "dense_3 (Dense)                 (None, 2)            2002        dense_2[0][0]                    \n",
            "==================================================================================================\n",
            "Total params: 6,960,378\n",
            "Trainable params: 6,924,730\n",
            "Non-trainable params: 35,648\n",
            "__________________________________________________________________________________________________\n",
            "None\n"
          ],
          "name": "stdout"
        }
      ]
    },
    {
      "cell_type": "code",
      "metadata": {
        "id": "52TV9HCrpLYR"
      },
      "source": [
        "from tensorflow.keras.optimizers import Adam\n",
        "!rm -rf ./logs1/"
      ],
      "execution_count": null,
      "outputs": []
    },
    {
      "cell_type": "code",
      "metadata": {
        "id": "878M6CmiPb4j",
        "colab": {
          "base_uri": "https://localhost:8080/"
        },
        "outputId": "8c88dca8-9d3d-4097-b332-3bf4c75ed074"
      },
      "source": [
        "checkpoint = ModelCheckpoint(\"/content/drive/MyDrive/data/basic_model11.h5\",\n",
        "                             monitor=\"val_loss\",\n",
        "                             mode=\"min\",\n",
        "                             save_best_only = True,\n",
        "                             verbose=1)\n",
        "earlystop= EarlyStopping(monitor = 'val_loss', \n",
        "                            mode=\"min\",\n",
        "                            min_delta = 0, \n",
        "                            patience = 5,\n",
        "                            verbose = 1)\n",
        "\n",
        "tensorboard = TensorBoard(log_dir='logs1',histogram_freq=1,write_grads=True)\n",
        "\n",
        "callbacks = [checkpoint,earlystop,tensorboard]\n",
        "#callbacks = [checkpoint,tensorboard]"
      ],
      "execution_count": null,
      "outputs": [
        {
          "output_type": "stream",
          "text": [
            "WARNING:tensorflow:Weight and gradient histograms not supported for eagerexecution, setting `histogram_freq` to `0`.\n"
          ],
          "name": "stdout"
        }
      ]
    },
    {
      "cell_type": "code",
      "metadata": {
        "id": "qOFZqkfhUcFg"
      },
      "source": [
        "#final_model=load_model('/content/drive/My Drive/basic_model1.h5')"
      ],
      "execution_count": null,
      "outputs": []
    },
    {
      "cell_type": "code",
      "metadata": {
        "id": "Mg93PotrUXg-",
        "colab": {
          "base_uri": "https://localhost:8080/"
        },
        "outputId": "67af3478-6825-40b8-dc1c-8659d21bd04c"
      },
      "source": [
        "final_model.compile(optimizer=Adam(learning_rate=0.001), loss='categorical_crossentropy', metrics=['accuracy']) \n",
        "h1 = final_model.fit(train_dataset, epochs=20, verbose=1,workers=-1, use_multiprocessing=-1,callbacks=callbacks, validation_data=test_dataset)"
      ],
      "execution_count": null,
      "outputs": [
        {
          "output_type": "stream",
          "text": [
            "WARNING:tensorflow:Expected a shuffled dataset but input dataset `x` is not shuffled. Please invoke `shuffle()` on input dataset.\n",
            "Epoch 1/20\n",
            "WARNING:tensorflow:From /usr/local/lib/python3.6/dist-packages/tensorflow/python/ops/math_grad.py:1250: add_dispatch_support.<locals>.wrapper (from tensorflow.python.ops.array_ops) is deprecated and will be removed in a future version.\n",
            "Instructions for updating:\n",
            "Use tf.where in 2.0, which has the same broadcast rule as np.where\n",
            "\n",
            "Epoch 00001: val_loss improved from inf to 1.69237, saving model to /content/drive/MyDrive/data/basic_model11.h5\n",
            "1/1 [==============================] - 6s 6s/step - loss: 1.7089 - acc: 0.4474 - val_loss: 1.6924 - val_acc: 0.5882\n",
            "Epoch 2/20\n",
            "WARNING:tensorflow:Method (on_train_batch_end) is slow compared to the batch update (0.544725). Check your callbacks.\n",
            "\n",
            "Epoch 00002: val_loss improved from 1.69237 to 1.68391, saving model to /content/drive/MyDrive/data/basic_model11.h5\n",
            "1/1 [==============================] - 1s 995ms/step - loss: 1.4392 - acc: 0.8158 - val_loss: 1.6839 - val_acc: 0.5882\n",
            "Epoch 3/20\n",
            "\n",
            "Epoch 00003: val_loss did not improve from 1.68391\n",
            "1/1 [==============================] - 0s 164ms/step - loss: 1.2977 - acc: 0.8684 - val_loss: 1.8295 - val_acc: 0.5882\n",
            "Epoch 4/20\n",
            "\n",
            "Epoch 00004: val_loss did not improve from 1.68391\n",
            "1/1 [==============================] - 0s 162ms/step - loss: 1.1631 - acc: 0.9474 - val_loss: 2.1788 - val_acc: 0.5882\n",
            "Epoch 5/20\n",
            "\n",
            "Epoch 00005: val_loss did not improve from 1.68391\n",
            "1/1 [==============================] - 0s 157ms/step - loss: 1.2333 - acc: 0.8947 - val_loss: 2.3465 - val_acc: 0.5882\n",
            "Epoch 6/20\n",
            "\n",
            "Epoch 00006: val_loss did not improve from 1.68391\n",
            "1/1 [==============================] - 0s 157ms/step - loss: 1.0420 - acc: 1.0000 - val_loss: 2.5264 - val_acc: 0.5882\n",
            "Epoch 7/20\n",
            "\n",
            "Epoch 00007: val_loss did not improve from 1.68391\n",
            "1/1 [==============================] - 0s 161ms/step - loss: 1.0510 - acc: 0.9474 - val_loss: 2.8188 - val_acc: 0.5882\n",
            "Epoch 00007: early stopping\n"
          ],
          "name": "stdout"
        }
      ]
    },
    {
      "cell_type": "markdown",
      "metadata": {
        "id": "XEPgsV_kiPko"
      },
      "source": [
        "# **MODEL 2**"
      ]
    },
    {
      "cell_type": "markdown",
      "metadata": {
        "id": "kuOg4MieZ_Je"
      },
      "source": [
        "## **Importing Essential Libraries for Model 2**"
      ]
    },
    {
      "cell_type": "code",
      "metadata": {
        "id": "IYIVp2bTfwSl"
      },
      "source": [
        "!pip install bert-for-tf2"
      ],
      "execution_count": null,
      "outputs": []
    },
    {
      "cell_type": "code",
      "metadata": {
        "id": "Yaq5OEBQdwTx"
      },
      "source": [
        "import bert\n",
        "import os"
      ],
      "execution_count": null,
      "outputs": []
    },
    {
      "cell_type": "code",
      "metadata": {
        "id": "1qC2lQUzdwg6"
      },
      "source": [
        "model_name = \"uncased_L-12_H-768_A-12\"\n",
        "model_dir = bert.fetch_google_bert_model(model_name, \".models\")\n",
        "model_ckpt = os.path.join(model_dir, \"bert_model.ckpt\")\n",
        "\n",
        "bert_params = bert.params_from_pretrained_ckpt(model_dir)\n",
        "l_bert = bert.BertModelLayer.from_params(bert_params, name=\"bert\")"
      ],
      "execution_count": null,
      "outputs": []
    },
    {
      "cell_type": "code",
      "metadata": {
        "id": "FWKPk3MQrPUU"
      },
      "source": [
        "!pip install pytorch_pretrained_bert pytorch-nlp"
      ],
      "execution_count": null,
      "outputs": []
    },
    {
      "cell_type": "markdown",
      "metadata": {
        "id": "JW0JxIEnaZD7"
      },
      "source": [
        "## **Preparing Dataset for Model 2**"
      ]
    },
    {
      "cell_type": "code",
      "metadata": {
        "id": "yv8JEpLPrD0M"
      },
      "source": [
        "from pytorch_pretrained_bert import BertTokenizer"
      ],
      "execution_count": null,
      "outputs": []
    },
    {
      "cell_type": "code",
      "metadata": {
        "id": "aLad-vOzqXob"
      },
      "source": [
        "#BertTokenizer=bert.bert_tokenization.FullTokenizer\r\n",
        "#tokenizer=BertTokenizer.from_pretrained('bert-base-uncased',do_lower_case=True)"
      ],
      "execution_count": null,
      "outputs": []
    },
    {
      "cell_type": "code",
      "metadata": {
        "id": "0tut1XjaC1p5"
      },
      "source": [
        "#!pip install pytorch-transformers\r\n",
        "!pip uninstall transformers\r\n",
        "!pip install transformers==3.5"
      ],
      "execution_count": null,
      "outputs": []
    },
    {
      "cell_type": "code",
      "metadata": {
        "id": "CVPZcjndCq6b"
      },
      "source": [
        "from transformers import BertTokenizer, BertModel\r\n",
        "tokenizer = BertTokenizer.from_pretrained('bert-base-uncased')\r\n",
        "model = BertModel.from_pretrained(\"bert-base-uncased\")"
      ],
      "execution_count": null,
      "outputs": []
    },
    {
      "cell_type": "code",
      "metadata": {
        "id": "p8pZwFrusEMy"
      },
      "source": [
        "train_tokens = list(map(lambda t: ['[CLS]'] + tokenizer.tokenize(t)[:24] + ['[SEP]'], x_train['ques'].tolist()))\n",
        "test_tokens = list(map(lambda t: ['[CLS]'] + tokenizer.tokenize(t)[:24] + ['[SEP]'], x_test['ques'].tolist()))\n"
      ],
      "execution_count": null,
      "outputs": []
    },
    {
      "cell_type": "code",
      "metadata": {
        "id": "IlYhtJxguhvB"
      },
      "source": [
        "train_tokens_ids = pad_sequences(list(map(tokenizer.convert_tokens_to_ids, train_tokens)), maxlen=24, truncating=\"post\", padding=\"pre\", dtype=\"int\")\n",
        "test_tokens_ids = pad_sequences(list(map(tokenizer.convert_tokens_to_ids, test_tokens)), maxlen=24, truncating=\"post\", padding=\"pre\", dtype=\"int\")"
      ],
      "execution_count": null,
      "outputs": []
    },
    {
      "cell_type": "code",
      "metadata": {
        "id": "gbj3LoZpvXzU"
      },
      "source": [
        "img_fl=x_train['im_path'].tolist()\n",
        "train_dataset = tf.data.Dataset.from_tensor_slices((img_fl, train_tokens_ids))\n",
        "\n",
        "# Use map to load the numpy files in parallel\n",
        "train_dataset = train_dataset.map(lambda item1, item2: tf.numpy_function(\n",
        "          map_func, [item1, item2], [tf.float32, tf.int64]),\n",
        "          num_parallel_calls=tf.data.experimental.AUTOTUNE)\n",
        "op_train_dataset = tf.data.Dataset.from_tensor_slices(answ_train)\n",
        "train_dataset=tf.data.Dataset.zip((train_dataset,op_train_dataset))\n",
        "train_dataset = train_dataset.batch(1000)\n",
        "train_dataset = train_dataset.prefetch(buffer_size=tf.data.experimental.AUTOTUNE)"
      ],
      "execution_count": null,
      "outputs": []
    },
    {
      "cell_type": "code",
      "metadata": {
        "id": "u2cpZFdlvzYt"
      },
      "source": [
        "img_fl_te=x_test['im_path'].tolist()\n",
        "test_dataset = tf.data.Dataset.from_tensor_slices((img_fl_te, test_tokens_ids))\n",
        "# Use map to load the numpy files in parallel\n",
        "test_dataset = test_dataset.map(lambda item1, item2: tf.numpy_function(\n",
        "          map_func, [item1, item2], [tf.float32, tf.int64]),\n",
        "          num_parallel_calls=tf.data.experimental.AUTOTUNE)\n",
        "op_test_dataset = tf.data.Dataset.from_tensor_slices(answ_test)\n",
        "test_dataset=tf.data.Dataset.zip((test_dataset,op_test_dataset))\n",
        "test_dataset = test_dataset.batch(1000)\n",
        "test_dataset = test_dataset.prefetch(buffer_size=tf.data.experimental.AUTOTUNE)"
      ],
      "execution_count": null,
      "outputs": []
    },
    {
      "cell_type": "markdown",
      "metadata": {
        "id": "Pmg2q35uahYf"
      },
      "source": [
        "## **Model 2 training**"
      ]
    },
    {
      "cell_type": "code",
      "metadata": {
        "id": "L8zwuw_7d2JB"
      },
      "source": [
        "l_bert.trainable=False"
      ],
      "execution_count": null,
      "outputs": []
    },
    {
      "cell_type": "code",
      "metadata": {
        "id": "solS4DwJd7Z8",
        "colab": {
          "base_uri": "https://localhost:8080/"
        },
        "outputId": "22b55e1a-f661-41a1-86b5-1b0bfbde0924"
      },
      "source": [
        "ques_inp = tf.keras.layers.Input(shape=(24,))\n",
        "embed = l_bert(ques_inp)"
      ],
      "execution_count": null,
      "outputs": [
        {
          "output_type": "stream",
          "text": [
            "WARNING:tensorflow:Entity <bound method BertModelLayer.call of <bert.model.BertModelLayer object at 0x7ff789ffaf98>> could not be transformed and will be executed as-is. Please report this to the AutgoGraph team. When filing the bug, set the verbosity to 10 (on Linux, `export AUTOGRAPH_VERBOSITY=10`) and attach the full output. Cause: converting <bound method BertModelLayer.call of <bert.model.BertModelLayer object at 0x7ff789ffaf98>>: AssertionError: Bad argument number for Name: 3, expecting 4\n",
            "WARNING: Entity <bound method BertModelLayer.call of <bert.model.BertModelLayer object at 0x7ff789ffaf98>> could not be transformed and will be executed as-is. Please report this to the AutgoGraph team. When filing the bug, set the verbosity to 10 (on Linux, `export AUTOGRAPH_VERBOSITY=10`) and attach the full output. Cause: converting <bound method BertModelLayer.call of <bert.model.BertModelLayer object at 0x7ff789ffaf98>>: AssertionError: Bad argument number for Name: 3, expecting 4\n",
            "WARNING:tensorflow:Entity <bound method BertEmbeddingsLayer.call of <bert.embeddings.BertEmbeddingsLayer object at 0x7ff789fff6d8>> could not be transformed and will be executed as-is. Please report this to the AutgoGraph team. When filing the bug, set the verbosity to 10 (on Linux, `export AUTOGRAPH_VERBOSITY=10`) and attach the full output. Cause: converting <bound method BertEmbeddingsLayer.call of <bert.embeddings.BertEmbeddingsLayer object at 0x7ff789fff6d8>>: AttributeError: module 'gast' has no attribute 'Num'\n",
            "WARNING: Entity <bound method BertEmbeddingsLayer.call of <bert.embeddings.BertEmbeddingsLayer object at 0x7ff789fff6d8>> could not be transformed and will be executed as-is. Please report this to the AutgoGraph team. When filing the bug, set the verbosity to 10 (on Linux, `export AUTOGRAPH_VERBOSITY=10`) and attach the full output. Cause: converting <bound method BertEmbeddingsLayer.call of <bert.embeddings.BertEmbeddingsLayer object at 0x7ff789fff6d8>>: AttributeError: module 'gast' has no attribute 'Num'\n",
            "WARNING:tensorflow:Entity <bound method PositionEmbeddingLayer.call of <bert.embeddings.PositionEmbeddingLayer object at 0x7ff7898d6080>> could not be transformed and will be executed as-is. Please report this to the AutgoGraph team. When filing the bug, set the verbosity to 10 (on Linux, `export AUTOGRAPH_VERBOSITY=10`) and attach the full output. Cause: converting <bound method PositionEmbeddingLayer.call of <bert.embeddings.PositionEmbeddingLayer object at 0x7ff7898d6080>>: AssertionError: Bad argument number for Name: 3, expecting 4\n",
            "WARNING: Entity <bound method PositionEmbeddingLayer.call of <bert.embeddings.PositionEmbeddingLayer object at 0x7ff7898d6080>> could not be transformed and will be executed as-is. Please report this to the AutgoGraph team. When filing the bug, set the verbosity to 10 (on Linux, `export AUTOGRAPH_VERBOSITY=10`) and attach the full output. Cause: converting <bound method PositionEmbeddingLayer.call of <bert.embeddings.PositionEmbeddingLayer object at 0x7ff7898d6080>>: AssertionError: Bad argument number for Name: 3, expecting 4\n",
            "WARNING:tensorflow:Entity <bound method LayerNormalization.call of <params_flow.normalization.LayerNormalization object at 0x7ff7898d62e8>> could not be transformed and will be executed as-is. Please report this to the AutgoGraph team. When filing the bug, set the verbosity to 10 (on Linux, `export AUTOGRAPH_VERBOSITY=10`) and attach the full output. Cause: converting <bound method LayerNormalization.call of <params_flow.normalization.LayerNormalization object at 0x7ff7898d62e8>>: AssertionError: Bad argument number for Name: 3, expecting 4\n",
            "WARNING: Entity <bound method LayerNormalization.call of <params_flow.normalization.LayerNormalization object at 0x7ff7898d62e8>> could not be transformed and will be executed as-is. Please report this to the AutgoGraph team. When filing the bug, set the verbosity to 10 (on Linux, `export AUTOGRAPH_VERBOSITY=10`) and attach the full output. Cause: converting <bound method LayerNormalization.call of <params_flow.normalization.LayerNormalization object at 0x7ff7898d62e8>>: AssertionError: Bad argument number for Name: 3, expecting 4\n",
            "WARNING:tensorflow:Entity <bound method TransformerEncoderLayer.call of <bert.transformer.TransformerEncoderLayer object at 0x7ff789fff2e8>> could not be transformed and will be executed as-is. Please report this to the AutgoGraph team. When filing the bug, set the verbosity to 10 (on Linux, `export AUTOGRAPH_VERBOSITY=10`) and attach the full output. Cause: converting <bound method TransformerEncoderLayer.call of <bert.transformer.TransformerEncoderLayer object at 0x7ff789fff2e8>>: AttributeError: module 'gast' has no attribute 'Num'\n",
            "WARNING: Entity <bound method TransformerEncoderLayer.call of <bert.transformer.TransformerEncoderLayer object at 0x7ff789fff2e8>> could not be transformed and will be executed as-is. Please report this to the AutgoGraph team. When filing the bug, set the verbosity to 10 (on Linux, `export AUTOGRAPH_VERBOSITY=10`) and attach the full output. Cause: converting <bound method TransformerEncoderLayer.call of <bert.transformer.TransformerEncoderLayer object at 0x7ff789fff2e8>>: AttributeError: module 'gast' has no attribute 'Num'\n",
            "WARNING:tensorflow:Entity <bound method SingleTransformerEncoderLayer.call of <bert.transformer.SingleTransformerEncoderLayer object at 0x7ff7898ec828>> could not be transformed and will be executed as-is. Please report this to the AutgoGraph team. When filing the bug, set the verbosity to 10 (on Linux, `export AUTOGRAPH_VERBOSITY=10`) and attach the full output. Cause: converting <bound method SingleTransformerEncoderLayer.call of <bert.transformer.SingleTransformerEncoderLayer object at 0x7ff7898ec828>>: AssertionError: Bad argument number for Name: 3, expecting 4\n",
            "WARNING: Entity <bound method SingleTransformerEncoderLayer.call of <bert.transformer.SingleTransformerEncoderLayer object at 0x7ff7898ec828>> could not be transformed and will be executed as-is. Please report this to the AutgoGraph team. When filing the bug, set the verbosity to 10 (on Linux, `export AUTOGRAPH_VERBOSITY=10`) and attach the full output. Cause: converting <bound method SingleTransformerEncoderLayer.call of <bert.transformer.SingleTransformerEncoderLayer object at 0x7ff7898ec828>>: AssertionError: Bad argument number for Name: 3, expecting 4\n",
            "WARNING:tensorflow:Entity <bound method TransformerSelfAttentionLayer.call of <bert.transformer.TransformerSelfAttentionLayer object at 0x7ff7898d9208>> could not be transformed and will be executed as-is. Please report this to the AutgoGraph team. When filing the bug, set the verbosity to 10 (on Linux, `export AUTOGRAPH_VERBOSITY=10`) and attach the full output. Cause: converting <bound method TransformerSelfAttentionLayer.call of <bert.transformer.TransformerSelfAttentionLayer object at 0x7ff7898d9208>>: AssertionError: Bad argument number for Name: 3, expecting 4\n",
            "WARNING: Entity <bound method TransformerSelfAttentionLayer.call of <bert.transformer.TransformerSelfAttentionLayer object at 0x7ff7898d9208>> could not be transformed and will be executed as-is. Please report this to the AutgoGraph team. When filing the bug, set the verbosity to 10 (on Linux, `export AUTOGRAPH_VERBOSITY=10`) and attach the full output. Cause: converting <bound method TransformerSelfAttentionLayer.call of <bert.transformer.TransformerSelfAttentionLayer object at 0x7ff7898d9208>>: AssertionError: Bad argument number for Name: 3, expecting 4\n",
            "WARNING:tensorflow:Entity <bound method AttentionLayer.call of <bert.attention.AttentionLayer object at 0x7ff7898f1320>> could not be transformed and will be executed as-is. Please report this to the AutgoGraph team. When filing the bug, set the verbosity to 10 (on Linux, `export AUTOGRAPH_VERBOSITY=10`) and attach the full output. Cause: converting <bound method AttentionLayer.call of <bert.attention.AttentionLayer object at 0x7ff7898f1320>>: AttributeError: module 'gast' has no attribute 'Num'\n",
            "WARNING: Entity <bound method AttentionLayer.call of <bert.attention.AttentionLayer object at 0x7ff7898f1320>> could not be transformed and will be executed as-is. Please report this to the AutgoGraph team. When filing the bug, set the verbosity to 10 (on Linux, `export AUTOGRAPH_VERBOSITY=10`) and attach the full output. Cause: converting <bound method AttentionLayer.call of <bert.attention.AttentionLayer object at 0x7ff7898f1320>>: AttributeError: module 'gast' has no attribute 'Num'\n",
            "WARNING:tensorflow:Entity <bound method ProjectionLayer.call of <bert.transformer.ProjectionLayer object at 0x7ff7898e9080>> could not be transformed and will be executed as-is. Please report this to the AutgoGraph team. When filing the bug, set the verbosity to 10 (on Linux, `export AUTOGRAPH_VERBOSITY=10`) and attach the full output. Cause: converting <bound method ProjectionLayer.call of <bert.transformer.ProjectionLayer object at 0x7ff7898e9080>>: AssertionError: Bad argument number for Name: 3, expecting 4\n",
            "WARNING: Entity <bound method ProjectionLayer.call of <bert.transformer.ProjectionLayer object at 0x7ff7898e9080>> could not be transformed and will be executed as-is. Please report this to the AutgoGraph team. When filing the bug, set the verbosity to 10 (on Linux, `export AUTOGRAPH_VERBOSITY=10`) and attach the full output. Cause: converting <bound method ProjectionLayer.call of <bert.transformer.ProjectionLayer object at 0x7ff7898e9080>>: AssertionError: Bad argument number for Name: 3, expecting 4\n",
            "WARNING:tensorflow:Entity <bound method LayerNormalization.call of <params_flow.normalization.LayerNormalization object at 0x7ff7898b2e48>> could not be transformed and will be executed as-is. Please report this to the AutgoGraph team. When filing the bug, set the verbosity to 10 (on Linux, `export AUTOGRAPH_VERBOSITY=10`) and attach the full output. Cause: converting <bound method LayerNormalization.call of <params_flow.normalization.LayerNormalization object at 0x7ff7898b2e48>>: AssertionError: Bad argument number for Name: 3, expecting 4\n",
            "WARNING: Entity <bound method LayerNormalization.call of <params_flow.normalization.LayerNormalization object at 0x7ff7898b2e48>> could not be transformed and will be executed as-is. Please report this to the AutgoGraph team. When filing the bug, set the verbosity to 10 (on Linux, `export AUTOGRAPH_VERBOSITY=10`) and attach the full output. Cause: converting <bound method LayerNormalization.call of <params_flow.normalization.LayerNormalization object at 0x7ff7898b2e48>>: AssertionError: Bad argument number for Name: 3, expecting 4\n",
            "WARNING:tensorflow:Entity <bound method ProjectionLayer.call of <bert.transformer.ProjectionLayer object at 0x7ff7898d9518>> could not be transformed and will be executed as-is. Please report this to the AutgoGraph team. When filing the bug, set the verbosity to 10 (on Linux, `export AUTOGRAPH_VERBOSITY=10`) and attach the full output. Cause: converting <bound method ProjectionLayer.call of <bert.transformer.ProjectionLayer object at 0x7ff7898d9518>>: AssertionError: Bad argument number for Name: 3, expecting 4\n",
            "WARNING: Entity <bound method ProjectionLayer.call of <bert.transformer.ProjectionLayer object at 0x7ff7898d9518>> could not be transformed and will be executed as-is. Please report this to the AutgoGraph team. When filing the bug, set the verbosity to 10 (on Linux, `export AUTOGRAPH_VERBOSITY=10`) and attach the full output. Cause: converting <bound method ProjectionLayer.call of <bert.transformer.ProjectionLayer object at 0x7ff7898d9518>>: AssertionError: Bad argument number for Name: 3, expecting 4\n",
            "WARNING:tensorflow:Entity <bound method LayerNormalization.call of <params_flow.normalization.LayerNormalization object at 0x7ff7898a3898>> could not be transformed and will be executed as-is. Please report this to the AutgoGraph team. When filing the bug, set the verbosity to 10 (on Linux, `export AUTOGRAPH_VERBOSITY=10`) and attach the full output. Cause: converting <bound method LayerNormalization.call of <params_flow.normalization.LayerNormalization object at 0x7ff7898a3898>>: AssertionError: Bad argument number for Name: 3, expecting 4\n",
            "WARNING: Entity <bound method LayerNormalization.call of <params_flow.normalization.LayerNormalization object at 0x7ff7898a3898>> could not be transformed and will be executed as-is. Please report this to the AutgoGraph team. When filing the bug, set the verbosity to 10 (on Linux, `export AUTOGRAPH_VERBOSITY=10`) and attach the full output. Cause: converting <bound method LayerNormalization.call of <params_flow.normalization.LayerNormalization object at 0x7ff7898a3898>>: AssertionError: Bad argument number for Name: 3, expecting 4\n",
            "WARNING:tensorflow:Entity <bound method SingleTransformerEncoderLayer.call of <bert.transformer.SingleTransformerEncoderLayer object at 0x7ff7898ecb38>> could not be transformed and will be executed as-is. Please report this to the AutgoGraph team. When filing the bug, set the verbosity to 10 (on Linux, `export AUTOGRAPH_VERBOSITY=10`) and attach the full output. Cause: converting <bound method SingleTransformerEncoderLayer.call of <bert.transformer.SingleTransformerEncoderLayer object at 0x7ff7898ecb38>>: AssertionError: Bad argument number for Name: 3, expecting 4\n",
            "WARNING: Entity <bound method SingleTransformerEncoderLayer.call of <bert.transformer.SingleTransformerEncoderLayer object at 0x7ff7898ecb38>> could not be transformed and will be executed as-is. Please report this to the AutgoGraph team. When filing the bug, set the verbosity to 10 (on Linux, `export AUTOGRAPH_VERBOSITY=10`) and attach the full output. Cause: converting <bound method SingleTransformerEncoderLayer.call of <bert.transformer.SingleTransformerEncoderLayer object at 0x7ff7898ecb38>>: AssertionError: Bad argument number for Name: 3, expecting 4\n",
            "WARNING:tensorflow:Entity <bound method TransformerSelfAttentionLayer.call of <bert.transformer.TransformerSelfAttentionLayer object at 0x7ff7898f1cf8>> could not be transformed and will be executed as-is. Please report this to the AutgoGraph team. When filing the bug, set the verbosity to 10 (on Linux, `export AUTOGRAPH_VERBOSITY=10`) and attach the full output. Cause: converting <bound method TransformerSelfAttentionLayer.call of <bert.transformer.TransformerSelfAttentionLayer object at 0x7ff7898f1cf8>>: AssertionError: Bad argument number for Name: 3, expecting 4\n",
            "WARNING: Entity <bound method TransformerSelfAttentionLayer.call of <bert.transformer.TransformerSelfAttentionLayer object at 0x7ff7898f1cf8>> could not be transformed and will be executed as-is. Please report this to the AutgoGraph team. When filing the bug, set the verbosity to 10 (on Linux, `export AUTOGRAPH_VERBOSITY=10`) and attach the full output. Cause: converting <bound method TransformerSelfAttentionLayer.call of <bert.transformer.TransformerSelfAttentionLayer object at 0x7ff7898f1cf8>>: AssertionError: Bad argument number for Name: 3, expecting 4\n",
            "WARNING:tensorflow:Entity <bound method AttentionLayer.call of <bert.attention.AttentionLayer object at 0x7ff7898e54e0>> could not be transformed and will be executed as-is. Please report this to the AutgoGraph team. When filing the bug, set the verbosity to 10 (on Linux, `export AUTOGRAPH_VERBOSITY=10`) and attach the full output. Cause: converting <bound method AttentionLayer.call of <bert.attention.AttentionLayer object at 0x7ff7898e54e0>>: AttributeError: module 'gast' has no attribute 'Num'\n",
            "WARNING: Entity <bound method AttentionLayer.call of <bert.attention.AttentionLayer object at 0x7ff7898e54e0>> could not be transformed and will be executed as-is. Please report this to the AutgoGraph team. When filing the bug, set the verbosity to 10 (on Linux, `export AUTOGRAPH_VERBOSITY=10`) and attach the full output. Cause: converting <bound method AttentionLayer.call of <bert.attention.AttentionLayer object at 0x7ff7898e54e0>>: AttributeError: module 'gast' has no attribute 'Num'\n",
            "WARNING:tensorflow:Entity <bound method ProjectionLayer.call of <bert.transformer.ProjectionLayer object at 0x7ff78987aac8>> could not be transformed and will be executed as-is. Please report this to the AutgoGraph team. When filing the bug, set the verbosity to 10 (on Linux, `export AUTOGRAPH_VERBOSITY=10`) and attach the full output. Cause: converting <bound method ProjectionLayer.call of <bert.transformer.ProjectionLayer object at 0x7ff78987aac8>>: AssertionError: Bad argument number for Name: 3, expecting 4\n",
            "WARNING: Entity <bound method ProjectionLayer.call of <bert.transformer.ProjectionLayer object at 0x7ff78987aac8>> could not be transformed and will be executed as-is. Please report this to the AutgoGraph team. When filing the bug, set the verbosity to 10 (on Linux, `export AUTOGRAPH_VERBOSITY=10`) and attach the full output. Cause: converting <bound method ProjectionLayer.call of <bert.transformer.ProjectionLayer object at 0x7ff78987aac8>>: AssertionError: Bad argument number for Name: 3, expecting 4\n",
            "WARNING:tensorflow:Entity <bound method LayerNormalization.call of <params_flow.normalization.LayerNormalization object at 0x7ff789822668>> could not be transformed and will be executed as-is. Please report this to the AutgoGraph team. When filing the bug, set the verbosity to 10 (on Linux, `export AUTOGRAPH_VERBOSITY=10`) and attach the full output. Cause: converting <bound method LayerNormalization.call of <params_flow.normalization.LayerNormalization object at 0x7ff789822668>>: AssertionError: Bad argument number for Name: 3, expecting 4\n",
            "WARNING: Entity <bound method LayerNormalization.call of <params_flow.normalization.LayerNormalization object at 0x7ff789822668>> could not be transformed and will be executed as-is. Please report this to the AutgoGraph team. When filing the bug, set the verbosity to 10 (on Linux, `export AUTOGRAPH_VERBOSITY=10`) and attach the full output. Cause: converting <bound method LayerNormalization.call of <params_flow.normalization.LayerNormalization object at 0x7ff789822668>>: AssertionError: Bad argument number for Name: 3, expecting 4\n",
            "WARNING:tensorflow:Entity <bound method ProjectionLayer.call of <bert.transformer.ProjectionLayer object at 0x7ff7898f1dd8>> could not be transformed and will be executed as-is. Please report this to the AutgoGraph team. When filing the bug, set the verbosity to 10 (on Linux, `export AUTOGRAPH_VERBOSITY=10`) and attach the full output. Cause: converting <bound method ProjectionLayer.call of <bert.transformer.ProjectionLayer object at 0x7ff7898f1dd8>>: AssertionError: Bad argument number for Name: 3, expecting 4\n",
            "WARNING: Entity <bound method ProjectionLayer.call of <bert.transformer.ProjectionLayer object at 0x7ff7898f1dd8>> could not be transformed and will be executed as-is. Please report this to the AutgoGraph team. When filing the bug, set the verbosity to 10 (on Linux, `export AUTOGRAPH_VERBOSITY=10`) and attach the full output. Cause: converting <bound method ProjectionLayer.call of <bert.transformer.ProjectionLayer object at 0x7ff7898f1dd8>>: AssertionError: Bad argument number for Name: 3, expecting 4\n",
            "WARNING:tensorflow:Entity <bound method LayerNormalization.call of <params_flow.normalization.LayerNormalization object at 0x7ff78981f2b0>> could not be transformed and will be executed as-is. Please report this to the AutgoGraph team. When filing the bug, set the verbosity to 10 (on Linux, `export AUTOGRAPH_VERBOSITY=10`) and attach the full output. Cause: converting <bound method LayerNormalization.call of <params_flow.normalization.LayerNormalization object at 0x7ff78981f2b0>>: AssertionError: Bad argument number for Name: 3, expecting 4\n",
            "WARNING: Entity <bound method LayerNormalization.call of <params_flow.normalization.LayerNormalization object at 0x7ff78981f2b0>> could not be transformed and will be executed as-is. Please report this to the AutgoGraph team. When filing the bug, set the verbosity to 10 (on Linux, `export AUTOGRAPH_VERBOSITY=10`) and attach the full output. Cause: converting <bound method LayerNormalization.call of <params_flow.normalization.LayerNormalization object at 0x7ff78981f2b0>>: AssertionError: Bad argument number for Name: 3, expecting 4\n",
            "WARNING:tensorflow:Entity <bound method SingleTransformerEncoderLayer.call of <bert.transformer.SingleTransformerEncoderLayer object at 0x7ff7898ecba8>> could not be transformed and will be executed as-is. Please report this to the AutgoGraph team. When filing the bug, set the verbosity to 10 (on Linux, `export AUTOGRAPH_VERBOSITY=10`) and attach the full output. Cause: converting <bound method SingleTransformerEncoderLayer.call of <bert.transformer.SingleTransformerEncoderLayer object at 0x7ff7898ecba8>>: AssertionError: Bad argument number for Name: 3, expecting 4\n",
            "WARNING: Entity <bound method SingleTransformerEncoderLayer.call of <bert.transformer.SingleTransformerEncoderLayer object at 0x7ff7898ecba8>> could not be transformed and will be executed as-is. Please report this to the AutgoGraph team. When filing the bug, set the verbosity to 10 (on Linux, `export AUTOGRAPH_VERBOSITY=10`) and attach the full output. Cause: converting <bound method SingleTransformerEncoderLayer.call of <bert.transformer.SingleTransformerEncoderLayer object at 0x7ff7898ecba8>>: AssertionError: Bad argument number for Name: 3, expecting 4\n",
            "WARNING:tensorflow:Entity <bound method TransformerSelfAttentionLayer.call of <bert.transformer.TransformerSelfAttentionLayer object at 0x7ff78994aac8>> could not be transformed and will be executed as-is. Please report this to the AutgoGraph team. When filing the bug, set the verbosity to 10 (on Linux, `export AUTOGRAPH_VERBOSITY=10`) and attach the full output. Cause: converting <bound method TransformerSelfAttentionLayer.call of <bert.transformer.TransformerSelfAttentionLayer object at 0x7ff78994aac8>>: AssertionError: Bad argument number for Name: 3, expecting 4\n",
            "WARNING: Entity <bound method TransformerSelfAttentionLayer.call of <bert.transformer.TransformerSelfAttentionLayer object at 0x7ff78994aac8>> could not be transformed and will be executed as-is. Please report this to the AutgoGraph team. When filing the bug, set the verbosity to 10 (on Linux, `export AUTOGRAPH_VERBOSITY=10`) and attach the full output. Cause: converting <bound method TransformerSelfAttentionLayer.call of <bert.transformer.TransformerSelfAttentionLayer object at 0x7ff78994aac8>>: AssertionError: Bad argument number for Name: 3, expecting 4\n",
            "WARNING:tensorflow:Entity <bound method AttentionLayer.call of <bert.attention.AttentionLayer object at 0x7ff7898ddeb8>> could not be transformed and will be executed as-is. Please report this to the AutgoGraph team. When filing the bug, set the verbosity to 10 (on Linux, `export AUTOGRAPH_VERBOSITY=10`) and attach the full output. Cause: converting <bound method AttentionLayer.call of <bert.attention.AttentionLayer object at 0x7ff7898ddeb8>>: AttributeError: module 'gast' has no attribute 'Num'\n",
            "WARNING: Entity <bound method AttentionLayer.call of <bert.attention.AttentionLayer object at 0x7ff7898ddeb8>> could not be transformed and will be executed as-is. Please report this to the AutgoGraph team. When filing the bug, set the verbosity to 10 (on Linux, `export AUTOGRAPH_VERBOSITY=10`) and attach the full output. Cause: converting <bound method AttentionLayer.call of <bert.attention.AttentionLayer object at 0x7ff7898ddeb8>>: AttributeError: module 'gast' has no attribute 'Num'\n",
            "WARNING:tensorflow:Entity <bound method ProjectionLayer.call of <bert.transformer.ProjectionLayer object at 0x7ff7897df160>> could not be transformed and will be executed as-is. Please report this to the AutgoGraph team. When filing the bug, set the verbosity to 10 (on Linux, `export AUTOGRAPH_VERBOSITY=10`) and attach the full output. Cause: converting <bound method ProjectionLayer.call of <bert.transformer.ProjectionLayer object at 0x7ff7897df160>>: AssertionError: Bad argument number for Name: 3, expecting 4\n",
            "WARNING: Entity <bound method ProjectionLayer.call of <bert.transformer.ProjectionLayer object at 0x7ff7897df160>> could not be transformed and will be executed as-is. Please report this to the AutgoGraph team. When filing the bug, set the verbosity to 10 (on Linux, `export AUTOGRAPH_VERBOSITY=10`) and attach the full output. Cause: converting <bound method ProjectionLayer.call of <bert.transformer.ProjectionLayer object at 0x7ff7897df160>>: AssertionError: Bad argument number for Name: 3, expecting 4\n",
            "WARNING:tensorflow:Entity <bound method LayerNormalization.call of <params_flow.normalization.LayerNormalization object at 0x7ff7897a2b00>> could not be transformed and will be executed as-is. Please report this to the AutgoGraph team. When filing the bug, set the verbosity to 10 (on Linux, `export AUTOGRAPH_VERBOSITY=10`) and attach the full output. Cause: converting <bound method LayerNormalization.call of <params_flow.normalization.LayerNormalization object at 0x7ff7897a2b00>>: AssertionError: Bad argument number for Name: 3, expecting 4\n",
            "WARNING: Entity <bound method LayerNormalization.call of <params_flow.normalization.LayerNormalization object at 0x7ff7897a2b00>> could not be transformed and will be executed as-is. Please report this to the AutgoGraph team. When filing the bug, set the verbosity to 10 (on Linux, `export AUTOGRAPH_VERBOSITY=10`) and attach the full output. Cause: converting <bound method LayerNormalization.call of <params_flow.normalization.LayerNormalization object at 0x7ff7897a2b00>>: AssertionError: Bad argument number for Name: 3, expecting 4\n",
            "WARNING:tensorflow:Entity <bound method ProjectionLayer.call of <bert.transformer.ProjectionLayer object at 0x7ff78994ac18>> could not be transformed and will be executed as-is. Please report this to the AutgoGraph team. When filing the bug, set the verbosity to 10 (on Linux, `export AUTOGRAPH_VERBOSITY=10`) and attach the full output. Cause: converting <bound method ProjectionLayer.call of <bert.transformer.ProjectionLayer object at 0x7ff78994ac18>>: AssertionError: Bad argument number for Name: 3, expecting 4\n",
            "WARNING: Entity <bound method ProjectionLayer.call of <bert.transformer.ProjectionLayer object at 0x7ff78994ac18>> could not be transformed and will be executed as-is. Please report this to the AutgoGraph team. When filing the bug, set the verbosity to 10 (on Linux, `export AUTOGRAPH_VERBOSITY=10`) and attach the full output. Cause: converting <bound method ProjectionLayer.call of <bert.transformer.ProjectionLayer object at 0x7ff78994ac18>>: AssertionError: Bad argument number for Name: 3, expecting 4\n",
            "WARNING:tensorflow:Entity <bound method LayerNormalization.call of <params_flow.normalization.LayerNormalization object at 0x7ff789795278>> could not be transformed and will be executed as-is. Please report this to the AutgoGraph team. When filing the bug, set the verbosity to 10 (on Linux, `export AUTOGRAPH_VERBOSITY=10`) and attach the full output. Cause: converting <bound method LayerNormalization.call of <params_flow.normalization.LayerNormalization object at 0x7ff789795278>>: AssertionError: Bad argument number for Name: 3, expecting 4\n",
            "WARNING: Entity <bound method LayerNormalization.call of <params_flow.normalization.LayerNormalization object at 0x7ff789795278>> could not be transformed and will be executed as-is. Please report this to the AutgoGraph team. When filing the bug, set the verbosity to 10 (on Linux, `export AUTOGRAPH_VERBOSITY=10`) and attach the full output. Cause: converting <bound method LayerNormalization.call of <params_flow.normalization.LayerNormalization object at 0x7ff789795278>>: AssertionError: Bad argument number for Name: 3, expecting 4\n",
            "WARNING:tensorflow:Entity <bound method SingleTransformerEncoderLayer.call of <bert.transformer.SingleTransformerEncoderLayer object at 0x7ff7898ecf60>> could not be transformed and will be executed as-is. Please report this to the AutgoGraph team. When filing the bug, set the verbosity to 10 (on Linux, `export AUTOGRAPH_VERBOSITY=10`) and attach the full output. Cause: converting <bound method SingleTransformerEncoderLayer.call of <bert.transformer.SingleTransformerEncoderLayer object at 0x7ff7898ecf60>>: AssertionError: Bad argument number for Name: 3, expecting 4\n",
            "WARNING: Entity <bound method SingleTransformerEncoderLayer.call of <bert.transformer.SingleTransformerEncoderLayer object at 0x7ff7898ecf60>> could not be transformed and will be executed as-is. Please report this to the AutgoGraph team. When filing the bug, set the verbosity to 10 (on Linux, `export AUTOGRAPH_VERBOSITY=10`) and attach the full output. Cause: converting <bound method SingleTransformerEncoderLayer.call of <bert.transformer.SingleTransformerEncoderLayer object at 0x7ff7898ecf60>>: AssertionError: Bad argument number for Name: 3, expecting 4\n",
            "WARNING:tensorflow:Entity <bound method TransformerSelfAttentionLayer.call of <bert.transformer.TransformerSelfAttentionLayer object at 0x7ff78a0484a8>> could not be transformed and will be executed as-is. Please report this to the AutgoGraph team. When filing the bug, set the verbosity to 10 (on Linux, `export AUTOGRAPH_VERBOSITY=10`) and attach the full output. Cause: converting <bound method TransformerSelfAttentionLayer.call of <bert.transformer.TransformerSelfAttentionLayer object at 0x7ff78a0484a8>>: AssertionError: Bad argument number for Name: 3, expecting 4\n",
            "WARNING: Entity <bound method TransformerSelfAttentionLayer.call of <bert.transformer.TransformerSelfAttentionLayer object at 0x7ff78a0484a8>> could not be transformed and will be executed as-is. Please report this to the AutgoGraph team. When filing the bug, set the verbosity to 10 (on Linux, `export AUTOGRAPH_VERBOSITY=10`) and attach the full output. Cause: converting <bound method TransformerSelfAttentionLayer.call of <bert.transformer.TransformerSelfAttentionLayer object at 0x7ff78a0484a8>>: AssertionError: Bad argument number for Name: 3, expecting 4\n",
            "WARNING:tensorflow:Entity <bound method AttentionLayer.call of <bert.attention.AttentionLayer object at 0x7ff789767588>> could not be transformed and will be executed as-is. Please report this to the AutgoGraph team. When filing the bug, set the verbosity to 10 (on Linux, `export AUTOGRAPH_VERBOSITY=10`) and attach the full output. Cause: converting <bound method AttentionLayer.call of <bert.attention.AttentionLayer object at 0x7ff789767588>>: AttributeError: module 'gast' has no attribute 'Num'\n",
            "WARNING: Entity <bound method AttentionLayer.call of <bert.attention.AttentionLayer object at 0x7ff789767588>> could not be transformed and will be executed as-is. Please report this to the AutgoGraph team. When filing the bug, set the verbosity to 10 (on Linux, `export AUTOGRAPH_VERBOSITY=10`) and attach the full output. Cause: converting <bound method AttentionLayer.call of <bert.attention.AttentionLayer object at 0x7ff789767588>>: AttributeError: module 'gast' has no attribute 'Num'\n",
            "WARNING:tensorflow:Entity <bound method ProjectionLayer.call of <bert.transformer.ProjectionLayer object at 0x7ff78975e898>> could not be transformed and will be executed as-is. Please report this to the AutgoGraph team. When filing the bug, set the verbosity to 10 (on Linux, `export AUTOGRAPH_VERBOSITY=10`) and attach the full output. Cause: converting <bound method ProjectionLayer.call of <bert.transformer.ProjectionLayer object at 0x7ff78975e898>>: AssertionError: Bad argument number for Name: 3, expecting 4\n",
            "WARNING: Entity <bound method ProjectionLayer.call of <bert.transformer.ProjectionLayer object at 0x7ff78975e898>> could not be transformed and will be executed as-is. Please report this to the AutgoGraph team. When filing the bug, set the verbosity to 10 (on Linux, `export AUTOGRAPH_VERBOSITY=10`) and attach the full output. Cause: converting <bound method ProjectionLayer.call of <bert.transformer.ProjectionLayer object at 0x7ff78975e898>>: AssertionError: Bad argument number for Name: 3, expecting 4\n",
            "WARNING:tensorflow:Entity <bound method LayerNormalization.call of <params_flow.normalization.LayerNormalization object at 0x7ff789720940>> could not be transformed and will be executed as-is. Please report this to the AutgoGraph team. When filing the bug, set the verbosity to 10 (on Linux, `export AUTOGRAPH_VERBOSITY=10`) and attach the full output. Cause: converting <bound method LayerNormalization.call of <params_flow.normalization.LayerNormalization object at 0x7ff789720940>>: AssertionError: Bad argument number for Name: 3, expecting 4\n",
            "WARNING: Entity <bound method LayerNormalization.call of <params_flow.normalization.LayerNormalization object at 0x7ff789720940>> could not be transformed and will be executed as-is. Please report this to the AutgoGraph team. When filing the bug, set the verbosity to 10 (on Linux, `export AUTOGRAPH_VERBOSITY=10`) and attach the full output. Cause: converting <bound method LayerNormalization.call of <params_flow.normalization.LayerNormalization object at 0x7ff789720940>>: AssertionError: Bad argument number for Name: 3, expecting 4\n",
            "WARNING:tensorflow:Entity <bound method ProjectionLayer.call of <bert.transformer.ProjectionLayer object at 0x7ff789815358>> could not be transformed and will be executed as-is. Please report this to the AutgoGraph team. When filing the bug, set the verbosity to 10 (on Linux, `export AUTOGRAPH_VERBOSITY=10`) and attach the full output. Cause: converting <bound method ProjectionLayer.call of <bert.transformer.ProjectionLayer object at 0x7ff789815358>>: AssertionError: Bad argument number for Name: 3, expecting 4\n",
            "WARNING: Entity <bound method ProjectionLayer.call of <bert.transformer.ProjectionLayer object at 0x7ff789815358>> could not be transformed and will be executed as-is. Please report this to the AutgoGraph team. When filing the bug, set the verbosity to 10 (on Linux, `export AUTOGRAPH_VERBOSITY=10`) and attach the full output. Cause: converting <bound method ProjectionLayer.call of <bert.transformer.ProjectionLayer object at 0x7ff789815358>>: AssertionError: Bad argument number for Name: 3, expecting 4\n",
            "WARNING:tensorflow:Entity <bound method LayerNormalization.call of <params_flow.normalization.LayerNormalization object at 0x7ff78971c7b8>> could not be transformed and will be executed as-is. Please report this to the AutgoGraph team. When filing the bug, set the verbosity to 10 (on Linux, `export AUTOGRAPH_VERBOSITY=10`) and attach the full output. Cause: converting <bound method LayerNormalization.call of <params_flow.normalization.LayerNormalization object at 0x7ff78971c7b8>>: AssertionError: Bad argument number for Name: 3, expecting 4\n",
            "WARNING: Entity <bound method LayerNormalization.call of <params_flow.normalization.LayerNormalization object at 0x7ff78971c7b8>> could not be transformed and will be executed as-is. Please report this to the AutgoGraph team. When filing the bug, set the verbosity to 10 (on Linux, `export AUTOGRAPH_VERBOSITY=10`) and attach the full output. Cause: converting <bound method LayerNormalization.call of <params_flow.normalization.LayerNormalization object at 0x7ff78971c7b8>>: AssertionError: Bad argument number for Name: 3, expecting 4\n",
            "WARNING:tensorflow:Entity <bound method SingleTransformerEncoderLayer.call of <bert.transformer.SingleTransformerEncoderLayer object at 0x7ff7898ecda0>> could not be transformed and will be executed as-is. Please report this to the AutgoGraph team. When filing the bug, set the verbosity to 10 (on Linux, `export AUTOGRAPH_VERBOSITY=10`) and attach the full output. Cause: converting <bound method SingleTransformerEncoderLayer.call of <bert.transformer.SingleTransformerEncoderLayer object at 0x7ff7898ecda0>>: AssertionError: Bad argument number for Name: 3, expecting 4\n",
            "WARNING: Entity <bound method SingleTransformerEncoderLayer.call of <bert.transformer.SingleTransformerEncoderLayer object at 0x7ff7898ecda0>> could not be transformed and will be executed as-is. Please report this to the AutgoGraph team. When filing the bug, set the verbosity to 10 (on Linux, `export AUTOGRAPH_VERBOSITY=10`) and attach the full output. Cause: converting <bound method SingleTransformerEncoderLayer.call of <bert.transformer.SingleTransformerEncoderLayer object at 0x7ff7898ecda0>>: AssertionError: Bad argument number for Name: 3, expecting 4\n",
            "WARNING:tensorflow:Entity <bound method TransformerSelfAttentionLayer.call of <bert.transformer.TransformerSelfAttentionLayer object at 0x7ff7898f1550>> could not be transformed and will be executed as-is. Please report this to the AutgoGraph team. When filing the bug, set the verbosity to 10 (on Linux, `export AUTOGRAPH_VERBOSITY=10`) and attach the full output. Cause: converting <bound method TransformerSelfAttentionLayer.call of <bert.transformer.TransformerSelfAttentionLayer object at 0x7ff7898f1550>>: AssertionError: Bad argument number for Name: 3, expecting 4\n",
            "WARNING: Entity <bound method TransformerSelfAttentionLayer.call of <bert.transformer.TransformerSelfAttentionLayer object at 0x7ff7898f1550>> could not be transformed and will be executed as-is. Please report this to the AutgoGraph team. When filing the bug, set the verbosity to 10 (on Linux, `export AUTOGRAPH_VERBOSITY=10`) and attach the full output. Cause: converting <bound method TransformerSelfAttentionLayer.call of <bert.transformer.TransformerSelfAttentionLayer object at 0x7ff7898f1550>>: AssertionError: Bad argument number for Name: 3, expecting 4\n",
            "WARNING:tensorflow:Entity <bound method AttentionLayer.call of <bert.attention.AttentionLayer object at 0x7ff789710668>> could not be transformed and will be executed as-is. Please report this to the AutgoGraph team. When filing the bug, set the verbosity to 10 (on Linux, `export AUTOGRAPH_VERBOSITY=10`) and attach the full output. Cause: converting <bound method AttentionLayer.call of <bert.attention.AttentionLayer object at 0x7ff789710668>>: AttributeError: module 'gast' has no attribute 'Num'\n",
            "WARNING: Entity <bound method AttentionLayer.call of <bert.attention.AttentionLayer object at 0x7ff789710668>> could not be transformed and will be executed as-is. Please report this to the AutgoGraph team. When filing the bug, set the verbosity to 10 (on Linux, `export AUTOGRAPH_VERBOSITY=10`) and attach the full output. Cause: converting <bound method AttentionLayer.call of <bert.attention.AttentionLayer object at 0x7ff789710668>>: AttributeError: module 'gast' has no attribute 'Num'\n",
            "WARNING:tensorflow:Entity <bound method ProjectionLayer.call of <bert.transformer.ProjectionLayer object at 0x7ff7896d7668>> could not be transformed and will be executed as-is. Please report this to the AutgoGraph team. When filing the bug, set the verbosity to 10 (on Linux, `export AUTOGRAPH_VERBOSITY=10`) and attach the full output. Cause: converting <bound method ProjectionLayer.call of <bert.transformer.ProjectionLayer object at 0x7ff7896d7668>>: AssertionError: Bad argument number for Name: 3, expecting 4\n",
            "WARNING: Entity <bound method ProjectionLayer.call of <bert.transformer.ProjectionLayer object at 0x7ff7896d7668>> could not be transformed and will be executed as-is. Please report this to the AutgoGraph team. When filing the bug, set the verbosity to 10 (on Linux, `export AUTOGRAPH_VERBOSITY=10`) and attach the full output. Cause: converting <bound method ProjectionLayer.call of <bert.transformer.ProjectionLayer object at 0x7ff7896d7668>>: AssertionError: Bad argument number for Name: 3, expecting 4\n",
            "WARNING:tensorflow:Entity <bound method LayerNormalization.call of <params_flow.normalization.LayerNormalization object at 0x7ff78969d6d8>> could not be transformed and will be executed as-is. Please report this to the AutgoGraph team. When filing the bug, set the verbosity to 10 (on Linux, `export AUTOGRAPH_VERBOSITY=10`) and attach the full output. Cause: converting <bound method LayerNormalization.call of <params_flow.normalization.LayerNormalization object at 0x7ff78969d6d8>>: AssertionError: Bad argument number for Name: 3, expecting 4\n",
            "WARNING: Entity <bound method LayerNormalization.call of <params_flow.normalization.LayerNormalization object at 0x7ff78969d6d8>> could not be transformed and will be executed as-is. Please report this to the AutgoGraph team. When filing the bug, set the verbosity to 10 (on Linux, `export AUTOGRAPH_VERBOSITY=10`) and attach the full output. Cause: converting <bound method LayerNormalization.call of <params_flow.normalization.LayerNormalization object at 0x7ff78969d6d8>>: AssertionError: Bad argument number for Name: 3, expecting 4\n",
            "WARNING:tensorflow:Entity <bound method ProjectionLayer.call of <bert.transformer.ProjectionLayer object at 0x7ff78975e278>> could not be transformed and will be executed as-is. Please report this to the AutgoGraph team. When filing the bug, set the verbosity to 10 (on Linux, `export AUTOGRAPH_VERBOSITY=10`) and attach the full output. Cause: converting <bound method ProjectionLayer.call of <bert.transformer.ProjectionLayer object at 0x7ff78975e278>>: AssertionError: Bad argument number for Name: 3, expecting 4\n",
            "WARNING: Entity <bound method ProjectionLayer.call of <bert.transformer.ProjectionLayer object at 0x7ff78975e278>> could not be transformed and will be executed as-is. Please report this to the AutgoGraph team. When filing the bug, set the verbosity to 10 (on Linux, `export AUTOGRAPH_VERBOSITY=10`) and attach the full output. Cause: converting <bound method ProjectionLayer.call of <bert.transformer.ProjectionLayer object at 0x7ff78975e278>>: AssertionError: Bad argument number for Name: 3, expecting 4\n",
            "WARNING:tensorflow:Entity <bound method LayerNormalization.call of <params_flow.normalization.LayerNormalization object at 0x7ff789691208>> could not be transformed and will be executed as-is. Please report this to the AutgoGraph team. When filing the bug, set the verbosity to 10 (on Linux, `export AUTOGRAPH_VERBOSITY=10`) and attach the full output. Cause: converting <bound method LayerNormalization.call of <params_flow.normalization.LayerNormalization object at 0x7ff789691208>>: AssertionError: Bad argument number for Name: 3, expecting 4\n",
            "WARNING: Entity <bound method LayerNormalization.call of <params_flow.normalization.LayerNormalization object at 0x7ff789691208>> could not be transformed and will be executed as-is. Please report this to the AutgoGraph team. When filing the bug, set the verbosity to 10 (on Linux, `export AUTOGRAPH_VERBOSITY=10`) and attach the full output. Cause: converting <bound method LayerNormalization.call of <params_flow.normalization.LayerNormalization object at 0x7ff789691208>>: AssertionError: Bad argument number for Name: 3, expecting 4\n",
            "WARNING:tensorflow:Entity <bound method SingleTransformerEncoderLayer.call of <bert.transformer.SingleTransformerEncoderLayer object at 0x7ff7898ec550>> could not be transformed and will be executed as-is. Please report this to the AutgoGraph team. When filing the bug, set the verbosity to 10 (on Linux, `export AUTOGRAPH_VERBOSITY=10`) and attach the full output. Cause: converting <bound method SingleTransformerEncoderLayer.call of <bert.transformer.SingleTransformerEncoderLayer object at 0x7ff7898ec550>>: AssertionError: Bad argument number for Name: 3, expecting 4\n",
            "WARNING: Entity <bound method SingleTransformerEncoderLayer.call of <bert.transformer.SingleTransformerEncoderLayer object at 0x7ff7898ec550>> could not be transformed and will be executed as-is. Please report this to the AutgoGraph team. When filing the bug, set the verbosity to 10 (on Linux, `export AUTOGRAPH_VERBOSITY=10`) and attach the full output. Cause: converting <bound method SingleTransformerEncoderLayer.call of <bert.transformer.SingleTransformerEncoderLayer object at 0x7ff7898ec550>>: AssertionError: Bad argument number for Name: 3, expecting 4\n",
            "WARNING:tensorflow:Entity <bound method TransformerSelfAttentionLayer.call of <bert.transformer.TransformerSelfAttentionLayer object at 0x7ff78975a9e8>> could not be transformed and will be executed as-is. Please report this to the AutgoGraph team. When filing the bug, set the verbosity to 10 (on Linux, `export AUTOGRAPH_VERBOSITY=10`) and attach the full output. Cause: converting <bound method TransformerSelfAttentionLayer.call of <bert.transformer.TransformerSelfAttentionLayer object at 0x7ff78975a9e8>>: AssertionError: Bad argument number for Name: 3, expecting 4\n",
            "WARNING: Entity <bound method TransformerSelfAttentionLayer.call of <bert.transformer.TransformerSelfAttentionLayer object at 0x7ff78975a9e8>> could not be transformed and will be executed as-is. Please report this to the AutgoGraph team. When filing the bug, set the verbosity to 10 (on Linux, `export AUTOGRAPH_VERBOSITY=10`) and attach the full output. Cause: converting <bound method TransformerSelfAttentionLayer.call of <bert.transformer.TransformerSelfAttentionLayer object at 0x7ff78975a9e8>>: AssertionError: Bad argument number for Name: 3, expecting 4\n",
            "WARNING:tensorflow:Entity <bound method AttentionLayer.call of <bert.attention.AttentionLayer object at 0x7ff789708f60>> could not be transformed and will be executed as-is. Please report this to the AutgoGraph team. When filing the bug, set the verbosity to 10 (on Linux, `export AUTOGRAPH_VERBOSITY=10`) and attach the full output. Cause: converting <bound method AttentionLayer.call of <bert.attention.AttentionLayer object at 0x7ff789708f60>>: AttributeError: module 'gast' has no attribute 'Num'\n",
            "WARNING: Entity <bound method AttentionLayer.call of <bert.attention.AttentionLayer object at 0x7ff789708f60>> could not be transformed and will be executed as-is. Please report this to the AutgoGraph team. When filing the bug, set the verbosity to 10 (on Linux, `export AUTOGRAPH_VERBOSITY=10`) and attach the full output. Cause: converting <bound method AttentionLayer.call of <bert.attention.AttentionLayer object at 0x7ff789708f60>>: AttributeError: module 'gast' has no attribute 'Num'\n",
            "WARNING:tensorflow:Entity <bound method ProjectionLayer.call of <bert.transformer.ProjectionLayer object at 0x7ff789656978>> could not be transformed and will be executed as-is. Please report this to the AutgoGraph team. When filing the bug, set the verbosity to 10 (on Linux, `export AUTOGRAPH_VERBOSITY=10`) and attach the full output. Cause: converting <bound method ProjectionLayer.call of <bert.transformer.ProjectionLayer object at 0x7ff789656978>>: AssertionError: Bad argument number for Name: 3, expecting 4\n",
            "WARNING: Entity <bound method ProjectionLayer.call of <bert.transformer.ProjectionLayer object at 0x7ff789656978>> could not be transformed and will be executed as-is. Please report this to the AutgoGraph team. When filing the bug, set the verbosity to 10 (on Linux, `export AUTOGRAPH_VERBOSITY=10`) and attach the full output. Cause: converting <bound method ProjectionLayer.call of <bert.transformer.ProjectionLayer object at 0x7ff789656978>>: AssertionError: Bad argument number for Name: 3, expecting 4\n",
            "WARNING:tensorflow:Entity <bound method LayerNormalization.call of <params_flow.normalization.LayerNormalization object at 0x7ff789615d68>> could not be transformed and will be executed as-is. Please report this to the AutgoGraph team. When filing the bug, set the verbosity to 10 (on Linux, `export AUTOGRAPH_VERBOSITY=10`) and attach the full output. Cause: converting <bound method LayerNormalization.call of <params_flow.normalization.LayerNormalization object at 0x7ff789615d68>>: AssertionError: Bad argument number for Name: 3, expecting 4\n",
            "WARNING: Entity <bound method LayerNormalization.call of <params_flow.normalization.LayerNormalization object at 0x7ff789615d68>> could not be transformed and will be executed as-is. Please report this to the AutgoGraph team. When filing the bug, set the verbosity to 10 (on Linux, `export AUTOGRAPH_VERBOSITY=10`) and attach the full output. Cause: converting <bound method LayerNormalization.call of <params_flow.normalization.LayerNormalization object at 0x7ff789615d68>>: AssertionError: Bad argument number for Name: 3, expecting 4\n",
            "WARNING:tensorflow:Entity <bound method ProjectionLayer.call of <bert.transformer.ProjectionLayer object at 0x7ff789710cc0>> could not be transformed and will be executed as-is. Please report this to the AutgoGraph team. When filing the bug, set the verbosity to 10 (on Linux, `export AUTOGRAPH_VERBOSITY=10`) and attach the full output. Cause: converting <bound method ProjectionLayer.call of <bert.transformer.ProjectionLayer object at 0x7ff789710cc0>>: AssertionError: Bad argument number for Name: 3, expecting 4\n",
            "WARNING: Entity <bound method ProjectionLayer.call of <bert.transformer.ProjectionLayer object at 0x7ff789710cc0>> could not be transformed and will be executed as-is. Please report this to the AutgoGraph team. When filing the bug, set the verbosity to 10 (on Linux, `export AUTOGRAPH_VERBOSITY=10`) and attach the full output. Cause: converting <bound method ProjectionLayer.call of <bert.transformer.ProjectionLayer object at 0x7ff789710cc0>>: AssertionError: Bad argument number for Name: 3, expecting 4\n",
            "WARNING:tensorflow:Entity <bound method LayerNormalization.call of <params_flow.normalization.LayerNormalization object at 0x7ff7896879e8>> could not be transformed and will be executed as-is. Please report this to the AutgoGraph team. When filing the bug, set the verbosity to 10 (on Linux, `export AUTOGRAPH_VERBOSITY=10`) and attach the full output. Cause: converting <bound method LayerNormalization.call of <params_flow.normalization.LayerNormalization object at 0x7ff7896879e8>>: AssertionError: Bad argument number for Name: 3, expecting 4\n",
            "WARNING: Entity <bound method LayerNormalization.call of <params_flow.normalization.LayerNormalization object at 0x7ff7896879e8>> could not be transformed and will be executed as-is. Please report this to the AutgoGraph team. When filing the bug, set the verbosity to 10 (on Linux, `export AUTOGRAPH_VERBOSITY=10`) and attach the full output. Cause: converting <bound method LayerNormalization.call of <params_flow.normalization.LayerNormalization object at 0x7ff7896879e8>>: AssertionError: Bad argument number for Name: 3, expecting 4\n",
            "WARNING:tensorflow:Entity <bound method SingleTransformerEncoderLayer.call of <bert.transformer.SingleTransformerEncoderLayer object at 0x7ff7898ec160>> could not be transformed and will be executed as-is. Please report this to the AutgoGraph team. When filing the bug, set the verbosity to 10 (on Linux, `export AUTOGRAPH_VERBOSITY=10`) and attach the full output. Cause: converting <bound method SingleTransformerEncoderLayer.call of <bert.transformer.SingleTransformerEncoderLayer object at 0x7ff7898ec160>>: AssertionError: Bad argument number for Name: 3, expecting 4\n",
            "WARNING: Entity <bound method SingleTransformerEncoderLayer.call of <bert.transformer.SingleTransformerEncoderLayer object at 0x7ff7898ec160>> could not be transformed and will be executed as-is. Please report this to the AutgoGraph team. When filing the bug, set the verbosity to 10 (on Linux, `export AUTOGRAPH_VERBOSITY=10`) and attach the full output. Cause: converting <bound method SingleTransformerEncoderLayer.call of <bert.transformer.SingleTransformerEncoderLayer object at 0x7ff7898ec160>>: AssertionError: Bad argument number for Name: 3, expecting 4\n",
            "WARNING:tensorflow:Entity <bound method TransformerSelfAttentionLayer.call of <bert.transformer.TransformerSelfAttentionLayer object at 0x7ff7897083c8>> could not be transformed and will be executed as-is. Please report this to the AutgoGraph team. When filing the bug, set the verbosity to 10 (on Linux, `export AUTOGRAPH_VERBOSITY=10`) and attach the full output. Cause: converting <bound method TransformerSelfAttentionLayer.call of <bert.transformer.TransformerSelfAttentionLayer object at 0x7ff7897083c8>>: AssertionError: Bad argument number for Name: 3, expecting 4\n",
            "WARNING: Entity <bound method TransformerSelfAttentionLayer.call of <bert.transformer.TransformerSelfAttentionLayer object at 0x7ff7897083c8>> could not be transformed and will be executed as-is. Please report this to the AutgoGraph team. When filing the bug, set the verbosity to 10 (on Linux, `export AUTOGRAPH_VERBOSITY=10`) and attach the full output. Cause: converting <bound method TransformerSelfAttentionLayer.call of <bert.transformer.TransformerSelfAttentionLayer object at 0x7ff7897083c8>>: AssertionError: Bad argument number for Name: 3, expecting 4\n",
            "WARNING:tensorflow:Entity <bound method AttentionLayer.call of <bert.attention.AttentionLayer object at 0x7ff78987a0f0>> could not be transformed and will be executed as-is. Please report this to the AutgoGraph team. When filing the bug, set the verbosity to 10 (on Linux, `export AUTOGRAPH_VERBOSITY=10`) and attach the full output. Cause: converting <bound method AttentionLayer.call of <bert.attention.AttentionLayer object at 0x7ff78987a0f0>>: AttributeError: module 'gast' has no attribute 'Num'\n",
            "WARNING: Entity <bound method AttentionLayer.call of <bert.attention.AttentionLayer object at 0x7ff78987a0f0>> could not be transformed and will be executed as-is. Please report this to the AutgoGraph team. When filing the bug, set the verbosity to 10 (on Linux, `export AUTOGRAPH_VERBOSITY=10`) and attach the full output. Cause: converting <bound method AttentionLayer.call of <bert.attention.AttentionLayer object at 0x7ff78987a0f0>>: AttributeError: module 'gast' has no attribute 'Num'\n",
            "WARNING:tensorflow:Entity <bound method ProjectionLayer.call of <bert.transformer.ProjectionLayer object at 0x7ff78987ac50>> could not be transformed and will be executed as-is. Please report this to the AutgoGraph team. When filing the bug, set the verbosity to 10 (on Linux, `export AUTOGRAPH_VERBOSITY=10`) and attach the full output. Cause: converting <bound method ProjectionLayer.call of <bert.transformer.ProjectionLayer object at 0x7ff78987ac50>>: AssertionError: Bad argument number for Name: 3, expecting 4\n",
            "WARNING: Entity <bound method ProjectionLayer.call of <bert.transformer.ProjectionLayer object at 0x7ff78987ac50>> could not be transformed and will be executed as-is. Please report this to the AutgoGraph team. When filing the bug, set the verbosity to 10 (on Linux, `export AUTOGRAPH_VERBOSITY=10`) and attach the full output. Cause: converting <bound method ProjectionLayer.call of <bert.transformer.ProjectionLayer object at 0x7ff78987ac50>>: AssertionError: Bad argument number for Name: 3, expecting 4\n",
            "WARNING:tensorflow:Entity <bound method LayerNormalization.call of <params_flow.normalization.LayerNormalization object at 0x7ff7891c08d0>> could not be transformed and will be executed as-is. Please report this to the AutgoGraph team. When filing the bug, set the verbosity to 10 (on Linux, `export AUTOGRAPH_VERBOSITY=10`) and attach the full output. Cause: converting <bound method LayerNormalization.call of <params_flow.normalization.LayerNormalization object at 0x7ff7891c08d0>>: AssertionError: Bad argument number for Name: 3, expecting 4\n",
            "WARNING: Entity <bound method LayerNormalization.call of <params_flow.normalization.LayerNormalization object at 0x7ff7891c08d0>> could not be transformed and will be executed as-is. Please report this to the AutgoGraph team. When filing the bug, set the verbosity to 10 (on Linux, `export AUTOGRAPH_VERBOSITY=10`) and attach the full output. Cause: converting <bound method LayerNormalization.call of <params_flow.normalization.LayerNormalization object at 0x7ff7891c08d0>>: AssertionError: Bad argument number for Name: 3, expecting 4\n",
            "WARNING:tensorflow:Entity <bound method ProjectionLayer.call of <bert.transformer.ProjectionLayer object at 0x7ff78987aa20>> could not be transformed and will be executed as-is. Please report this to the AutgoGraph team. When filing the bug, set the verbosity to 10 (on Linux, `export AUTOGRAPH_VERBOSITY=10`) and attach the full output. Cause: converting <bound method ProjectionLayer.call of <bert.transformer.ProjectionLayer object at 0x7ff78987aa20>>: AssertionError: Bad argument number for Name: 3, expecting 4\n",
            "WARNING: Entity <bound method ProjectionLayer.call of <bert.transformer.ProjectionLayer object at 0x7ff78987aa20>> could not be transformed and will be executed as-is. Please report this to the AutgoGraph team. When filing the bug, set the verbosity to 10 (on Linux, `export AUTOGRAPH_VERBOSITY=10`) and attach the full output. Cause: converting <bound method ProjectionLayer.call of <bert.transformer.ProjectionLayer object at 0x7ff78987aa20>>: AssertionError: Bad argument number for Name: 3, expecting 4\n",
            "WARNING:tensorflow:Entity <bound method LayerNormalization.call of <params_flow.normalization.LayerNormalization object at 0x7ff7891b2048>> could not be transformed and will be executed as-is. Please report this to the AutgoGraph team. When filing the bug, set the verbosity to 10 (on Linux, `export AUTOGRAPH_VERBOSITY=10`) and attach the full output. Cause: converting <bound method LayerNormalization.call of <params_flow.normalization.LayerNormalization object at 0x7ff7891b2048>>: AssertionError: Bad argument number for Name: 3, expecting 4\n",
            "WARNING: Entity <bound method LayerNormalization.call of <params_flow.normalization.LayerNormalization object at 0x7ff7891b2048>> could not be transformed and will be executed as-is. Please report this to the AutgoGraph team. When filing the bug, set the verbosity to 10 (on Linux, `export AUTOGRAPH_VERBOSITY=10`) and attach the full output. Cause: converting <bound method LayerNormalization.call of <params_flow.normalization.LayerNormalization object at 0x7ff7891b2048>>: AssertionError: Bad argument number for Name: 3, expecting 4\n",
            "WARNING:tensorflow:Entity <bound method SingleTransformerEncoderLayer.call of <bert.transformer.SingleTransformerEncoderLayer object at 0x7ff7898ec4a8>> could not be transformed and will be executed as-is. Please report this to the AutgoGraph team. When filing the bug, set the verbosity to 10 (on Linux, `export AUTOGRAPH_VERBOSITY=10`) and attach the full output. Cause: converting <bound method SingleTransformerEncoderLayer.call of <bert.transformer.SingleTransformerEncoderLayer object at 0x7ff7898ec4a8>>: AssertionError: Bad argument number for Name: 3, expecting 4\n",
            "WARNING: Entity <bound method SingleTransformerEncoderLayer.call of <bert.transformer.SingleTransformerEncoderLayer object at 0x7ff7898ec4a8>> could not be transformed and will be executed as-is. Please report this to the AutgoGraph team. When filing the bug, set the verbosity to 10 (on Linux, `export AUTOGRAPH_VERBOSITY=10`) and attach the full output. Cause: converting <bound method SingleTransformerEncoderLayer.call of <bert.transformer.SingleTransformerEncoderLayer object at 0x7ff7898ec4a8>>: AssertionError: Bad argument number for Name: 3, expecting 4\n",
            "WARNING:tensorflow:Entity <bound method TransformerSelfAttentionLayer.call of <bert.transformer.TransformerSelfAttentionLayer object at 0x7ff7896d7c18>> could not be transformed and will be executed as-is. Please report this to the AutgoGraph team. When filing the bug, set the verbosity to 10 (on Linux, `export AUTOGRAPH_VERBOSITY=10`) and attach the full output. Cause: converting <bound method TransformerSelfAttentionLayer.call of <bert.transformer.TransformerSelfAttentionLayer object at 0x7ff7896d7c18>>: AssertionError: Bad argument number for Name: 3, expecting 4\n",
            "WARNING: Entity <bound method TransformerSelfAttentionLayer.call of <bert.transformer.TransformerSelfAttentionLayer object at 0x7ff7896d7c18>> could not be transformed and will be executed as-is. Please report this to the AutgoGraph team. When filing the bug, set the verbosity to 10 (on Linux, `export AUTOGRAPH_VERBOSITY=10`) and attach the full output. Cause: converting <bound method TransformerSelfAttentionLayer.call of <bert.transformer.TransformerSelfAttentionLayer object at 0x7ff7896d7c18>>: AssertionError: Bad argument number for Name: 3, expecting 4\n",
            "WARNING:tensorflow:Entity <bound method AttentionLayer.call of <bert.attention.AttentionLayer object at 0x7ff789180a90>> could not be transformed and will be executed as-is. Please report this to the AutgoGraph team. When filing the bug, set the verbosity to 10 (on Linux, `export AUTOGRAPH_VERBOSITY=10`) and attach the full output. Cause: converting <bound method AttentionLayer.call of <bert.attention.AttentionLayer object at 0x7ff789180a90>>: AttributeError: module 'gast' has no attribute 'Num'\n",
            "WARNING: Entity <bound method AttentionLayer.call of <bert.attention.AttentionLayer object at 0x7ff789180a90>> could not be transformed and will be executed as-is. Please report this to the AutgoGraph team. When filing the bug, set the verbosity to 10 (on Linux, `export AUTOGRAPH_VERBOSITY=10`) and attach the full output. Cause: converting <bound method AttentionLayer.call of <bert.attention.AttentionLayer object at 0x7ff789180a90>>: AttributeError: module 'gast' has no attribute 'Num'\n",
            "WARNING:tensorflow:Entity <bound method ProjectionLayer.call of <bert.transformer.ProjectionLayer object at 0x7ff78917dc18>> could not be transformed and will be executed as-is. Please report this to the AutgoGraph team. When filing the bug, set the verbosity to 10 (on Linux, `export AUTOGRAPH_VERBOSITY=10`) and attach the full output. Cause: converting <bound method ProjectionLayer.call of <bert.transformer.ProjectionLayer object at 0x7ff78917dc18>>: AssertionError: Bad argument number for Name: 3, expecting 4\n",
            "WARNING: Entity <bound method ProjectionLayer.call of <bert.transformer.ProjectionLayer object at 0x7ff78917dc18>> could not be transformed and will be executed as-is. Please report this to the AutgoGraph team. When filing the bug, set the verbosity to 10 (on Linux, `export AUTOGRAPH_VERBOSITY=10`) and attach the full output. Cause: converting <bound method ProjectionLayer.call of <bert.transformer.ProjectionLayer object at 0x7ff78917dc18>>: AssertionError: Bad argument number for Name: 3, expecting 4\n",
            "WARNING:tensorflow:Entity <bound method LayerNormalization.call of <params_flow.normalization.LayerNormalization object at 0x7ff7891388d0>> could not be transformed and will be executed as-is. Please report this to the AutgoGraph team. When filing the bug, set the verbosity to 10 (on Linux, `export AUTOGRAPH_VERBOSITY=10`) and attach the full output. Cause: converting <bound method LayerNormalization.call of <params_flow.normalization.LayerNormalization object at 0x7ff7891388d0>>: AssertionError: Bad argument number for Name: 3, expecting 4\n",
            "WARNING: Entity <bound method LayerNormalization.call of <params_flow.normalization.LayerNormalization object at 0x7ff7891388d0>> could not be transformed and will be executed as-is. Please report this to the AutgoGraph team. When filing the bug, set the verbosity to 10 (on Linux, `export AUTOGRAPH_VERBOSITY=10`) and attach the full output. Cause: converting <bound method LayerNormalization.call of <params_flow.normalization.LayerNormalization object at 0x7ff7891388d0>>: AssertionError: Bad argument number for Name: 3, expecting 4\n",
            "WARNING:tensorflow:Entity <bound method ProjectionLayer.call of <bert.transformer.ProjectionLayer object at 0x7ff7896150b8>> could not be transformed and will be executed as-is. Please report this to the AutgoGraph team. When filing the bug, set the verbosity to 10 (on Linux, `export AUTOGRAPH_VERBOSITY=10`) and attach the full output. Cause: converting <bound method ProjectionLayer.call of <bert.transformer.ProjectionLayer object at 0x7ff7896150b8>>: AssertionError: Bad argument number for Name: 3, expecting 4\n",
            "WARNING: Entity <bound method ProjectionLayer.call of <bert.transformer.ProjectionLayer object at 0x7ff7896150b8>> could not be transformed and will be executed as-is. Please report this to the AutgoGraph team. When filing the bug, set the verbosity to 10 (on Linux, `export AUTOGRAPH_VERBOSITY=10`) and attach the full output. Cause: converting <bound method ProjectionLayer.call of <bert.transformer.ProjectionLayer object at 0x7ff7896150b8>>: AssertionError: Bad argument number for Name: 3, expecting 4\n",
            "WARNING:tensorflow:Entity <bound method LayerNormalization.call of <params_flow.normalization.LayerNormalization object at 0x7ff789138c88>> could not be transformed and will be executed as-is. Please report this to the AutgoGraph team. When filing the bug, set the verbosity to 10 (on Linux, `export AUTOGRAPH_VERBOSITY=10`) and attach the full output. Cause: converting <bound method LayerNormalization.call of <params_flow.normalization.LayerNormalization object at 0x7ff789138c88>>: AssertionError: Bad argument number for Name: 3, expecting 4\n",
            "WARNING: Entity <bound method LayerNormalization.call of <params_flow.normalization.LayerNormalization object at 0x7ff789138c88>> could not be transformed and will be executed as-is. Please report this to the AutgoGraph team. When filing the bug, set the verbosity to 10 (on Linux, `export AUTOGRAPH_VERBOSITY=10`) and attach the full output. Cause: converting <bound method LayerNormalization.call of <params_flow.normalization.LayerNormalization object at 0x7ff789138c88>>: AssertionError: Bad argument number for Name: 3, expecting 4\n",
            "WARNING:tensorflow:Entity <bound method SingleTransformerEncoderLayer.call of <bert.transformer.SingleTransformerEncoderLayer object at 0x7ff7898ec390>> could not be transformed and will be executed as-is. Please report this to the AutgoGraph team. When filing the bug, set the verbosity to 10 (on Linux, `export AUTOGRAPH_VERBOSITY=10`) and attach the full output. Cause: converting <bound method SingleTransformerEncoderLayer.call of <bert.transformer.SingleTransformerEncoderLayer object at 0x7ff7898ec390>>: AssertionError: Bad argument number for Name: 3, expecting 4\n",
            "WARNING: Entity <bound method SingleTransformerEncoderLayer.call of <bert.transformer.SingleTransformerEncoderLayer object at 0x7ff7898ec390>> could not be transformed and will be executed as-is. Please report this to the AutgoGraph team. When filing the bug, set the verbosity to 10 (on Linux, `export AUTOGRAPH_VERBOSITY=10`) and attach the full output. Cause: converting <bound method SingleTransformerEncoderLayer.call of <bert.transformer.SingleTransformerEncoderLayer object at 0x7ff7898ec390>>: AssertionError: Bad argument number for Name: 3, expecting 4\n",
            "WARNING:tensorflow:Entity <bound method TransformerSelfAttentionLayer.call of <bert.transformer.TransformerSelfAttentionLayer object at 0x7ff7891afc18>> could not be transformed and will be executed as-is. Please report this to the AutgoGraph team. When filing the bug, set the verbosity to 10 (on Linux, `export AUTOGRAPH_VERBOSITY=10`) and attach the full output. Cause: converting <bound method TransformerSelfAttentionLayer.call of <bert.transformer.TransformerSelfAttentionLayer object at 0x7ff7891afc18>>: AssertionError: Bad argument number for Name: 3, expecting 4\n",
            "WARNING: Entity <bound method TransformerSelfAttentionLayer.call of <bert.transformer.TransformerSelfAttentionLayer object at 0x7ff7891afc18>> could not be transformed and will be executed as-is. Please report this to the AutgoGraph team. When filing the bug, set the verbosity to 10 (on Linux, `export AUTOGRAPH_VERBOSITY=10`) and attach the full output. Cause: converting <bound method TransformerSelfAttentionLayer.call of <bert.transformer.TransformerSelfAttentionLayer object at 0x7ff7891afc18>>: AssertionError: Bad argument number for Name: 3, expecting 4\n",
            "WARNING:tensorflow:Entity <bound method AttentionLayer.call of <bert.attention.AttentionLayer object at 0x7ff7890faa20>> could not be transformed and will be executed as-is. Please report this to the AutgoGraph team. When filing the bug, set the verbosity to 10 (on Linux, `export AUTOGRAPH_VERBOSITY=10`) and attach the full output. Cause: converting <bound method AttentionLayer.call of <bert.attention.AttentionLayer object at 0x7ff7890faa20>>: AttributeError: module 'gast' has no attribute 'Num'\n",
            "WARNING: Entity <bound method AttentionLayer.call of <bert.attention.AttentionLayer object at 0x7ff7890faa20>> could not be transformed and will be executed as-is. Please report this to the AutgoGraph team. When filing the bug, set the verbosity to 10 (on Linux, `export AUTOGRAPH_VERBOSITY=10`) and attach the full output. Cause: converting <bound method AttentionLayer.call of <bert.attention.AttentionLayer object at 0x7ff7890faa20>>: AttributeError: module 'gast' has no attribute 'Num'\n",
            "WARNING:tensorflow:Entity <bound method ProjectionLayer.call of <bert.transformer.ProjectionLayer object at 0x7ff789131ac8>> could not be transformed and will be executed as-is. Please report this to the AutgoGraph team. When filing the bug, set the verbosity to 10 (on Linux, `export AUTOGRAPH_VERBOSITY=10`) and attach the full output. Cause: converting <bound method ProjectionLayer.call of <bert.transformer.ProjectionLayer object at 0x7ff789131ac8>>: AssertionError: Bad argument number for Name: 3, expecting 4\n",
            "WARNING: Entity <bound method ProjectionLayer.call of <bert.transformer.ProjectionLayer object at 0x7ff789131ac8>> could not be transformed and will be executed as-is. Please report this to the AutgoGraph team. When filing the bug, set the verbosity to 10 (on Linux, `export AUTOGRAPH_VERBOSITY=10`) and attach the full output. Cause: converting <bound method ProjectionLayer.call of <bert.transformer.ProjectionLayer object at 0x7ff789131ac8>>: AssertionError: Bad argument number for Name: 3, expecting 4\n",
            "WARNING:tensorflow:Entity <bound method LayerNormalization.call of <params_flow.normalization.LayerNormalization object at 0x7ff7890b7668>> could not be transformed and will be executed as-is. Please report this to the AutgoGraph team. When filing the bug, set the verbosity to 10 (on Linux, `export AUTOGRAPH_VERBOSITY=10`) and attach the full output. Cause: converting <bound method LayerNormalization.call of <params_flow.normalization.LayerNormalization object at 0x7ff7890b7668>>: AssertionError: Bad argument number for Name: 3, expecting 4\n",
            "WARNING: Entity <bound method LayerNormalization.call of <params_flow.normalization.LayerNormalization object at 0x7ff7890b7668>> could not be transformed and will be executed as-is. Please report this to the AutgoGraph team. When filing the bug, set the verbosity to 10 (on Linux, `export AUTOGRAPH_VERBOSITY=10`) and attach the full output. Cause: converting <bound method LayerNormalization.call of <params_flow.normalization.LayerNormalization object at 0x7ff7890b7668>>: AssertionError: Bad argument number for Name: 3, expecting 4\n",
            "WARNING:tensorflow:Entity <bound method ProjectionLayer.call of <bert.transformer.ProjectionLayer object at 0x7ff789180f28>> could not be transformed and will be executed as-is. Please report this to the AutgoGraph team. When filing the bug, set the verbosity to 10 (on Linux, `export AUTOGRAPH_VERBOSITY=10`) and attach the full output. Cause: converting <bound method ProjectionLayer.call of <bert.transformer.ProjectionLayer object at 0x7ff789180f28>>: AssertionError: Bad argument number for Name: 3, expecting 4\n",
            "WARNING: Entity <bound method ProjectionLayer.call of <bert.transformer.ProjectionLayer object at 0x7ff789180f28>> could not be transformed and will be executed as-is. Please report this to the AutgoGraph team. When filing the bug, set the verbosity to 10 (on Linux, `export AUTOGRAPH_VERBOSITY=10`) and attach the full output. Cause: converting <bound method ProjectionLayer.call of <bert.transformer.ProjectionLayer object at 0x7ff789180f28>>: AssertionError: Bad argument number for Name: 3, expecting 4\n",
            "WARNING:tensorflow:Entity <bound method LayerNormalization.call of <params_flow.normalization.LayerNormalization object at 0x7ff7890a8390>> could not be transformed and will be executed as-is. Please report this to the AutgoGraph team. When filing the bug, set the verbosity to 10 (on Linux, `export AUTOGRAPH_VERBOSITY=10`) and attach the full output. Cause: converting <bound method LayerNormalization.call of <params_flow.normalization.LayerNormalization object at 0x7ff7890a8390>>: AssertionError: Bad argument number for Name: 3, expecting 4\n",
            "WARNING: Entity <bound method LayerNormalization.call of <params_flow.normalization.LayerNormalization object at 0x7ff7890a8390>> could not be transformed and will be executed as-is. Please report this to the AutgoGraph team. When filing the bug, set the verbosity to 10 (on Linux, `export AUTOGRAPH_VERBOSITY=10`) and attach the full output. Cause: converting <bound method LayerNormalization.call of <params_flow.normalization.LayerNormalization object at 0x7ff7890a8390>>: AssertionError: Bad argument number for Name: 3, expecting 4\n",
            "WARNING:tensorflow:Entity <bound method SingleTransformerEncoderLayer.call of <bert.transformer.SingleTransformerEncoderLayer object at 0x7ff7898d3cc0>> could not be transformed and will be executed as-is. Please report this to the AutgoGraph team. When filing the bug, set the verbosity to 10 (on Linux, `export AUTOGRAPH_VERBOSITY=10`) and attach the full output. Cause: converting <bound method SingleTransformerEncoderLayer.call of <bert.transformer.SingleTransformerEncoderLayer object at 0x7ff7898d3cc0>>: AssertionError: Bad argument number for Name: 3, expecting 4\n",
            "WARNING: Entity <bound method SingleTransformerEncoderLayer.call of <bert.transformer.SingleTransformerEncoderLayer object at 0x7ff7898d3cc0>> could not be transformed and will be executed as-is. Please report this to the AutgoGraph team. When filing the bug, set the verbosity to 10 (on Linux, `export AUTOGRAPH_VERBOSITY=10`) and attach the full output. Cause: converting <bound method SingleTransformerEncoderLayer.call of <bert.transformer.SingleTransformerEncoderLayer object at 0x7ff7898d3cc0>>: AssertionError: Bad argument number for Name: 3, expecting 4\n",
            "WARNING:tensorflow:Entity <bound method TransformerSelfAttentionLayer.call of <bert.transformer.TransformerSelfAttentionLayer object at 0x7ff78966a5f8>> could not be transformed and will be executed as-is. Please report this to the AutgoGraph team. When filing the bug, set the verbosity to 10 (on Linux, `export AUTOGRAPH_VERBOSITY=10`) and attach the full output. Cause: converting <bound method TransformerSelfAttentionLayer.call of <bert.transformer.TransformerSelfAttentionLayer object at 0x7ff78966a5f8>>: AssertionError: Bad argument number for Name: 3, expecting 4\n",
            "WARNING: Entity <bound method TransformerSelfAttentionLayer.call of <bert.transformer.TransformerSelfAttentionLayer object at 0x7ff78966a5f8>> could not be transformed and will be executed as-is. Please report this to the AutgoGraph team. When filing the bug, set the verbosity to 10 (on Linux, `export AUTOGRAPH_VERBOSITY=10`) and attach the full output. Cause: converting <bound method TransformerSelfAttentionLayer.call of <bert.transformer.TransformerSelfAttentionLayer object at 0x7ff78966a5f8>>: AssertionError: Bad argument number for Name: 3, expecting 4\n",
            "WARNING:tensorflow:Entity <bound method AttentionLayer.call of <bert.attention.AttentionLayer object at 0x7ff789077cc0>> could not be transformed and will be executed as-is. Please report this to the AutgoGraph team. When filing the bug, set the verbosity to 10 (on Linux, `export AUTOGRAPH_VERBOSITY=10`) and attach the full output. Cause: converting <bound method AttentionLayer.call of <bert.attention.AttentionLayer object at 0x7ff789077cc0>>: AttributeError: module 'gast' has no attribute 'Num'\n",
            "WARNING: Entity <bound method AttentionLayer.call of <bert.attention.AttentionLayer object at 0x7ff789077cc0>> could not be transformed and will be executed as-is. Please report this to the AutgoGraph team. When filing the bug, set the verbosity to 10 (on Linux, `export AUTOGRAPH_VERBOSITY=10`) and attach the full output. Cause: converting <bound method AttentionLayer.call of <bert.attention.AttentionLayer object at 0x7ff789077cc0>>: AttributeError: module 'gast' has no attribute 'Num'\n",
            "WARNING:tensorflow:Entity <bound method ProjectionLayer.call of <bert.transformer.ProjectionLayer object at 0x7ff789077588>> could not be transformed and will be executed as-is. Please report this to the AutgoGraph team. When filing the bug, set the verbosity to 10 (on Linux, `export AUTOGRAPH_VERBOSITY=10`) and attach the full output. Cause: converting <bound method ProjectionLayer.call of <bert.transformer.ProjectionLayer object at 0x7ff789077588>>: AssertionError: Bad argument number for Name: 3, expecting 4\n",
            "WARNING: Entity <bound method ProjectionLayer.call of <bert.transformer.ProjectionLayer object at 0x7ff789077588>> could not be transformed and will be executed as-is. Please report this to the AutgoGraph team. When filing the bug, set the verbosity to 10 (on Linux, `export AUTOGRAPH_VERBOSITY=10`) and attach the full output. Cause: converting <bound method ProjectionLayer.call of <bert.transformer.ProjectionLayer object at 0x7ff789077588>>: AssertionError: Bad argument number for Name: 3, expecting 4\n",
            "WARNING:tensorflow:Entity <bound method LayerNormalization.call of <params_flow.normalization.LayerNormalization object at 0x7ff789033400>> could not be transformed and will be executed as-is. Please report this to the AutgoGraph team. When filing the bug, set the verbosity to 10 (on Linux, `export AUTOGRAPH_VERBOSITY=10`) and attach the full output. Cause: converting <bound method LayerNormalization.call of <params_flow.normalization.LayerNormalization object at 0x7ff789033400>>: AssertionError: Bad argument number for Name: 3, expecting 4\n",
            "WARNING: Entity <bound method LayerNormalization.call of <params_flow.normalization.LayerNormalization object at 0x7ff789033400>> could not be transformed and will be executed as-is. Please report this to the AutgoGraph team. When filing the bug, set the verbosity to 10 (on Linux, `export AUTOGRAPH_VERBOSITY=10`) and attach the full output. Cause: converting <bound method LayerNormalization.call of <params_flow.normalization.LayerNormalization object at 0x7ff789033400>>: AssertionError: Bad argument number for Name: 3, expecting 4\n",
            "WARNING:tensorflow:Entity <bound method ProjectionLayer.call of <bert.transformer.ProjectionLayer object at 0x7ff789205a90>> could not be transformed and will be executed as-is. Please report this to the AutgoGraph team. When filing the bug, set the verbosity to 10 (on Linux, `export AUTOGRAPH_VERBOSITY=10`) and attach the full output. Cause: converting <bound method ProjectionLayer.call of <bert.transformer.ProjectionLayer object at 0x7ff789205a90>>: AssertionError: Bad argument number for Name: 3, expecting 4\n",
            "WARNING: Entity <bound method ProjectionLayer.call of <bert.transformer.ProjectionLayer object at 0x7ff789205a90>> could not be transformed and will be executed as-is. Please report this to the AutgoGraph team. When filing the bug, set the verbosity to 10 (on Linux, `export AUTOGRAPH_VERBOSITY=10`) and attach the full output. Cause: converting <bound method ProjectionLayer.call of <bert.transformer.ProjectionLayer object at 0x7ff789205a90>>: AssertionError: Bad argument number for Name: 3, expecting 4\n",
            "WARNING:tensorflow:Entity <bound method LayerNormalization.call of <params_flow.normalization.LayerNormalization object at 0x7ff789023c18>> could not be transformed and will be executed as-is. Please report this to the AutgoGraph team. When filing the bug, set the verbosity to 10 (on Linux, `export AUTOGRAPH_VERBOSITY=10`) and attach the full output. Cause: converting <bound method LayerNormalization.call of <params_flow.normalization.LayerNormalization object at 0x7ff789023c18>>: AssertionError: Bad argument number for Name: 3, expecting 4\n",
            "WARNING: Entity <bound method LayerNormalization.call of <params_flow.normalization.LayerNormalization object at 0x7ff789023c18>> could not be transformed and will be executed as-is. Please report this to the AutgoGraph team. When filing the bug, set the verbosity to 10 (on Linux, `export AUTOGRAPH_VERBOSITY=10`) and attach the full output. Cause: converting <bound method LayerNormalization.call of <params_flow.normalization.LayerNormalization object at 0x7ff789023c18>>: AssertionError: Bad argument number for Name: 3, expecting 4\n",
            "WARNING:tensorflow:Entity <bound method SingleTransformerEncoderLayer.call of <bert.transformer.SingleTransformerEncoderLayer object at 0x7ff7898d3470>> could not be transformed and will be executed as-is. Please report this to the AutgoGraph team. When filing the bug, set the verbosity to 10 (on Linux, `export AUTOGRAPH_VERBOSITY=10`) and attach the full output. Cause: converting <bound method SingleTransformerEncoderLayer.call of <bert.transformer.SingleTransformerEncoderLayer object at 0x7ff7898d3470>>: AssertionError: Bad argument number for Name: 3, expecting 4\n",
            "WARNING: Entity <bound method SingleTransformerEncoderLayer.call of <bert.transformer.SingleTransformerEncoderLayer object at 0x7ff7898d3470>> could not be transformed and will be executed as-is. Please report this to the AutgoGraph team. When filing the bug, set the verbosity to 10 (on Linux, `export AUTOGRAPH_VERBOSITY=10`) and attach the full output. Cause: converting <bound method SingleTransformerEncoderLayer.call of <bert.transformer.SingleTransformerEncoderLayer object at 0x7ff7898d3470>>: AssertionError: Bad argument number for Name: 3, expecting 4\n",
            "WARNING:tensorflow:Entity <bound method TransformerSelfAttentionLayer.call of <bert.transformer.TransformerSelfAttentionLayer object at 0x7ff7890b3b70>> could not be transformed and will be executed as-is. Please report this to the AutgoGraph team. When filing the bug, set the verbosity to 10 (on Linux, `export AUTOGRAPH_VERBOSITY=10`) and attach the full output. Cause: converting <bound method TransformerSelfAttentionLayer.call of <bert.transformer.TransformerSelfAttentionLayer object at 0x7ff7890b3b70>>: AssertionError: Bad argument number for Name: 3, expecting 4\n",
            "WARNING: Entity <bound method TransformerSelfAttentionLayer.call of <bert.transformer.TransformerSelfAttentionLayer object at 0x7ff7890b3b70>> could not be transformed and will be executed as-is. Please report this to the AutgoGraph team. When filing the bug, set the verbosity to 10 (on Linux, `export AUTOGRAPH_VERBOSITY=10`) and attach the full output. Cause: converting <bound method TransformerSelfAttentionLayer.call of <bert.transformer.TransformerSelfAttentionLayer object at 0x7ff7890b3b70>>: AssertionError: Bad argument number for Name: 3, expecting 4\n",
            "WARNING:tensorflow:Entity <bound method AttentionLayer.call of <bert.attention.AttentionLayer object at 0x7ff78917d668>> could not be transformed and will be executed as-is. Please report this to the AutgoGraph team. When filing the bug, set the verbosity to 10 (on Linux, `export AUTOGRAPH_VERBOSITY=10`) and attach the full output. Cause: converting <bound method AttentionLayer.call of <bert.attention.AttentionLayer object at 0x7ff78917d668>>: AttributeError: module 'gast' has no attribute 'Num'\n",
            "WARNING: Entity <bound method AttentionLayer.call of <bert.attention.AttentionLayer object at 0x7ff78917d668>> could not be transformed and will be executed as-is. Please report this to the AutgoGraph team. When filing the bug, set the verbosity to 10 (on Linux, `export AUTOGRAPH_VERBOSITY=10`) and attach the full output. Cause: converting <bound method AttentionLayer.call of <bert.attention.AttentionLayer object at 0x7ff78917d668>>: AttributeError: module 'gast' has no attribute 'Num'\n",
            "WARNING:tensorflow:Entity <bound method ProjectionLayer.call of <bert.transformer.ProjectionLayer object at 0x7ff78917df98>> could not be transformed and will be executed as-is. Please report this to the AutgoGraph team. When filing the bug, set the verbosity to 10 (on Linux, `export AUTOGRAPH_VERBOSITY=10`) and attach the full output. Cause: converting <bound method ProjectionLayer.call of <bert.transformer.ProjectionLayer object at 0x7ff78917df98>>: AssertionError: Bad argument number for Name: 3, expecting 4\n",
            "WARNING: Entity <bound method ProjectionLayer.call of <bert.transformer.ProjectionLayer object at 0x7ff78917df98>> could not be transformed and will be executed as-is. Please report this to the AutgoGraph team. When filing the bug, set the verbosity to 10 (on Linux, `export AUTOGRAPH_VERBOSITY=10`) and attach the full output. Cause: converting <bound method ProjectionLayer.call of <bert.transformer.ProjectionLayer object at 0x7ff78917df98>>: AssertionError: Bad argument number for Name: 3, expecting 4\n",
            "WARNING:tensorflow:Entity <bound method LayerNormalization.call of <params_flow.normalization.LayerNormalization object at 0x7ff788fa6a90>> could not be transformed and will be executed as-is. Please report this to the AutgoGraph team. When filing the bug, set the verbosity to 10 (on Linux, `export AUTOGRAPH_VERBOSITY=10`) and attach the full output. Cause: converting <bound method LayerNormalization.call of <params_flow.normalization.LayerNormalization object at 0x7ff788fa6a90>>: AssertionError: Bad argument number for Name: 3, expecting 4\n",
            "WARNING: Entity <bound method LayerNormalization.call of <params_flow.normalization.LayerNormalization object at 0x7ff788fa6a90>> could not be transformed and will be executed as-is. Please report this to the AutgoGraph team. When filing the bug, set the verbosity to 10 (on Linux, `export AUTOGRAPH_VERBOSITY=10`) and attach the full output. Cause: converting <bound method LayerNormalization.call of <params_flow.normalization.LayerNormalization object at 0x7ff788fa6a90>>: AssertionError: Bad argument number for Name: 3, expecting 4\n",
            "WARNING:tensorflow:Entity <bound method ProjectionLayer.call of <bert.transformer.ProjectionLayer object at 0x7ff789111358>> could not be transformed and will be executed as-is. Please report this to the AutgoGraph team. When filing the bug, set the verbosity to 10 (on Linux, `export AUTOGRAPH_VERBOSITY=10`) and attach the full output. Cause: converting <bound method ProjectionLayer.call of <bert.transformer.ProjectionLayer object at 0x7ff789111358>>: AssertionError: Bad argument number for Name: 3, expecting 4\n",
            "WARNING: Entity <bound method ProjectionLayer.call of <bert.transformer.ProjectionLayer object at 0x7ff789111358>> could not be transformed and will be executed as-is. Please report this to the AutgoGraph team. When filing the bug, set the verbosity to 10 (on Linux, `export AUTOGRAPH_VERBOSITY=10`) and attach the full output. Cause: converting <bound method ProjectionLayer.call of <bert.transformer.ProjectionLayer object at 0x7ff789111358>>: AssertionError: Bad argument number for Name: 3, expecting 4\n",
            "WARNING:tensorflow:Entity <bound method LayerNormalization.call of <params_flow.normalization.LayerNormalization object at 0x7ff788faf358>> could not be transformed and will be executed as-is. Please report this to the AutgoGraph team. When filing the bug, set the verbosity to 10 (on Linux, `export AUTOGRAPH_VERBOSITY=10`) and attach the full output. Cause: converting <bound method LayerNormalization.call of <params_flow.normalization.LayerNormalization object at 0x7ff788faf358>>: AssertionError: Bad argument number for Name: 3, expecting 4\n",
            "WARNING: Entity <bound method LayerNormalization.call of <params_flow.normalization.LayerNormalization object at 0x7ff788faf358>> could not be transformed and will be executed as-is. Please report this to the AutgoGraph team. When filing the bug, set the verbosity to 10 (on Linux, `export AUTOGRAPH_VERBOSITY=10`) and attach the full output. Cause: converting <bound method LayerNormalization.call of <params_flow.normalization.LayerNormalization object at 0x7ff788faf358>>: AssertionError: Bad argument number for Name: 3, expecting 4\n",
            "WARNING:tensorflow:Entity <bound method SingleTransformerEncoderLayer.call of <bert.transformer.SingleTransformerEncoderLayer object at 0x7ff7898e52b0>> could not be transformed and will be executed as-is. Please report this to the AutgoGraph team. When filing the bug, set the verbosity to 10 (on Linux, `export AUTOGRAPH_VERBOSITY=10`) and attach the full output. Cause: converting <bound method SingleTransformerEncoderLayer.call of <bert.transformer.SingleTransformerEncoderLayer object at 0x7ff7898e52b0>>: AssertionError: Bad argument number for Name: 3, expecting 4\n",
            "WARNING: Entity <bound method SingleTransformerEncoderLayer.call of <bert.transformer.SingleTransformerEncoderLayer object at 0x7ff7898e52b0>> could not be transformed and will be executed as-is. Please report this to the AutgoGraph team. When filing the bug, set the verbosity to 10 (on Linux, `export AUTOGRAPH_VERBOSITY=10`) and attach the full output. Cause: converting <bound method SingleTransformerEncoderLayer.call of <bert.transformer.SingleTransformerEncoderLayer object at 0x7ff7898e52b0>>: AssertionError: Bad argument number for Name: 3, expecting 4\n",
            "WARNING:tensorflow:Entity <bound method TransformerSelfAttentionLayer.call of <bert.transformer.TransformerSelfAttentionLayer object at 0x7ff789656080>> could not be transformed and will be executed as-is. Please report this to the AutgoGraph team. When filing the bug, set the verbosity to 10 (on Linux, `export AUTOGRAPH_VERBOSITY=10`) and attach the full output. Cause: converting <bound method TransformerSelfAttentionLayer.call of <bert.transformer.TransformerSelfAttentionLayer object at 0x7ff789656080>>: AssertionError: Bad argument number for Name: 3, expecting 4\n",
            "WARNING: Entity <bound method TransformerSelfAttentionLayer.call of <bert.transformer.TransformerSelfAttentionLayer object at 0x7ff789656080>> could not be transformed and will be executed as-is. Please report this to the AutgoGraph team. When filing the bug, set the verbosity to 10 (on Linux, `export AUTOGRAPH_VERBOSITY=10`) and attach the full output. Cause: converting <bound method TransformerSelfAttentionLayer.call of <bert.transformer.TransformerSelfAttentionLayer object at 0x7ff789656080>>: AssertionError: Bad argument number for Name: 3, expecting 4\n",
            "WARNING:tensorflow:Entity <bound method AttentionLayer.call of <bert.attention.AttentionLayer object at 0x7ff788f6a630>> could not be transformed and will be executed as-is. Please report this to the AutgoGraph team. When filing the bug, set the verbosity to 10 (on Linux, `export AUTOGRAPH_VERBOSITY=10`) and attach the full output. Cause: converting <bound method AttentionLayer.call of <bert.attention.AttentionLayer object at 0x7ff788f6a630>>: AttributeError: module 'gast' has no attribute 'Num'\n",
            "WARNING: Entity <bound method AttentionLayer.call of <bert.attention.AttentionLayer object at 0x7ff788f6a630>> could not be transformed and will be executed as-is. Please report this to the AutgoGraph team. When filing the bug, set the verbosity to 10 (on Linux, `export AUTOGRAPH_VERBOSITY=10`) and attach the full output. Cause: converting <bound method AttentionLayer.call of <bert.attention.AttentionLayer object at 0x7ff788f6a630>>: AttributeError: module 'gast' has no attribute 'Num'\n",
            "WARNING:tensorflow:Entity <bound method ProjectionLayer.call of <bert.transformer.ProjectionLayer object at 0x7ff788f6d6a0>> could not be transformed and will be executed as-is. Please report this to the AutgoGraph team. When filing the bug, set the verbosity to 10 (on Linux, `export AUTOGRAPH_VERBOSITY=10`) and attach the full output. Cause: converting <bound method ProjectionLayer.call of <bert.transformer.ProjectionLayer object at 0x7ff788f6d6a0>>: AssertionError: Bad argument number for Name: 3, expecting 4\n",
            "WARNING: Entity <bound method ProjectionLayer.call of <bert.transformer.ProjectionLayer object at 0x7ff788f6d6a0>> could not be transformed and will be executed as-is. Please report this to the AutgoGraph team. When filing the bug, set the verbosity to 10 (on Linux, `export AUTOGRAPH_VERBOSITY=10`) and attach the full output. Cause: converting <bound method ProjectionLayer.call of <bert.transformer.ProjectionLayer object at 0x7ff788f6d6a0>>: AssertionError: Bad argument number for Name: 3, expecting 4\n",
            "WARNING:tensorflow:Entity <bound method LayerNormalization.call of <params_flow.normalization.LayerNormalization object at 0x7ff788f27d68>> could not be transformed and will be executed as-is. Please report this to the AutgoGraph team. When filing the bug, set the verbosity to 10 (on Linux, `export AUTOGRAPH_VERBOSITY=10`) and attach the full output. Cause: converting <bound method LayerNormalization.call of <params_flow.normalization.LayerNormalization object at 0x7ff788f27d68>>: AssertionError: Bad argument number for Name: 3, expecting 4\n",
            "WARNING: Entity <bound method LayerNormalization.call of <params_flow.normalization.LayerNormalization object at 0x7ff788f27d68>> could not be transformed and will be executed as-is. Please report this to the AutgoGraph team. When filing the bug, set the verbosity to 10 (on Linux, `export AUTOGRAPH_VERBOSITY=10`) and attach the full output. Cause: converting <bound method LayerNormalization.call of <params_flow.normalization.LayerNormalization object at 0x7ff788f27d68>>: AssertionError: Bad argument number for Name: 3, expecting 4\n",
            "WARNING:tensorflow:Entity <bound method ProjectionLayer.call of <bert.transformer.ProjectionLayer object at 0x7ff7890300b8>> could not be transformed and will be executed as-is. Please report this to the AutgoGraph team. When filing the bug, set the verbosity to 10 (on Linux, `export AUTOGRAPH_VERBOSITY=10`) and attach the full output. Cause: converting <bound method ProjectionLayer.call of <bert.transformer.ProjectionLayer object at 0x7ff7890300b8>>: AssertionError: Bad argument number for Name: 3, expecting 4\n",
            "WARNING: Entity <bound method ProjectionLayer.call of <bert.transformer.ProjectionLayer object at 0x7ff7890300b8>> could not be transformed and will be executed as-is. Please report this to the AutgoGraph team. When filing the bug, set the verbosity to 10 (on Linux, `export AUTOGRAPH_VERBOSITY=10`) and attach the full output. Cause: converting <bound method ProjectionLayer.call of <bert.transformer.ProjectionLayer object at 0x7ff7890300b8>>: AssertionError: Bad argument number for Name: 3, expecting 4\n",
            "WARNING:tensorflow:Entity <bound method LayerNormalization.call of <params_flow.normalization.LayerNormalization object at 0x7ff788f17b38>> could not be transformed and will be executed as-is. Please report this to the AutgoGraph team. When filing the bug, set the verbosity to 10 (on Linux, `export AUTOGRAPH_VERBOSITY=10`) and attach the full output. Cause: converting <bound method LayerNormalization.call of <params_flow.normalization.LayerNormalization object at 0x7ff788f17b38>>: AssertionError: Bad argument number for Name: 3, expecting 4\n",
            "WARNING: Entity <bound method LayerNormalization.call of <params_flow.normalization.LayerNormalization object at 0x7ff788f17b38>> could not be transformed and will be executed as-is. Please report this to the AutgoGraph team. When filing the bug, set the verbosity to 10 (on Linux, `export AUTOGRAPH_VERBOSITY=10`) and attach the full output. Cause: converting <bound method LayerNormalization.call of <params_flow.normalization.LayerNormalization object at 0x7ff788f17b38>>: AssertionError: Bad argument number for Name: 3, expecting 4\n"
          ],
          "name": "stdout"
        }
      ]
    },
    {
      "cell_type": "code",
      "metadata": {
        "id": "H0XneYFweEmL"
      },
      "source": [
        "flat = tf.keras.layers.Flatten()(embed)\n",
        "image_inp = tf.keras.layers.Input(shape=(4096,))\n",
        "concat = tf.keras.layers.concatenate([image_inp,flat])\n",
        "# decoder_out = decoder(encoder_outputs,initial_state=[merged,merged])\n",
        "out = tf.keras.layers.Dense(2,kernel_initializer=initializers.he_normal(seed=42),activation='softmax')(concat)"
      ],
      "execution_count": null,
      "outputs": []
    },
    {
      "cell_type": "code",
      "metadata": {
        "id": "8E-gSAhTeTzz"
      },
      "source": [
        "model = tf.keras.Model(inputs = [image_inp,ques_inp],outputs = out)"
      ],
      "execution_count": null,
      "outputs": []
    },
    {
      "cell_type": "code",
      "metadata": {
        "id": "eP24kWx2eW3t",
        "colab": {
          "base_uri": "https://localhost:8080/"
        },
        "outputId": "5adb5630-e482-43ad-c9e0-02d96b9f26a1"
      },
      "source": [
        "model.summary()"
      ],
      "execution_count": null,
      "outputs": [
        {
          "output_type": "stream",
          "text": [
            "Model: \"model_13\"\n",
            "__________________________________________________________________________________________________\n",
            "Layer (type)                    Output Shape         Param #     Connected to                     \n",
            "==================================================================================================\n",
            "input_5 (InputLayer)            [(None, 24)]         0                                            \n",
            "__________________________________________________________________________________________________\n",
            "bert (BertModelLayer)           (None, 24, 768)      108890112   input_5[0][0]                    \n",
            "__________________________________________________________________________________________________\n",
            "input_6 (InputLayer)            [(None, 4096)]       0                                            \n",
            "__________________________________________________________________________________________________\n",
            "flatten_1 (Flatten)             (None, 18432)        0           bert[1][0]                       \n",
            "__________________________________________________________________________________________________\n",
            "concatenate_1 (Concatenate)     (None, 22528)        0           input_6[0][0]                    \n",
            "                                                                 flatten_1[0][0]                  \n",
            "__________________________________________________________________________________________________\n",
            "dense_14 (Dense)                (None, 2)            45058       concatenate_1[0][0]              \n",
            "==================================================================================================\n",
            "Total params: 108,935,170\n",
            "Trainable params: 45,058\n",
            "Non-trainable params: 108,890,112\n",
            "__________________________________________________________________________________________________\n"
          ],
          "name": "stdout"
        }
      ]
    },
    {
      "cell_type": "code",
      "metadata": {
        "id": "ntWhRWg0edSu"
      },
      "source": [
        "model.build(input_shape=[(None,4096),(None,24)])"
      ],
      "execution_count": null,
      "outputs": []
    },
    {
      "cell_type": "code",
      "metadata": {
        "id": "ICkcbj6ceiMT",
        "colab": {
          "base_uri": "https://localhost:8080/"
        },
        "outputId": "d3749f44-f956-4e5f-c0b0-0e49842a61c8"
      },
      "source": [
        "bert.load_bert_weights(l_bert, model_ckpt)"
      ],
      "execution_count": null,
      "outputs": [
        {
          "output_type": "stream",
          "text": [
            "Done loading 196 BERT weights from: .models/uncased_L-12_H-768_A-12/uncased_L-12_H-768_A-12/bert_model.ckpt into <bert.model.BertModelLayer object at 0x7ff789ffaf98> (prefix:bert). Count of weights not found in the checkpoint was: [0]. Count of weights with mismatched shape: [0]\n",
            "Unused weights from checkpoint: \n",
            "\tbert/embeddings/token_type_embeddings\n",
            "\tbert/pooler/dense/bias\n",
            "\tbert/pooler/dense/kernel\n",
            "\tcls/predictions/output_bias\n",
            "\tcls/predictions/transform/LayerNorm/beta\n",
            "\tcls/predictions/transform/LayerNorm/gamma\n",
            "\tcls/predictions/transform/dense/bias\n",
            "\tcls/predictions/transform/dense/kernel\n",
            "\tcls/seq_relationship/output_bias\n",
            "\tcls/seq_relationship/output_weights\n"
          ],
          "name": "stdout"
        },
        {
          "output_type": "execute_result",
          "data": {
            "text/plain": [
              "[]"
            ]
          },
          "metadata": {
            "tags": []
          },
          "execution_count": 247
        }
      ]
    },
    {
      "cell_type": "code",
      "metadata": {
        "id": "dgm1flx0hHy-",
        "colab": {
          "base_uri": "https://localhost:8080/"
        },
        "outputId": "130f5873-9f96-4469-c7f1-f68845128cf3"
      },
      "source": [
        "checkpoint = ModelCheckpoint(\"/content/drive/MyDrive/data/basic_model4.h5\",\n",
        "                             monitor=\"val_loss\",\n",
        "                             mode=\"min\",\n",
        "                             save_best_only = True,\n",
        "                             verbose=1)\n",
        "\n",
        "tensorboard = TensorBoard(log_dir='logs1',histogram_freq=1,write_grads=True)\n",
        "\n",
        "callbacks = [checkpoint,tensorboard]"
      ],
      "execution_count": null,
      "outputs": [
        {
          "output_type": "stream",
          "text": [
            "WARNING:tensorflow:Weight and gradient histograms not supported for eagerexecution, setting `histogram_freq` to `0`.\n"
          ],
          "name": "stdout"
        }
      ]
    },
    {
      "cell_type": "code",
      "metadata": {
        "colab": {
          "base_uri": "https://localhost:8080/"
        },
        "id": "qru7xD4eQ5NF",
        "outputId": "63d12042-676b-453e-acab-18dc314231a1"
      },
      "source": [
        "from tensorflow.keras.optimizers import RMSprop\r\n",
        "\r\n",
        "model.compile(optimizer='adam', loss='categorical_crossentropy', metrics=['accuracy'])\r\n",
        "model.fit(train_dataset,   epochs=30, validation_data=(test_dataset))"
      ],
      "execution_count": null,
      "outputs": [
        {
          "output_type": "stream",
          "text": [
            "WARNING:tensorflow:Expected a shuffled dataset but input dataset `x` is not shuffled. Please invoke `shuffle()` on input dataset.\n",
            "Epoch 1/30\n",
            "1/1 [==============================] - 9s 9s/step - loss: 0.6830 - acc: 0.5000 - val_loss: 4.3695 - val_acc: 0.5882\n",
            "Epoch 2/30\n",
            "1/1 [==============================] - 2s 2s/step - loss: 4.0449 - acc: 0.5789 - val_loss: 1.1392 - val_acc: 0.4118\n",
            "Epoch 3/30\n",
            "1/1 [==============================] - 2s 2s/step - loss: 1.1208 - acc: 0.4737 - val_loss: 2.5710 - val_acc: 0.4118\n",
            "Epoch 4/30\n",
            "1/1 [==============================] - 2s 2s/step - loss: 2.0878 - acc: 0.4211 - val_loss: 0.8335 - val_acc: 0.5882\n",
            "Epoch 5/30\n",
            "1/1 [==============================] - 2s 2s/step - loss: 0.8279 - acc: 0.6053 - val_loss: 1.4562 - val_acc: 0.5882\n",
            "Epoch 6/30\n",
            "1/1 [==============================] - 2s 2s/step - loss: 1.3062 - acc: 0.6053 - val_loss: 0.6868 - val_acc: 0.5882\n",
            "Epoch 7/30\n",
            "1/1 [==============================] - 2s 2s/step - loss: 0.7334 - acc: 0.5526 - val_loss: 1.3421 - val_acc: 0.4118\n",
            "Epoch 8/30\n",
            "1/1 [==============================] - 2s 2s/step - loss: 1.1352 - acc: 0.4737 - val_loss: 0.7374 - val_acc: 0.5882\n",
            "Epoch 9/30\n",
            "1/1 [==============================] - 2s 2s/step - loss: 0.6470 - acc: 0.6842 - val_loss: 1.1748 - val_acc: 0.5882\n",
            "Epoch 10/30\n",
            "1/1 [==============================] - 2s 2s/step - loss: 0.8746 - acc: 0.6053 - val_loss: 1.3277 - val_acc: 0.5882\n",
            "Epoch 11/30\n",
            "1/1 [==============================] - 2s 2s/step - loss: 1.0737 - acc: 0.6053 - val_loss: 0.6915 - val_acc: 0.5882\n",
            "Epoch 12/30\n",
            "1/1 [==============================] - 2s 2s/step - loss: 0.6914 - acc: 0.6053 - val_loss: 0.8137 - val_acc: 0.4706\n",
            "Epoch 13/30\n",
            "1/1 [==============================] - 2s 2s/step - loss: 0.8926 - acc: 0.5000 - val_loss: 0.6794 - val_acc: 0.4706\n",
            "Epoch 14/30\n",
            "1/1 [==============================] - 2s 2s/step - loss: 0.6510 - acc: 0.6053 - val_loss: 0.8745 - val_acc: 0.5882\n",
            "Epoch 15/30\n",
            "1/1 [==============================] - 2s 2s/step - loss: 0.5294 - acc: 0.7105 - val_loss: 1.0575 - val_acc: 0.5882\n",
            "Epoch 16/30\n",
            "1/1 [==============================] - 2s 2s/step - loss: 0.7649 - acc: 0.6316 - val_loss: 0.7857 - val_acc: 0.5882\n",
            "Epoch 17/30\n",
            "1/1 [==============================] - 2s 2s/step - loss: 0.6400 - acc: 0.6842 - val_loss: 0.6801 - val_acc: 0.4118\n",
            "Epoch 18/30\n",
            "1/1 [==============================] - 2s 2s/step - loss: 0.6187 - acc: 0.6579 - val_loss: 0.7232 - val_acc: 0.4706\n",
            "Epoch 19/30\n",
            "1/1 [==============================] - 2s 2s/step - loss: 0.6857 - acc: 0.5789 - val_loss: 0.6758 - val_acc: 0.5882\n",
            "Epoch 20/30\n",
            "1/1 [==============================] - 2s 2s/step - loss: 0.6676 - acc: 0.6053 - val_loss: 0.7696 - val_acc: 0.5882\n",
            "Epoch 21/30\n",
            "1/1 [==============================] - 2s 2s/step - loss: 0.6232 - acc: 0.6579 - val_loss: 0.7205 - val_acc: 0.5882\n",
            "Epoch 22/30\n",
            "1/1 [==============================] - 2s 2s/step - loss: 0.6044 - acc: 0.6579 - val_loss: 0.8083 - val_acc: 0.5882\n",
            "Epoch 23/30\n",
            "1/1 [==============================] - 2s 2s/step - loss: 0.6711 - acc: 0.5789 - val_loss: 0.8441 - val_acc: 0.5294\n",
            "Epoch 24/30\n",
            "1/1 [==============================] - 2s 2s/step - loss: 0.5470 - acc: 0.6842 - val_loss: 0.6747 - val_acc: 0.5882\n",
            "Epoch 25/30\n",
            "1/1 [==============================] - 2s 2s/step - loss: 0.4987 - acc: 0.7632 - val_loss: 0.7562 - val_acc: 0.5882\n",
            "Epoch 26/30\n",
            "1/1 [==============================] - 2s 2s/step - loss: 0.7215 - acc: 0.6316 - val_loss: 0.6826 - val_acc: 0.6471\n",
            "Epoch 27/30\n",
            "1/1 [==============================] - 2s 2s/step - loss: 0.5491 - acc: 0.7632 - val_loss: 0.7567 - val_acc: 0.4706\n",
            "Epoch 28/30\n",
            "1/1 [==============================] - 2s 2s/step - loss: 0.5800 - acc: 0.6316 - val_loss: 0.8363 - val_acc: 0.5882\n",
            "Epoch 29/30\n",
            "1/1 [==============================] - 2s 2s/step - loss: 0.5240 - acc: 0.6579 - val_loss: 0.6818 - val_acc: 0.6471\n",
            "Epoch 30/30\n",
            "1/1 [==============================] - 2s 2s/step - loss: 0.4804 - acc: 0.7368 - val_loss: 0.7307 - val_acc: 0.5294\n"
          ],
          "name": "stdout"
        },
        {
          "output_type": "execute_result",
          "data": {
            "text/plain": [
              "<tensorflow.python.keras.callbacks.History at 0x7ff74d360128>"
            ]
          },
          "metadata": {
            "tags": []
          },
          "execution_count": 249
        }
      ]
    },
    {
      "cell_type": "code",
      "metadata": {
        "id": "bFRJ_1eACMe-"
      },
      "source": [
        "#save model to the drive\r\n",
        "#import os\r\n",
        "#target_dir = '/content/drive/MyDrive/data/'\r\n",
        "#if not os.path.exists(target_dir):\r\n",
        "#  os.mkdir(target_dir)\r\n",
        "#model.save('/content/drive/MyDrive/data/bert_trained.h5')\r\n",
        "#model.save_weights('/content/drive/MyDrive/data/bert_weights.h5')"
      ],
      "execution_count": null,
      "outputs": []
    },
    {
      "cell_type": "markdown",
      "metadata": {
        "id": "mf1G95-XmDlp"
      },
      "source": [
        "# **SUMMARY**"
      ]
    },
    {
      "cell_type": "code",
      "metadata": {
        "id": "cZDY3DwN2YZz",
        "colab": {
          "base_uri": "https://localhost:8080/"
        },
        "outputId": "e722f433-0032-49ae-fd21-7e314b73693a"
      },
      "source": [
        "from prettytable import PrettyTable\n",
        "    \n",
        "x = PrettyTable()\n",
        "\n",
        "x.field_names = [\"Model\",\"Model Type\",\"Train loss\",\"Test loss\",\"Train Accuracy\",\"Test Accuracy\"]\n",
        "\n",
        "x.add_row([ \"Model 1\",\"Using Glove\",0.6679,0.7345,0.6238,0.5406])\n",
        "x.add_row([ \"Model 2\", \"BERT Embeddings Model\",0.6934,0.6936,0.5546,0.5412])\n",
        "x.add_row([ \"Model 3\", \"Using Spacy\",0.1248,0.9531,0.9018,0.8068])\n",
        "print(x)"
      ],
      "execution_count": null,
      "outputs": [
        {
          "output_type": "stream",
          "text": [
            "+---------+-----------------------+------------+-----------+----------------+---------------+\n",
            "|  Model  |       Model Type      | Train loss | Test loss | Train Accuracy | Test Accuracy |\n",
            "+---------+-----------------------+------------+-----------+----------------+---------------+\n",
            "| Model 1 |      Using Glove      |   0.6679   |   0.7345  |     0.6238     |     0.5406    |\n",
            "| Model 2 | BERT Embeddings Model |   0.6934   |   0.6936  |     0.5546     |     0.5412    |\n",
            "| Model 3 |      Using Spacy      |   0.1248   |   0.9531  |     0.9018     |     0.8068    |\n",
            "+---------+-----------------------+------------+-----------+----------------+---------------+\n"
          ],
          "name": "stdout"
        }
      ]
    }
  ]
}